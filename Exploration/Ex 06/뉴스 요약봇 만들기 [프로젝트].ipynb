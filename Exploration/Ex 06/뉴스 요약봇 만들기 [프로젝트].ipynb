{
 "cells": [
  {
   "cell_type": "markdown",
   "id": "dbd381fb",
   "metadata": {},
   "source": [
    "# 뉴스기사 요약하기"
   ]
  },
  {
   "cell_type": "markdown",
   "id": "04ffac2a",
   "metadata": {},
   "source": [
    "라이브러리 버전 확인하기"
   ]
  },
  {
   "cell_type": "code",
   "execution_count": 1,
   "id": "8abd7be0",
   "metadata": {},
   "outputs": [
    {
     "name": "stderr",
     "output_type": "stream",
     "text": [
      "[nltk_data] Downloading package stopwords to /aiffel/nltk_data...\n",
      "[nltk_data]   Package stopwords is already up-to-date!\n"
     ]
    },
    {
     "name": "stdout",
     "output_type": "stream",
     "text": [
      "3.6.5\n",
      "2.6.0\n",
      "1.3.3\n",
      "1.2.0\n"
     ]
    }
   ],
   "source": [
    "from importlib.metadata import version\n",
    "import nltk\n",
    "import tensorflow\n",
    "import summa\n",
    "import pandas as pd\n",
    "\n",
    "import nltk\n",
    "nltk.download('stopwords')\n",
    "\n",
    "import numpy as np\n",
    "import pandas as pd\n",
    "import os\n",
    "import re\n",
    "import matplotlib.pyplot as plt\n",
    "from nltk.corpus import stopwords\n",
    "from bs4 import BeautifulSoup \n",
    "from tensorflow.keras.preprocessing.text import Tokenizer \n",
    "from tensorflow.keras.preprocessing.sequence import pad_sequences\n",
    "import urllib.request\n",
    "import warnings\n",
    "warnings.filterwarnings(\"ignore\", category=UserWarning, module='bs4')\n",
    "\n",
    "print(nltk.__version__)\n",
    "print(tensorflow.__version__)\n",
    "print(pd.__version__)\n",
    "print(version('summa'))"
   ]
  },
  {
   "cell_type": "code",
   "execution_count": 2,
   "id": "27f5547e",
   "metadata": {},
   "outputs": [],
   "source": [
    "import urllib.request\n",
    "urllib.request.urlretrieve(\"https://raw.githubusercontent.com/sunnysai12345/News_Summary/master/news_summary_more.csv\", filename=\"news_summary_more.csv\")\n",
    "data = pd.read_csv('news_summary_more.csv', encoding='iso-8859-1')"
   ]
  },
  {
   "cell_type": "code",
   "execution_count": 3,
   "id": "1dca8705",
   "metadata": {},
   "outputs": [
    {
     "name": "stdout",
     "output_type": "stream",
     "text": [
      "전체 샘플수 : 98401\n"
     ]
    }
   ],
   "source": [
    "print('전체 샘플수 :', (len(data)))"
   ]
  },
  {
   "cell_type": "code",
   "execution_count": 4,
   "id": "5a308838",
   "metadata": {},
   "outputs": [
    {
     "data": {
      "text/html": [
       "<div>\n",
       "<style scoped>\n",
       "    .dataframe tbody tr th:only-of-type {\n",
       "        vertical-align: middle;\n",
       "    }\n",
       "\n",
       "    .dataframe tbody tr th {\n",
       "        vertical-align: top;\n",
       "    }\n",
       "\n",
       "    .dataframe thead th {\n",
       "        text-align: right;\n",
       "    }\n",
       "</style>\n",
       "<table border=\"1\" class=\"dataframe\">\n",
       "  <thead>\n",
       "    <tr style=\"text-align: right;\">\n",
       "      <th></th>\n",
       "      <th>headlines</th>\n",
       "      <th>text</th>\n",
       "    </tr>\n",
       "  </thead>\n",
       "  <tbody>\n",
       "    <tr>\n",
       "      <th>90587</th>\n",
       "      <td>MakeMyTrip to raise Ã¢ÂÂ¹2,115 crore via shar...</td>\n",
       "      <td>Online travel firm MakeMyTrip on Wednesday sai...</td>\n",
       "    </tr>\n",
       "    <tr>\n",
       "      <th>78709</th>\n",
       "      <td>Twitter users react to Pahlaj's remark on alco...</td>\n",
       "      <td>Reacting to Censor Board chief Pahlaj Nihalani...</td>\n",
       "    </tr>\n",
       "    <tr>\n",
       "      <th>11848</th>\n",
       "      <td>'Om Shanti Om' changed my life overnight: Deep...</td>\n",
       "      <td>Talking about her debut film 'Om Shanti Om', D...</td>\n",
       "    </tr>\n",
       "    <tr>\n",
       "      <th>37450</th>\n",
       "      <td>Virgin Hyperloop One to make Ã¢ÂÂ¹3,000 crore...</td>\n",
       "      <td>Richard Branson-led Virgin Hyperloop One will ...</td>\n",
       "    </tr>\n",
       "    <tr>\n",
       "      <th>52985</th>\n",
       "      <td>Astronaut claims he grew taller by 9 cm in 3 w...</td>\n",
       "      <td>Japanese astronaut Norishige Kanai has claimed...</td>\n",
       "    </tr>\n",
       "    <tr>\n",
       "      <th>22266</th>\n",
       "      <td>8 villages with Muslim names renamed by Rajast...</td>\n",
       "      <td>The Rajasthan government has changed the name ...</td>\n",
       "    </tr>\n",
       "    <tr>\n",
       "      <th>46006</th>\n",
       "      <td>Climate change could lower Amazon forest cover...</td>\n",
       "      <td>Negative synergies between deforestation, clim...</td>\n",
       "    </tr>\n",
       "    <tr>\n",
       "      <th>61340</th>\n",
       "      <td>Man detained for threatening to hijack Mumbai-...</td>\n",
       "      <td>A man was detained on Monday at the Cochin Int...</td>\n",
       "    </tr>\n",
       "    <tr>\n",
       "      <th>65236</th>\n",
       "      <td>College student sexually assaulted by 6 men, a...</td>\n",
       "      <td>A second-year college student who was with her...</td>\n",
       "    </tr>\n",
       "    <tr>\n",
       "      <th>83648</th>\n",
       "      <td>Sachin only Indian in Ashwin's dream internati...</td>\n",
       "      <td>Indian spinner Ravichandran Ashwin's all-time ...</td>\n",
       "    </tr>\n",
       "  </tbody>\n",
       "</table>\n",
       "</div>"
      ],
      "text/plain": [
       "                                               headlines  \\\n",
       "90587  MakeMyTrip to raise Ã¢ÂÂ¹2,115 crore via shar...   \n",
       "78709  Twitter users react to Pahlaj's remark on alco...   \n",
       "11848  'Om Shanti Om' changed my life overnight: Deep...   \n",
       "37450  Virgin Hyperloop One to make Ã¢ÂÂ¹3,000 crore...   \n",
       "52985  Astronaut claims he grew taller by 9 cm in 3 w...   \n",
       "22266  8 villages with Muslim names renamed by Rajast...   \n",
       "46006  Climate change could lower Amazon forest cover...   \n",
       "61340  Man detained for threatening to hijack Mumbai-...   \n",
       "65236  College student sexually assaulted by 6 men, a...   \n",
       "83648  Sachin only Indian in Ashwin's dream internati...   \n",
       "\n",
       "                                                    text  \n",
       "90587  Online travel firm MakeMyTrip on Wednesday sai...  \n",
       "78709  Reacting to Censor Board chief Pahlaj Nihalani...  \n",
       "11848  Talking about her debut film 'Om Shanti Om', D...  \n",
       "37450  Richard Branson-led Virgin Hyperloop One will ...  \n",
       "52985  Japanese astronaut Norishige Kanai has claimed...  \n",
       "22266  The Rajasthan government has changed the name ...  \n",
       "46006  Negative synergies between deforestation, clim...  \n",
       "61340  A man was detained on Monday at the Cochin Int...  \n",
       "65236  A second-year college student who was with her...  \n",
       "83648  Indian spinner Ravichandran Ashwin's all-time ...  "
      ]
     },
     "execution_count": 4,
     "metadata": {},
     "output_type": "execute_result"
    }
   ],
   "source": [
    "data.sample(10)"
   ]
  },
  {
   "cell_type": "markdown",
   "id": "b402b52d",
   "metadata": {},
   "source": [
    "# step2. 데이터 전처리하기"
   ]
  },
  {
   "cell_type": "markdown",
   "id": "4cc24b1b",
   "metadata": {},
   "source": [
    "### 데이터 중복 샘플 유무 확인  \n",
    "- text 중복 샘플 삭제"
   ]
  },
  {
   "cell_type": "code",
   "execution_count": 5,
   "id": "52895a6e",
   "metadata": {},
   "outputs": [
    {
     "name": "stdout",
     "output_type": "stream",
     "text": [
      "text 열에서 중복을 배제한 유일한 샘플의 수 : 98360\n",
      "headlines 열에서 중복을 배제한 유일한 샘플의 수 : 98280\n"
     ]
    }
   ],
   "source": [
    "print('text 열에서 중복을 배제한 유일한 샘플의 수 :', data['text'].nunique())\n",
    "print('headlines 열에서 중복을 배제한 유일한 샘플의 수 :', data['headlines'].nunique())"
   ]
  },
  {
   "cell_type": "code",
   "execution_count": 6,
   "id": "aeb723d8",
   "metadata": {},
   "outputs": [
    {
     "name": "stdout",
     "output_type": "stream",
     "text": [
      "전체 샘플수 : 98360\n"
     ]
    }
   ],
   "source": [
    "# inplace=True 를 설정하면 DataFrame 타입 값을 return 하지 않고 data 내부를 직접적으로 바꿉니다\n",
    "data.drop_duplicates(subset = ['text'], inplace=True)\n",
    "print('전체 샘플수 :', (len(data)))"
   ]
  },
  {
   "cell_type": "markdown",
   "id": "eefd1ed4",
   "metadata": {},
   "source": [
    "### null값 확인  \n",
    "- null값 없음"
   ]
  },
  {
   "cell_type": "code",
   "execution_count": 7,
   "id": "a3574e15",
   "metadata": {},
   "outputs": [
    {
     "name": "stdout",
     "output_type": "stream",
     "text": [
      "headlines    0\n",
      "text         0\n",
      "dtype: int64\n"
     ]
    }
   ],
   "source": [
    "print(data.isnull().sum())"
   ]
  },
  {
   "cell_type": "markdown",
   "id": "56efaced",
   "metadata": {},
   "source": [
    "### 정규화를 위한 사전"
   ]
  },
  {
   "cell_type": "code",
   "execution_count": 8,
   "id": "b32c47d4",
   "metadata": {},
   "outputs": [
    {
     "name": "stdout",
     "output_type": "stream",
     "text": [
      "정규화 사전의 수:  120\n"
     ]
    }
   ],
   "source": [
    "contractions = {\"ain't\": \"is not\", \"aren't\": \"are not\",\"can't\": \"cannot\", \"'cause\": \"because\", \"could've\": \"could have\", \"couldn't\": \"could not\",\n",
    "                           \"didn't\": \"did not\",  \"doesn't\": \"does not\", \"don't\": \"do not\", \"hadn't\": \"had not\", \"hasn't\": \"has not\", \"haven't\": \"have not\",\n",
    "                           \"he'd\": \"he would\",\"he'll\": \"he will\", \"he's\": \"he is\", \"how'd\": \"how did\", \"how'd'y\": \"how do you\", \"how'll\": \"how will\", \"how's\": \"how is\",\n",
    "                           \"I'd\": \"I would\", \"I'd've\": \"I would have\", \"I'll\": \"I will\", \"I'll've\": \"I will have\",\"I'm\": \"I am\", \"I've\": \"I have\", \"i'd\": \"i would\",\n",
    "                           \"i'd've\": \"i would have\", \"i'll\": \"i will\",  \"i'll've\": \"i will have\",\"i'm\": \"i am\", \"i've\": \"i have\", \"isn't\": \"is not\", \"it'd\": \"it would\",\n",
    "                           \"it'd've\": \"it would have\", \"it'll\": \"it will\", \"it'll've\": \"it will have\",\"it's\": \"it is\", \"let's\": \"let us\", \"ma'am\": \"madam\",\n",
    "                           \"mayn't\": \"may not\", \"might've\": \"might have\",\"mightn't\": \"might not\",\"mightn't've\": \"might not have\", \"must've\": \"must have\",\n",
    "                           \"mustn't\": \"must not\", \"mustn't've\": \"must not have\", \"needn't\": \"need not\", \"needn't've\": \"need not have\",\"o'clock\": \"of the clock\",\n",
    "                           \"oughtn't\": \"ought not\", \"oughtn't've\": \"ought not have\", \"shan't\": \"shall not\", \"sha'n't\": \"shall not\", \"shan't've\": \"shall not have\",\n",
    "                           \"she'd\": \"she would\", \"she'd've\": \"she would have\", \"she'll\": \"she will\", \"she'll've\": \"she will have\", \"she's\": \"she is\",\n",
    "                           \"should've\": \"should have\", \"shouldn't\": \"should not\", \"shouldn't've\": \"should not have\", \"so've\": \"so have\",\"so's\": \"so as\",\n",
    "                           \"this's\": \"this is\",\"that'd\": \"that would\", \"that'd've\": \"that would have\", \"that's\": \"that is\", \"there'd\": \"there would\",\n",
    "                           \"there'd've\": \"there would have\", \"there's\": \"there is\", \"here's\": \"here is\",\"they'd\": \"they would\", \"they'd've\": \"they would have\",\n",
    "                           \"they'll\": \"they will\", \"they'll've\": \"they will have\", \"they're\": \"they are\", \"they've\": \"they have\", \"to've\": \"to have\",\n",
    "                           \"wasn't\": \"was not\", \"we'd\": \"we would\", \"we'd've\": \"we would have\", \"we'll\": \"we will\", \"we'll've\": \"we will have\", \"we're\": \"we are\",\n",
    "                           \"we've\": \"we have\", \"weren't\": \"were not\", \"what'll\": \"what will\", \"what'll've\": \"what will have\", \"what're\": \"what are\",\n",
    "                           \"what's\": \"what is\", \"what've\": \"what have\", \"when's\": \"when is\", \"when've\": \"when have\", \"where'd\": \"where did\", \"where's\": \"where is\",\n",
    "                           \"where've\": \"where have\", \"who'll\": \"who will\", \"who'll've\": \"who will have\", \"who's\": \"who is\", \"who've\": \"who have\",\n",
    "                           \"why's\": \"why is\", \"why've\": \"why have\", \"will've\": \"will have\", \"won't\": \"will not\", \"won't've\": \"will not have\",\n",
    "                           \"would've\": \"would have\", \"wouldn't\": \"would not\", \"wouldn't've\": \"would not have\", \"y'all\": \"you all\",\n",
    "                           \"y'all'd\": \"you all would\",\"y'all'd've\": \"you all would have\",\"y'all're\": \"you all are\",\"y'all've\": \"you all have\",\n",
    "                           \"you'd\": \"you would\", \"you'd've\": \"you would have\", \"you'll\": \"you will\", \"you'll've\": \"you will have\",\n",
    "                           \"you're\": \"you are\", \"you've\": \"you have\"}\n",
    "\n",
    "print(\"정규화 사전의 수: \", len(contractions))"
   ]
  },
  {
   "cell_type": "markdown",
   "id": "d699bb49",
   "metadata": {},
   "source": [
    "### 데이터 전처리 함수"
   ]
  },
  {
   "cell_type": "code",
   "execution_count": 9,
   "id": "41e68b34",
   "metadata": {},
   "outputs": [
    {
     "name": "stdout",
     "output_type": "stream",
     "text": [
      "완료\n"
     ]
    }
   ],
   "source": [
    "# 데이터 전처리 함수\n",
    "def preprocess_sentence(sentence, remove_stopwords=True):\n",
    "    sentence = sentence.lower() # 텍스트 소문자화\n",
    "    sentence = BeautifulSoup(sentence, \"lxml\").text # <br />, <a href = ...> 등의 html 태그 제거\n",
    "    sentence = re.sub(r'\\([^)]*\\)', '', sentence) # 괄호로 닫힌 문자열 (...) 제거 Ex) my husband (and myself!) for => my husband for\n",
    "    sentence = re.sub('\"','', sentence) # 쌍따옴표 \" 제거\n",
    "    sentence = ' '.join([contractions[t] if t in contractions else t for t in sentence.split(\" \")]) # 약어 정규화\n",
    "    sentence = re.sub(r\"'s\\b\",\"\", sentence) # 소유격 제거. Ex) roland's -> roland\n",
    "    sentence = re.sub(\"[^a-zA-Z]\", \" \", sentence) # 영어 외 문자(숫자, 특수문자 등) 공백으로 변환\n",
    "    sentence = re.sub('[m]{2,}', 'mm', sentence) # m이 3개 이상이면 2개로 변경. Ex) ummmmmmm yeah -> umm yeah\n",
    "    \n",
    "    # 불용어 제거 (text)\n",
    "    if remove_stopwords:\n",
    "        tokens = ' '.join(word for word in sentence.split() if not word in stopwords.words('english') if len(word) > 1)\n",
    "    # 불용어 미제거 (Summary)\n",
    "    else:\n",
    "        tokens = ' '.join(word for word in sentence.split() if len(word) > 1)\n",
    "    return tokens\n",
    "print('완료')"
   ]
  },
  {
   "cell_type": "markdown",
   "id": "bdfd845c",
   "metadata": {},
   "source": [
    "### headlines은 불용어 미제거"
   ]
  },
  {
   "cell_type": "code",
   "execution_count": 10,
   "id": "cc6a3477",
   "metadata": {},
   "outputs": [
    {
     "name": "stdout",
     "output_type": "stream",
     "text": [
      "headlines 전처리 후 결과:  ['upgrad learner switches to career in ml al with salary hike', 'delhi techie wins free food from swiggy for one year on cred', 'new zealand end rohit sharma led india match winning streak', 'aegon life iterm insurance plan helps customers save tax', 'have known hirani for yrs what if metoo claims are not true sonam']\n"
     ]
    }
   ],
   "source": [
    "clean_headlines = []\n",
    "\n",
    "for temp_headlines in data['headlines']:\n",
    "    result = preprocess_sentence(temp_headlines, False)\n",
    "    clean_headlines.append(result)\n",
    "\n",
    "print(\"headlines 전처리 후 결과: \", clean_headlines[:5])"
   ]
  },
  {
   "cell_type": "markdown",
   "id": "2db2d797",
   "metadata": {},
   "source": [
    "### text는 불용어 제거"
   ]
  },
  {
   "cell_type": "code",
   "execution_count": 11,
   "id": "0344ae1c",
   "metadata": {},
   "outputs": [
    {
     "name": "stdout",
     "output_type": "stream",
     "text": [
      "text 전처리 후 결과:  ['saurav kant alumnus upgrad iiit pg program machine learning artificial intelligence sr systems engineer infosys almost years work experience program upgrad degree career support helped transition data scientist tech mahindra salary hike upgrad online power learning powered lakh careers', 'kunal shah credit card bill payment platform cred gave users chance win free food swiggy one year pranav kaushik delhi techie bagged reward spending cred coins users get one cred coin per rupee bill paid used avail rewards brands like ixigo bookmyshow ubereats cult fit', 'new zealand defeated india wickets fourth odi hamilton thursday win first match five match odi series india lost international match rohit sharma captaincy consecutive victories dating back march match witnessed india getting seventh lowest total odi cricket history', 'aegon life iterm insurance plan customers enjoy tax benefits premiums paid save taxes plan provides life cover age years also customers options insure critical illnesses disability accidental death benefit rider life cover age years', 'speaking sexual harassment allegations rajkumar hirani sonam kapoor said known hirani many years true metoo movement get derailed metoo movement always believe woman case need reserve judgment added hirani accused assistant worked sanju']\n"
     ]
    }
   ],
   "source": [
    "clean_text = []\n",
    "\n",
    "for temp_text in data['text']:\n",
    "    result = preprocess_sentence(temp_text)\n",
    "    clean_text.append(result)\n",
    "\n",
    "print(\"text 전처리 후 결과: \", clean_text[:5])"
   ]
  },
  {
   "cell_type": "markdown",
   "id": "f074b2b9",
   "metadata": {},
   "source": [
    "### 빈 샘플 있는 지 확인\n",
    "- 빈 샘플 없다"
   ]
  },
  {
   "cell_type": "code",
   "execution_count": 12,
   "id": "a21dc69f",
   "metadata": {},
   "outputs": [
    {
     "data": {
      "text/plain": [
       "headlines    0\n",
       "text         0\n",
       "dtype: int64"
      ]
     },
     "execution_count": 12,
     "metadata": {},
     "output_type": "execute_result"
    }
   ],
   "source": [
    "data['headlines'] = clean_headlines\n",
    "data['text'] = clean_text\n",
    "\n",
    "# 빈 값을 Null 값으로 변환\n",
    "data.replace('', np.nan, inplace=True)\n",
    "data.isnull().sum()"
   ]
  },
  {
   "cell_type": "markdown",
   "id": "4fe413ea",
   "metadata": {},
   "source": [
    "### 샘플의 최대 길이 구하기"
   ]
  },
  {
   "cell_type": "code",
   "execution_count": 13,
   "id": "19eaee18",
   "metadata": {},
   "outputs": [
    {
     "name": "stdout",
     "output_type": "stream",
     "text": [
      "헤드라인의 최소 길이 : 1\n",
      "헤드라인의 최대 길이 : 16\n",
      "헤드라인의 평균 길이 : 9.299532330215534\n",
      "텍스트의 최소 길이 : 1\n",
      "텍스트의 최대 길이 : 60\n",
      "텍스트의 평균 길이 : 35.09968483123221\n"
     ]
    },
    {
     "data": {
      "image/png": "[encoded data removed]",
      "text/plain": [
       "<Figure size 432x288 with 2 Axes>"
      ]
     },
     "metadata": {
      "needs_background": "light"
     },
     "output_type": "display_data"
    },
    {
     "data": {
      "image/png": "[encoded data removed]",
      "text/plain": [
       "<Figure size 432x288 with 1 Axes>"
      ]
     },
     "metadata": {
      "needs_background": "light"
     },
     "output_type": "display_data"
    },
    {
     "data": {
      "image/png": "[encoded data removed]",
      "text/plain": [
       "<Figure size 432x288 with 1 Axes>"
      ]
     },
     "metadata": {
      "needs_background": "light"
     },
     "output_type": "display_data"
    }
   ],
   "source": [
    "# 길이 분포 출력\n",
    "import matplotlib.pyplot as plt\n",
    "\n",
    "headlines_len = [len(s.split()) for s in data['headlines']]\n",
    "text_len = [len(s.split()) for s in data['text']]\n",
    "\n",
    "print('헤드라인의 최소 길이 : {}'.format(np.min(headlines_len)))\n",
    "print('헤드라인의 최대 길이 : {}'.format(np.max(headlines_len)))\n",
    "print('헤드라인의 평균 길이 : {}'.format(np.mean(headlines_len)))\n",
    "print('텍스트의 최소 길이 : {}'.format(np.min(text_len)))\n",
    "print('텍스트의 최대 길이 : {}'.format(np.max(text_len)))\n",
    "print('텍스트의 평균 길이 : {}'.format(np.mean(text_len)))\n",
    "\n",
    "plt.subplot(1,2,1)\n",
    "plt.boxplot(headlines_len)\n",
    "plt.title('Headlines')\n",
    "plt.subplot(1,2,2)\n",
    "plt.boxplot(text_len)\n",
    "plt.title('text')\n",
    "plt.tight_layout()\n",
    "plt.show()\n",
    "\n",
    "plt.title('Headlines')\n",
    "plt.hist(headlines_len, bins = 40)\n",
    "plt.xlabel('length of samples')\n",
    "plt.ylabel('number of samples')\n",
    "plt.show()\n",
    "\n",
    "plt.title('text')\n",
    "plt.hist(text_len, bins = 40)\n",
    "plt.xlabel('length of samples')\n",
    "plt.ylabel('number of samples')\n",
    "plt.show()"
   ]
  },
  {
   "cell_type": "markdown",
   "id": "3b9d7d2a",
   "metadata": {},
   "source": [
    "### headlines, text 최대 길이 정하기"
   ]
  },
  {
   "cell_type": "code",
   "execution_count": 14,
   "id": "e878898f",
   "metadata": {},
   "outputs": [
    {
     "name": "stdout",
     "output_type": "stream",
     "text": [
      "완료\n"
     ]
    }
   ],
   "source": [
    "headlines_max_len = 12\n",
    "text_max_len = 40\n",
    "\n",
    "def below_threshold_len(max_len, nested_list):\n",
    "  cnt = 0\n",
    "  for s in nested_list:\n",
    "    if(len(s.split()) <= max_len):\n",
    "        cnt = cnt + 1\n",
    "  print('전체 샘플 중 길이가 %s 이하인 샘플의 비율: %s'%(max_len, (cnt / len(nested_list))))\n",
    "\n",
    "print('완료')"
   ]
  },
  {
   "cell_type": "code",
   "execution_count": 15,
   "id": "682d226c",
   "metadata": {},
   "outputs": [
    {
     "name": "stdout",
     "output_type": "stream",
     "text": [
      "전체 샘플 중 길이가 12 이하인 샘플의 비율: 0.9880337535583571\n",
      "전체 샘플 중 길이가 40 이하인 샘플의 비율: 0.9238714924766165\n"
     ]
    }
   ],
   "source": [
    "below_threshold_len(headlines_max_len, data['headlines'])\n",
    "below_threshold_len(text_max_len,  data['text'])"
   ]
  },
  {
   "cell_type": "markdown",
   "id": "f3610852",
   "metadata": {},
   "source": [
    "### headlines에 시작토큰과 종료토큰 붙이기"
   ]
  },
  {
   "cell_type": "code",
   "execution_count": 16,
   "id": "8d2e0384",
   "metadata": {},
   "outputs": [
    {
     "data": {
      "text/html": [
       "<div>\n",
       "<style scoped>\n",
       "    .dataframe tbody tr th:only-of-type {\n",
       "        vertical-align: middle;\n",
       "    }\n",
       "\n",
       "    .dataframe tbody tr th {\n",
       "        vertical-align: top;\n",
       "    }\n",
       "\n",
       "    .dataframe thead th {\n",
       "        text-align: right;\n",
       "    }\n",
       "</style>\n",
       "<table border=\"1\" class=\"dataframe\">\n",
       "  <thead>\n",
       "    <tr style=\"text-align: right;\">\n",
       "      <th></th>\n",
       "      <th>headlines</th>\n",
       "      <th>text</th>\n",
       "      <th>decoder_input</th>\n",
       "      <th>decoder_target</th>\n",
       "    </tr>\n",
       "  </thead>\n",
       "  <tbody>\n",
       "    <tr>\n",
       "      <th>0</th>\n",
       "      <td>upgrad learner switches to career in ml al wit...</td>\n",
       "      <td>saurav kant alumnus upgrad iiit pg program mac...</td>\n",
       "      <td>sostoken upgrad learner switches to career in ...</td>\n",
       "      <td>upgrad learner switches to career in ml al wit...</td>\n",
       "    </tr>\n",
       "    <tr>\n",
       "      <th>1</th>\n",
       "      <td>delhi techie wins free food from swiggy for on...</td>\n",
       "      <td>kunal shah credit card bill payment platform c...</td>\n",
       "      <td>sostoken delhi techie wins free food from swig...</td>\n",
       "      <td>delhi techie wins free food from swiggy for on...</td>\n",
       "    </tr>\n",
       "    <tr>\n",
       "      <th>2</th>\n",
       "      <td>new zealand end rohit sharma led india match w...</td>\n",
       "      <td>new zealand defeated india wickets fourth odi ...</td>\n",
       "      <td>sostoken new zealand end rohit sharma led indi...</td>\n",
       "      <td>new zealand end rohit sharma led india match w...</td>\n",
       "    </tr>\n",
       "    <tr>\n",
       "      <th>3</th>\n",
       "      <td>aegon life iterm insurance plan helps customer...</td>\n",
       "      <td>aegon life iterm insurance plan customers enjo...</td>\n",
       "      <td>sostoken aegon life iterm insurance plan helps...</td>\n",
       "      <td>aegon life iterm insurance plan helps customer...</td>\n",
       "    </tr>\n",
       "    <tr>\n",
       "      <th>4</th>\n",
       "      <td>have known hirani for yrs what if metoo claims...</td>\n",
       "      <td>speaking sexual harassment allegations rajkuma...</td>\n",
       "      <td>sostoken have known hirani for yrs what if met...</td>\n",
       "      <td>have known hirani for yrs what if metoo claims...</td>\n",
       "    </tr>\n",
       "  </tbody>\n",
       "</table>\n",
       "</div>"
      ],
      "text/plain": [
       "                                           headlines  \\\n",
       "0  upgrad learner switches to career in ml al wit...   \n",
       "1  delhi techie wins free food from swiggy for on...   \n",
       "2  new zealand end rohit sharma led india match w...   \n",
       "3  aegon life iterm insurance plan helps customer...   \n",
       "4  have known hirani for yrs what if metoo claims...   \n",
       "\n",
       "                                                text  \\\n",
       "0  saurav kant alumnus upgrad iiit pg program mac...   \n",
       "1  kunal shah credit card bill payment platform c...   \n",
       "2  new zealand defeated india wickets fourth odi ...   \n",
       "3  aegon life iterm insurance plan customers enjo...   \n",
       "4  speaking sexual harassment allegations rajkuma...   \n",
       "\n",
       "                                       decoder_input  \\\n",
       "0  sostoken upgrad learner switches to career in ...   \n",
       "1  sostoken delhi techie wins free food from swig...   \n",
       "2  sostoken new zealand end rohit sharma led indi...   \n",
       "3  sostoken aegon life iterm insurance plan helps...   \n",
       "4  sostoken have known hirani for yrs what if met...   \n",
       "\n",
       "                                      decoder_target  \n",
       "0  upgrad learner switches to career in ml al wit...  \n",
       "1  delhi techie wins free food from swiggy for on...  \n",
       "2  new zealand end rohit sharma led india match w...  \n",
       "3  aegon life iterm insurance plan helps customer...  \n",
       "4  have known hirani for yrs what if metoo claims...  "
      ]
     },
     "execution_count": 16,
     "metadata": {},
     "output_type": "execute_result"
    }
   ],
   "source": [
    "# 헤드라인 데이터에는 시작 토큰과 종료 토큰을 추가한다\n",
    "data['decoder_input'] = data['headlines'].apply(lambda x : 'sostoken '+ x)\n",
    "data['decoder_target'] = data['headlines'].apply(lambda x : x + ' eostoken')\n",
    "data.head()"
   ]
  },
  {
   "cell_type": "code",
   "execution_count": 17,
   "id": "d60db53c",
   "metadata": {},
   "outputs": [
    {
     "name": "stdout",
     "output_type": "stream",
     "text": [
      "완료\n"
     ]
    }
   ],
   "source": [
    "encoder_input = np.array(data['text']) # 인코더의 입력\n",
    "decoder_input = np.array(data['decoder_input']) # 디코더의 입력\n",
    "decoder_target = np.array(data['decoder_target']) # 디코더의 레이블\n",
    "print('완료')"
   ]
  },
  {
   "cell_type": "markdown",
   "id": "4dc78e70",
   "metadata": {},
   "source": [
    "### 순서를 섞어 저장한다"
   ]
  },
  {
   "cell_type": "code",
   "execution_count": 18,
   "id": "07e914ba",
   "metadata": {},
   "outputs": [
    {
     "name": "stdout",
     "output_type": "stream",
     "text": [
      "완료\n"
     ]
    }
   ],
   "source": [
    "indices = np.arange(encoder_input.shape[0])\n",
    "np.random.shuffle(indices)\n",
    "\n",
    "encoder_input = encoder_input[indices]\n",
    "decoder_input = decoder_input[indices]\n",
    "decoder_target = decoder_target[indices]\n",
    "\n",
    "print('완료')"
   ]
  },
  {
   "cell_type": "code",
   "execution_count": 19,
   "id": "555476c6",
   "metadata": {},
   "outputs": [
    {
     "name": "stdout",
     "output_type": "stream",
     "text": [
      "테스트 데이터의 수 : 19672\n"
     ]
    }
   ],
   "source": [
    "n_of_val = int(len(encoder_input)*0.2)\n",
    "print('테스트 데이터의 수 :', n_of_val)"
   ]
  },
  {
   "cell_type": "markdown",
   "id": "8fc5e46c",
   "metadata": {},
   "source": [
    "### 훈련데이터 테스트데이터 나누기"
   ]
  },
  {
   "cell_type": "code",
   "execution_count": 20,
   "id": "24603b1a",
   "metadata": {},
   "outputs": [
    {
     "name": "stdout",
     "output_type": "stream",
     "text": [
      "훈련 데이터의 개수 : 78688\n",
      "훈련 레이블의 개수 : 78688\n",
      "테스트 데이터의 개수 : 19672\n",
      "테스트 레이블의 개수 : 19672\n"
     ]
    }
   ],
   "source": [
    "encoder_input_train = encoder_input[:-n_of_val]\n",
    "decoder_input_train = decoder_input[:-n_of_val]\n",
    "decoder_target_train = decoder_target[:-n_of_val]\n",
    "\n",
    "encoder_input_test = encoder_input[-n_of_val:]\n",
    "decoder_input_test = decoder_input[-n_of_val:]\n",
    "decoder_target_test = decoder_target[-n_of_val:]\n",
    "\n",
    "print('훈련 데이터의 개수 :', len(encoder_input_train))\n",
    "print('훈련 레이블의 개수 :', len(decoder_input_train))\n",
    "print('테스트 데이터의 개수 :', len(encoder_input_test))\n",
    "print('테스트 레이블의 개수 :', len(decoder_input_test))"
   ]
  },
  {
   "cell_type": "markdown",
   "id": "b1bb779d",
   "metadata": {},
   "source": [
    "### encoder 토크나이저 정의"
   ]
  },
  {
   "cell_type": "code",
   "execution_count": 21,
   "id": "7233a1da",
   "metadata": {},
   "outputs": [
    {
     "name": "stdout",
     "output_type": "stream",
     "text": [
      "완료\n"
     ]
    }
   ],
   "source": [
    "src_tokenizer = Tokenizer() # 토크나이저 정의\n",
    "src_tokenizer.fit_on_texts(encoder_input_train) # 입력된 데이터로부터 단어 집합 생성\n",
    "print('완료')"
   ]
  },
  {
   "cell_type": "markdown",
   "id": "341231cd",
   "metadata": {},
   "source": [
    "### 단어 등장 빈도수 알아보기"
   ]
  },
  {
   "cell_type": "code",
   "execution_count": 22,
   "id": "cba2e1a5",
   "metadata": {},
   "outputs": [
    {
     "name": "stdout",
     "output_type": "stream",
     "text": [
      "단어 집합(vocabulary)의 크기 : 69719\n",
      "등장 빈도가 6번 이하인 희귀 단어의 수 : 47520\n",
      "단어 집합에서 희귀 단어를 제외시킬 경우의 단어 집합의 크기 : 22199\n",
      "단어 집합에서 희귀 단어의 비율 : 68.15932529152742\n",
      "전체 등장 빈도에서 희귀 단어 등장 빈도 비율 : 3.4834615860859945\n"
     ]
    }
   ],
   "source": [
    "threshold = 7\n",
    "total_cnt = len(src_tokenizer.word_index) # 단어의 수\n",
    "rare_cnt = 0 # 등장 빈도수가 threshold보다 작은 단어의 개수를 카운트\n",
    "total_freq = 0 # 훈련 데이터의 전체 단어 빈도수 총 합\n",
    "rare_freq = 0 # 등장 빈도수가 threshold보다 작은 단어의 등장 빈도수의 총 합\n",
    "\n",
    "# 단어와 빈도수의 쌍(pair)을 key와 value로 받는다.\n",
    "for key, value in src_tokenizer.word_counts.items():\n",
    "    total_freq = total_freq + value\n",
    "\n",
    "    # 단어의 등장 빈도수가 threshold보다 작으면\n",
    "    if(value < threshold):\n",
    "        rare_cnt = rare_cnt + 1\n",
    "        rare_freq = rare_freq + value\n",
    "\n",
    "print('단어 집합(vocabulary)의 크기 :', total_cnt)\n",
    "print('등장 빈도가 %s번 이하인 희귀 단어의 수 : %s'%(threshold - 1, rare_cnt))\n",
    "print('단어 집합에서 희귀 단어를 제외시킬 경우의 단어 집합의 크기 : %s'%(total_cnt - rare_cnt))\n",
    "print(\"단어 집합에서 희귀 단어의 비율 :\", (rare_cnt / total_cnt)*100)\n",
    "print(\"전체 등장 빈도에서 희귀 단어 등장 빈도 비율 :\", (rare_freq / total_freq)*100)"
   ]
  },
  {
   "cell_type": "markdown",
   "id": "22997a78",
   "metadata": {},
   "source": [
    "### 크기 2만개로 제안하기"
   ]
  },
  {
   "cell_type": "code",
   "execution_count": 23,
   "id": "48857730",
   "metadata": {},
   "outputs": [
    {
     "name": "stdout",
     "output_type": "stream",
     "text": [
      "[[385, 430, 252, 6127, 10704, 7376, 1, 2, 1026, 5139, 19, 19442, 1479, 3105, 6581, 449, 1566, 7376, 329, 7, 1103, 2, 385, 449, 2229, 603, 127, 150, 3808, 1566, 2, 92, 2324, 52, 1264, 24], [163, 71, 102, 2478, 5345, 1, 476, 511, 377, 366, 2531, 1831, 382, 2188, 174, 3406, 2468, 1530, 1, 5345, 633, 592, 138, 597, 71, 1831, 3268, 1224, 2128, 1261, 1191, 490, 587, 17, 3], [97, 2726, 2368, 4588, 5, 4548, 1925, 812, 3420, 204, 373, 4475, 70, 2726, 231, 8697, 146, 5, 112, 1367, 2712, 612, 16, 124, 43, 5006, 2735, 1023, 253, 4548, 3645, 190, 3999, 8, 527]]\n"
     ]
    }
   ],
   "source": [
    "src_vocab = 20000\n",
    "src_tokenizer = Tokenizer(num_words=src_vocab) # 단어 집합의 크기를 20,000으로 제한\n",
    "src_tokenizer.fit_on_texts(encoder_input_train) # 단어 집합 재생성\n",
    "\n",
    "# 텍스트 시퀀스를 정수 시퀀스로 변환\n",
    "encoder_input_train = src_tokenizer.texts_to_sequences(encoder_input_train) \n",
    "encoder_input_test = src_tokenizer.texts_to_sequences(encoder_input_test)\n",
    "\n",
    "# 잘 진행되었는지 샘플 출력\n",
    "print(encoder_input_train[:3])"
   ]
  },
  {
   "cell_type": "markdown",
   "id": "63cdf624",
   "metadata": {},
   "source": [
    "### decoder 토크나이저 정의"
   ]
  },
  {
   "cell_type": "code",
   "execution_count": 24,
   "id": "07b5fefc",
   "metadata": {},
   "outputs": [
    {
     "name": "stdout",
     "output_type": "stream",
     "text": [
      "완료\n"
     ]
    }
   ],
   "source": [
    "tar_tokenizer = Tokenizer()\n",
    "tar_tokenizer.fit_on_texts(decoder_input_train)\n",
    "print('완료')"
   ]
  },
  {
   "cell_type": "markdown",
   "id": "8ef24234",
   "metadata": {},
   "source": [
    "### 단어 등장 빈도수 알아보기"
   ]
  },
  {
   "cell_type": "code",
   "execution_count": 25,
   "id": "6c54fb43",
   "metadata": {},
   "outputs": [
    {
     "name": "stdout",
     "output_type": "stream",
     "text": [
      "단어 집합(vocabulary)의 크기 : 30127\n",
      "등장 빈도가 5번 이하인 희귀 단어의 수: 19752\n",
      "단어 집합에서 희귀 단어를 제외시킬 경우의 단어 집합의 크기 10375\n",
      "단어 집합에서 희귀 단어의 비율: 65.56245228532546\n",
      "전체 등장 빈도에서 희귀 단어 등장 빈도 비율: 4.676199087877805\n"
     ]
    }
   ],
   "source": [
    "threshold = 6\n",
    "total_cnt = len(tar_tokenizer.word_index) # 단어의 수\n",
    "rare_cnt = 0 # 등장 빈도수가 threshold보다 작은 단어의 개수를 카운트\n",
    "total_freq = 0 # 훈련 데이터의 전체 단어 빈도수 총 합\n",
    "rare_freq = 0 # 등장 빈도수가 threshold보다 작은 단어의 등장 빈도수의 총 합\n",
    "\n",
    "# 단어와 빈도수의 쌍(pair)을 key와 value로 받는다.\n",
    "for key, value in tar_tokenizer.word_counts.items():\n",
    "    total_freq = total_freq + value\n",
    "\n",
    "    # 단어의 등장 빈도수가 threshold보다 작으면\n",
    "    if(value < threshold):\n",
    "        rare_cnt = rare_cnt + 1\n",
    "        rare_freq = rare_freq + value\n",
    "\n",
    "print('단어 집합(vocabulary)의 크기 :', total_cnt)\n",
    "print('등장 빈도가 %s번 이하인 희귀 단어의 수: %s'%(threshold - 1, rare_cnt))\n",
    "print('단어 집합에서 희귀 단어를 제외시킬 경우의 단어 집합의 크기 %s'%(total_cnt - rare_cnt))\n",
    "print(\"단어 집합에서 희귀 단어의 비율:\", (rare_cnt / total_cnt)*100)\n",
    "print(\"전체 등장 빈도에서 희귀 단어 등장 빈도 비율:\", (rare_freq / total_freq)*100)"
   ]
  },
  {
   "cell_type": "markdown",
   "id": "f21f0071",
   "metadata": {},
   "source": [
    "### 크기 1만개로 제안하기"
   ]
  },
  {
   "cell_type": "code",
   "execution_count": 26,
   "id": "57821787",
   "metadata": {},
   "outputs": [
    {
     "name": "stdout",
     "output_type": "stream",
     "text": [
      "input\n",
      "input  [[1, 9, 19, 147, 6490, 5, 18, 28, 174, 84], [1, 106, 23, 349, 11, 648, 605, 295, 297, 166, 90, 936, 86], [1, 3351, 2313, 12, 13, 672, 4, 2815, 15, 1792, 619], [1, 686, 385, 1421, 1238, 110, 19, 50, 383, 5444], [1, 4153, 448, 129, 614, 448, 93, 229, 2202]]\n",
      "target\n",
      "decoder  [[9, 19, 147, 6490, 5, 18, 28, 174, 84, 2], [106, 23, 349, 11, 648, 605, 295, 297, 166, 90, 936, 86, 2], [3351, 2313, 12, 13, 672, 4, 2815, 15, 1792, 619, 2], [686, 385, 1421, 1238, 110, 19, 50, 383, 5444, 2], [4153, 448, 129, 614, 448, 93, 229, 2202, 2]]\n"
     ]
    }
   ],
   "source": [
    "tar_vocab = 10000\n",
    "tar_tokenizer = Tokenizer(num_words=tar_vocab) \n",
    "tar_tokenizer.fit_on_texts(decoder_input_train)\n",
    "tar_tokenizer.fit_on_texts(decoder_target_train)\n",
    "\n",
    "# 텍스트 시퀀스를 정수 시퀀스로 변환\n",
    "decoder_input_train = tar_tokenizer.texts_to_sequences(decoder_input_train) \n",
    "decoder_target_train = tar_tokenizer.texts_to_sequences(decoder_target_train)\n",
    "decoder_input_test = tar_tokenizer.texts_to_sequences(decoder_input_test)\n",
    "decoder_target_test = tar_tokenizer.texts_to_sequences(decoder_target_test)\n",
    "\n",
    "# 잘 변환되었는지 확인\n",
    "print('input')\n",
    "print('input ',decoder_input_train[:5])\n",
    "print('target')\n",
    "print('decoder ',decoder_target_train[:5])"
   ]
  },
  {
   "cell_type": "markdown",
   "id": "06d72e2c",
   "metadata": {},
   "source": [
    "### 삭제할 데이터 개수\n",
    "- 삭제할 데이터 없음"
   ]
  },
  {
   "cell_type": "code",
   "execution_count": 27,
   "id": "4676aba6",
   "metadata": {},
   "outputs": [
    {
     "name": "stdout",
     "output_type": "stream",
     "text": [
      "삭제할 훈련 데이터의 개수 : 0\n",
      "삭제할 테스트 데이터의 개수 : 0\n",
      "훈련 데이터의 개수 : 78688\n",
      "훈련 레이블의 개수 : 78688\n",
      "테스트 데이터의 개수 : 19672\n",
      "테스트 레이블의 개수 : 19672\n"
     ]
    }
   ],
   "source": [
    "drop_train = [index for index, sentence in enumerate(decoder_input_train) if len(sentence) == 1]\n",
    "drop_test = [index for index, sentence in enumerate(decoder_input_test) if len(sentence) == 1]\n",
    "\n",
    "print('삭제할 훈련 데이터의 개수 :', len(drop_train))\n",
    "print('삭제할 테스트 데이터의 개수 :', len(drop_test))\n",
    "\n",
    "encoder_input_train = [sentence for index, sentence in enumerate(encoder_input_train) if index not in drop_train]\n",
    "decoder_input_train = [sentence for index, sentence in enumerate(decoder_input_train) if index not in drop_train]\n",
    "decoder_target_train = [sentence for index, sentence in enumerate(decoder_target_train) if index not in drop_train]\n",
    "\n",
    "encoder_input_test = [sentence for index, sentence in enumerate(encoder_input_test) if index not in drop_test]\n",
    "decoder_input_test = [sentence for index, sentence in enumerate(decoder_input_test) if index not in drop_test]\n",
    "decoder_target_test = [sentence for index, sentence in enumerate(decoder_target_test) if index not in drop_test]\n",
    "\n",
    "print('훈련 데이터의 개수 :', len(encoder_input_train))\n",
    "print('훈련 레이블의 개수 :', len(decoder_input_train))\n",
    "print('테스트 데이터의 개수 :', len(encoder_input_test))\n",
    "print('테스트 레이블의 개수 :', len(decoder_input_test))"
   ]
  },
  {
   "cell_type": "markdown",
   "id": "8a8cd23a",
   "metadata": {},
   "source": [
    "### 패딩하기"
   ]
  },
  {
   "cell_type": "code",
   "execution_count": 28,
   "id": "35ff71a5",
   "metadata": {},
   "outputs": [
    {
     "name": "stdout",
     "output_type": "stream",
     "text": [
      "완료\n"
     ]
    }
   ],
   "source": [
    "encoder_input_train = pad_sequences(encoder_input_train, maxlen=text_max_len, padding='post')\n",
    "encoder_input_test = pad_sequences(encoder_input_test, maxlen=text_max_len, padding='post')\n",
    "decoder_input_train = pad_sequences(decoder_input_train, maxlen=headlines_max_len, padding='post')\n",
    "decoder_target_train = pad_sequences(decoder_target_train, maxlen=headlines_max_len, padding='post')\n",
    "decoder_input_test = pad_sequences(decoder_input_test, maxlen=headlines_max_len, padding='post')\n",
    "decoder_target_test = pad_sequences(decoder_target_test, maxlen=headlines_max_len, padding='post')\n",
    "print('완료')"
   ]
  },
  {
   "cell_type": "markdown",
   "id": "d0e9e32e",
   "metadata": {},
   "source": [
    "# step3. 어텐션 메커니즘 사용하기"
   ]
  },
  {
   "cell_type": "markdown",
   "id": "b2d975ab",
   "metadata": {},
   "source": [
    "### 모델 설계하기"
   ]
  },
  {
   "cell_type": "code",
   "execution_count": 29,
   "id": "f2200c5b",
   "metadata": {},
   "outputs": [
    {
     "name": "stdout",
     "output_type": "stream",
     "text": [
      "Model: \"model\"\n",
      "__________________________________________________________________________________________________\n",
      "Layer (type)                    Output Shape         Param #     Connected to                     \n",
      "==================================================================================================\n",
      "input_1 (InputLayer)            [(None, 40)]         0                                            \n",
      "__________________________________________________________________________________________________\n",
      "embedding (Embedding)           (None, 40, 128)      2560000     input_1[0][0]                    \n",
      "__________________________________________________________________________________________________\n",
      "lstm (LSTM)                     [(None, 40, 256), (N 394240      embedding[0][0]                  \n",
      "__________________________________________________________________________________________________\n",
      "input_2 (InputLayer)            [(None, None)]       0                                            \n",
      "__________________________________________________________________________________________________\n",
      "lstm_1 (LSTM)                   [(None, 40, 256), (N 525312      lstm[0][0]                       \n",
      "                                                                 lstm[0][1]                       \n",
      "                                                                 lstm[0][2]                       \n",
      "__________________________________________________________________________________________________\n",
      "embedding_1 (Embedding)         (None, None, 128)    1280000     input_2[0][0]                    \n",
      "__________________________________________________________________________________________________\n",
      "lstm_2 (LSTM)                   [(None, 40, 256), (N 525312      lstm_1[0][0]                     \n",
      "                                                                 lstm_1[0][1]                     \n",
      "                                                                 lstm_1[0][2]                     \n",
      "__________________________________________________________________________________________________\n",
      "lstm_3 (LSTM)                   [(None, None, 256),  394240      embedding_1[0][0]                \n",
      "                                                                 lstm_2[0][1]                     \n",
      "                                                                 lstm_2[0][2]                     \n",
      "__________________________________________________________________________________________________\n",
      "dense (Dense)                   (None, None, 10000)  2570000     lstm_3[0][0]                     \n",
      "==================================================================================================\n",
      "Total params: 8,249,104\n",
      "Trainable params: 8,249,104\n",
      "Non-trainable params: 0\n",
      "__________________________________________________________________________________________________\n"
     ]
    }
   ],
   "source": [
    "from tensorflow.keras.layers import Input, LSTM, Embedding, Dense, Concatenate, TimeDistributed\n",
    "from tensorflow.keras.models import Model\n",
    "from tensorflow.keras.callbacks import EarlyStopping, ModelCheckpoint\n",
    "\n",
    "\n",
    "# 인코더 설계 시작\n",
    "embedding_dim = 128\n",
    "hidden_size = 256\n",
    "\n",
    "# 인코더\n",
    "encoder_inputs = Input(shape=(text_max_len,))\n",
    "\n",
    "# 인코더의 임베딩 층\n",
    "enc_emb = Embedding(src_vocab, embedding_dim)(encoder_inputs)\n",
    "\n",
    "# 인코더의 LSTM 1\n",
    "# encoder_lstm1 = LSTM(hidden_size, return_sequences=True, return_state=True ,dropout = 0.4, recurrent_dropout = 0.4)\n",
    "encoder_lstm1 = LSTM(hidden_size, return_sequences=True, return_state=True ,dropout = 0.4)\n",
    "encoder_output1, state_h1, state_c1 = encoder_lstm1(enc_emb)\n",
    "\n",
    "# 인코더의 LSTM 2\n",
    "encoder_lstm2 = LSTM(hidden_size, return_sequences=True, return_state=True ,dropout = 0.4)\n",
    "encoder_output2, state_h2, state_c2 = encoder_lstm2(encoder_output1, initial_state=[state_h1, state_c1])\n",
    "\n",
    "# 인코더의 LSTM 3\n",
    "encoder_lstm3 = LSTM(hidden_size, return_sequences=True, return_state=True ,dropout = 0.4)\n",
    "encoder_output3, state_h3, state_c3 = encoder_lstm3(encoder_output2, initial_state=[state_h2, state_c2])\n",
    "\n",
    "# 디코더 설계시작\n",
    "decoder_inputs = Input(shape=(None,))\n",
    "\n",
    "# 디코더의 임베딩 층\n",
    "dec_emb_layer = Embedding(tar_vocab, embedding_dim)\n",
    "dec_emb = dec_emb_layer(decoder_inputs)\n",
    "\n",
    "# 디코더의 LSTM\n",
    "decoder_lstm = LSTM(hidden_size, return_sequences=True, return_state=True, dropout=0.4)\n",
    "decoder_outputs, _, _ = decoder_lstm(dec_emb, initial_state=[state_h3, state_c3])\n",
    "\n",
    "# 디코더의 출력층\n",
    "decoder_softmax_layer = Dense(tar_vocab, activation='softmax')\n",
    "decoder_softmax_outputs = decoder_softmax_layer(decoder_outputs) \n",
    "\n",
    "# 모델 정의\n",
    "model = Model([encoder_inputs, decoder_inputs], decoder_softmax_outputs)\n",
    "model.summary()"
   ]
  },
  {
   "cell_type": "markdown",
   "id": "fc28abb0",
   "metadata": {},
   "source": [
    "### 어텐션 메커니즘"
   ]
  },
  {
   "cell_type": "code",
   "execution_count": 30,
   "id": "b754bbc2",
   "metadata": {},
   "outputs": [
    {
     "name": "stdout",
     "output_type": "stream",
     "text": [
      "Model: \"model_1\"\n",
      "__________________________________________________________________________________________________\n",
      "Layer (type)                    Output Shape         Param #     Connected to                     \n",
      "==================================================================================================\n",
      "input_1 (InputLayer)            [(None, 40)]         0                                            \n",
      "__________________________________________________________________________________________________\n",
      "embedding (Embedding)           (None, 40, 128)      2560000     input_1[0][0]                    \n",
      "__________________________________________________________________________________________________\n",
      "lstm (LSTM)                     [(None, 40, 256), (N 394240      embedding[0][0]                  \n",
      "__________________________________________________________________________________________________\n",
      "input_2 (InputLayer)            [(None, None)]       0                                            \n",
      "__________________________________________________________________________________________________\n",
      "lstm_1 (LSTM)                   [(None, 40, 256), (N 525312      lstm[0][0]                       \n",
      "                                                                 lstm[0][1]                       \n",
      "                                                                 lstm[0][2]                       \n",
      "__________________________________________________________________________________________________\n",
      "embedding_1 (Embedding)         (None, None, 128)    1280000     input_2[0][0]                    \n",
      "__________________________________________________________________________________________________\n",
      "lstm_2 (LSTM)                   [(None, 40, 256), (N 525312      lstm_1[0][0]                     \n",
      "                                                                 lstm_1[0][1]                     \n",
      "                                                                 lstm_1[0][2]                     \n",
      "__________________________________________________________________________________________________\n",
      "lstm_3 (LSTM)                   [(None, None, 256),  394240      embedding_1[0][0]                \n",
      "                                                                 lstm_2[0][1]                     \n",
      "                                                                 lstm_2[0][2]                     \n",
      "__________________________________________________________________________________________________\n",
      "attention_layer (AdditiveAttent (None, None, 256)    256         lstm_3[0][0]                     \n",
      "                                                                 lstm_2[0][0]                     \n",
      "__________________________________________________________________________________________________\n",
      "concat_layer (Concatenate)      (None, None, 512)    0           lstm_3[0][0]                     \n",
      "                                                                 attention_layer[0][0]            \n",
      "__________________________________________________________________________________________________\n",
      "dense_1 (Dense)                 (None, None, 10000)  5130000     concat_layer[0][0]               \n",
      "==================================================================================================\n",
      "Total params: 10,809,360\n",
      "Trainable params: 10,809,360\n",
      "Non-trainable params: 0\n",
      "__________________________________________________________________________________________________\n"
     ]
    }
   ],
   "source": [
    "from tensorflow.keras.layers import AdditiveAttention\n",
    "\n",
    "# 어텐션 층(어텐션 함수)\n",
    "attn_layer = AdditiveAttention(name='attention_layer')\n",
    "\n",
    "# 인코더와 디코더의 모든 time step의 hidden state를 어텐션 층에 전달하고 결과를 리턴\n",
    "attn_out = attn_layer([decoder_outputs, encoder_output3])\n",
    "\n",
    "\n",
    "# 어텐션의 결과와 디코더의 hidden state들을 연결\n",
    "decoder_concat_input = Concatenate(axis=-1, name='concat_layer')([decoder_outputs, attn_out])\n",
    "\n",
    "# 디코더의 출력층\n",
    "decoder_softmax_layer = Dense(tar_vocab, activation='softmax')\n",
    "decoder_softmax_outputs = decoder_softmax_layer(decoder_concat_input)\n",
    "\n",
    "# 모델 정의\n",
    "model = Model([encoder_inputs, decoder_inputs], decoder_softmax_outputs)\n",
    "model.summary()"
   ]
  },
  {
   "cell_type": "markdown",
   "id": "3ebb9551",
   "metadata": {},
   "source": [
    "### 모델 학습"
   ]
  },
  {
   "cell_type": "code",
   "execution_count": 31,
   "id": "96589252",
   "metadata": {},
   "outputs": [
    {
     "name": "stdout",
     "output_type": "stream",
     "text": [
      "Epoch 1/30\n",
      "308/308 [==============================] - 35s 91ms/step - loss: 5.6160 - val_loss: 5.1742\n",
      "Epoch 2/30\n",
      "308/308 [==============================] - 27s 89ms/step - loss: 5.0554 - val_loss: 4.8175\n",
      "Epoch 3/30\n",
      "308/308 [==============================] - 28s 91ms/step - loss: 4.6905 - val_loss: 4.5450\n",
      "Epoch 4/30\n",
      "308/308 [==============================] - 28s 92ms/step - loss: 4.4301 - val_loss: 4.3642\n",
      "Epoch 5/30\n",
      "308/308 [==============================] - 28s 91ms/step - loss: 4.2230 - val_loss: 4.2244\n",
      "Epoch 6/30\n",
      "308/308 [==============================] - 28s 91ms/step - loss: 4.0503 - val_loss: 4.1172\n",
      "Epoch 7/30\n",
      "308/308 [==============================] - 28s 92ms/step - loss: 3.9046 - val_loss: 4.0318\n",
      "Epoch 8/30\n",
      "308/308 [==============================] - 28s 91ms/step - loss: 3.7765 - val_loss: 3.9608\n",
      "Epoch 9/30\n",
      "308/308 [==============================] - 28s 91ms/step - loss: 3.6649 - val_loss: 3.9068\n",
      "Epoch 10/30\n",
      "308/308 [==============================] - 28s 91ms/step - loss: 3.5651 - val_loss: 3.8698\n",
      "Epoch 11/30\n",
      "308/308 [==============================] - 28s 91ms/step - loss: 3.4738 - val_loss: 3.8337\n",
      "Epoch 12/30\n",
      "308/308 [==============================] - 28s 91ms/step - loss: 3.3923 - val_loss: 3.8001\n",
      "Epoch 13/30\n",
      "308/308 [==============================] - 28s 91ms/step - loss: 3.3177 - val_loss: 3.7735\n",
      "Epoch 14/30\n",
      "308/308 [==============================] - 28s 91ms/step - loss: 3.2497 - val_loss: 3.7560\n",
      "Epoch 15/30\n",
      "308/308 [==============================] - 28s 91ms/step - loss: 3.1858 - val_loss: 3.7396\n",
      "Epoch 16/30\n",
      "308/308 [==============================] - 28s 91ms/step - loss: 3.1245 - val_loss: 3.7226\n",
      "Epoch 17/30\n",
      "308/308 [==============================] - 28s 91ms/step - loss: 3.0710 - val_loss: 3.7100\n",
      "Epoch 18/30\n",
      "308/308 [==============================] - 28s 91ms/step - loss: 3.0201 - val_loss: 3.7043\n",
      "Epoch 19/30\n",
      "308/308 [==============================] - 28s 91ms/step - loss: 2.9698 - val_loss: 3.7068\n",
      "Epoch 20/30\n",
      "308/308 [==============================] - 28s 92ms/step - loss: 2.9214 - val_loss: 3.7010\n",
      "Epoch 21/30\n",
      "308/308 [==============================] - 28s 91ms/step - loss: 2.8765 - val_loss: 3.6925\n",
      "Epoch 22/30\n",
      "308/308 [==============================] - 28s 91ms/step - loss: 2.8344 - val_loss: 3.6945\n",
      "Epoch 23/30\n",
      "308/308 [==============================] - 28s 91ms/step - loss: 2.7974 - val_loss: 3.6923\n",
      "Epoch 24/30\n",
      "308/308 [==============================] - 28s 92ms/step - loss: 2.7588 - val_loss: 3.6930\n",
      "Epoch 25/30\n",
      "308/308 [==============================] - 28s 91ms/step - loss: 2.7239 - val_loss: 3.6896\n",
      "Epoch 26/30\n",
      "308/308 [==============================] - 28s 91ms/step - loss: 2.6907 - val_loss: 3.6975\n",
      "Epoch 27/30\n",
      "308/308 [==============================] - 28s 91ms/step - loss: 2.6576 - val_loss: 3.7052\n",
      "Epoch 00027: early stopping\n"
     ]
    }
   ],
   "source": [
    "model.compile(optimizer='rmsprop', loss='sparse_categorical_crossentropy')\n",
    "es = EarlyStopping(monitor='val_loss', patience=2, verbose=1)\n",
    "history = model.fit(x=[encoder_input_train, decoder_input_train], y=decoder_target_train, \\\n",
    "          validation_data=([encoder_input_test, decoder_input_test], decoder_target_test), \\\n",
    "          batch_size=256, callbacks=[es], epochs=30)"
   ]
  },
  {
   "cell_type": "code",
   "execution_count": 32,
   "id": "6fa5f2cc",
   "metadata": {},
   "outputs": [
    {
     "data": {
      "image/png": "[encoded data removed]",
      "text/plain": [
       "<Figure size 432x288 with 1 Axes>"
      ]
     },
     "metadata": {
      "needs_background": "light"
     },
     "output_type": "display_data"
    }
   ],
   "source": [
    "plt.plot(history.history['loss'], label='train')\n",
    "plt.plot(history.history['val_loss'], label='test')\n",
    "plt.legend()\n",
    "plt.show()"
   ]
  },
  {
   "cell_type": "markdown",
   "id": "26f46af8",
   "metadata": {},
   "source": [
    "# 실제 결과와 요약문 비교하기"
   ]
  },
  {
   "cell_type": "markdown",
   "id": "17454440",
   "metadata": {},
   "source": [
    "### 필요한 사전 3개 준비"
   ]
  },
  {
   "cell_type": "code",
   "execution_count": 42,
   "id": "8cd60f7f",
   "metadata": {},
   "outputs": [
    {
     "name": "stdout",
     "output_type": "stream",
     "text": [
      "완료\n"
     ]
    }
   ],
   "source": [
    "src_index_to_word = src_tokenizer.index_word # 원문 단어 집합에서 정수 -> 단어를 얻음\n",
    "tar_word_to_index = tar_tokenizer.word_index # 요약 단어 집합에서 단어 -> 정수를 얻음\n",
    "tar_index_to_word = tar_tokenizer.index_word # 요약 단어 집합에서 정수 -> 단어를 얻음\n",
    "\n",
    "print('완료')"
   ]
  },
  {
   "cell_type": "code",
   "execution_count": 43,
   "id": "94b85ff6",
   "metadata": {},
   "outputs": [
    {
     "name": "stdout",
     "output_type": "stream",
     "text": [
      "완료\n"
     ]
    }
   ],
   "source": [
    "# 인코더 설계\n",
    "encoder_model = Model(inputs=encoder_inputs, outputs=[encoder_output3, state_h3, state_c3])\n",
    "\n",
    "# 이전 시점의 상태들을 저장하는 텐서\n",
    "decoder_state_input_h = Input(shape=(hidden_size,))\n",
    "decoder_state_input_c = Input(shape=(hidden_size,))\n",
    "\n",
    "dec_emb2 = dec_emb_layer(decoder_inputs)\n",
    "\n",
    "# 문장의 다음 단어를 예측하기 위해서 초기 상태(initial_state)를 이전 시점의 상태로 사용. 이는 뒤의 함수 decode_sequence()에 구현\n",
    "# 훈련 과정에서와 달리 LSTM의 리턴하는 은닉 상태와 셀 상태인 state_h와 state_c를 버리지 않음.\n",
    "decoder_outputs2, state_h2, state_c2 = decoder_lstm(dec_emb2, initial_state=[decoder_state_input_h, decoder_state_input_c])\n",
    "\n",
    "print('완료')"
   ]
  },
  {
   "cell_type": "code",
   "execution_count": 44,
   "id": "db0de81d",
   "metadata": {},
   "outputs": [
    {
     "name": "stdout",
     "output_type": "stream",
     "text": [
      "Model: \"model_5\"\n",
      "__________________________________________________________________________________________________\n",
      "Layer (type)                    Output Shape         Param #     Connected to                     \n",
      "==================================================================================================\n",
      "input_2 (InputLayer)            [(None, None)]       0                                            \n",
      "__________________________________________________________________________________________________\n",
      "embedding_1 (Embedding)         (None, None, 128)    1280000     input_2[0][0]                    \n",
      "__________________________________________________________________________________________________\n",
      "input_6 (InputLayer)            [(None, 256)]        0                                            \n",
      "__________________________________________________________________________________________________\n",
      "input_7 (InputLayer)            [(None, 256)]        0                                            \n",
      "__________________________________________________________________________________________________\n",
      "lstm_3 (LSTM)                   [(None, None, 256),  394240      embedding_1[2][0]                \n",
      "                                                                 input_6[0][0]                    \n",
      "                                                                 input_7[0][0]                    \n",
      "__________________________________________________________________________________________________\n",
      "input_8 (InputLayer)            [(None, 40, 256)]    0                                            \n",
      "__________________________________________________________________________________________________\n",
      "attention_layer (AdditiveAttent (None, None, 256)    256         lstm_3[2][0]                     \n",
      "                                                                 input_8[0][0]                    \n",
      "__________________________________________________________________________________________________\n",
      "concat (Concatenate)            (None, None, 512)    0           lstm_3[2][0]                     \n",
      "                                                                 attention_layer[2][0]            \n",
      "__________________________________________________________________________________________________\n",
      "dense_1 (Dense)                 (None, None, 10000)  5130000     concat[0][0]                     \n",
      "==================================================================================================\n",
      "Total params: 6,804,496\n",
      "Trainable params: 6,804,496\n",
      "Non-trainable params: 0\n",
      "__________________________________________________________________________________________________\n",
      "완료\n"
     ]
    }
   ],
   "source": [
    "#어텐션 함수\n",
    "decoder_hidden_state_input = Input(shape=(text_max_len, hidden_size))\n",
    "attn_out_inf = attn_layer([decoder_outputs2, decoder_hidden_state_input])\n",
    "decoder_inf_concat = Concatenate(axis=-1, name='concat')([decoder_outputs2, attn_out_inf])\n",
    "\n",
    "# 디코더의 출력층\n",
    "decoder_outputs2 = decoder_softmax_layer(decoder_inf_concat) \n",
    "\n",
    "# 최종 디코더 모델\n",
    "decoder_model = Model(\n",
    "    [decoder_inputs] + [decoder_hidden_state_input,decoder_state_input_h, decoder_state_input_c],\n",
    "    [decoder_outputs2] + [state_h2, state_c2])\n",
    "decoder_model.summary()\n",
    "\n",
    "print('완료')"
   ]
  },
  {
   "cell_type": "code",
   "execution_count": 45,
   "id": "0aaefdd3",
   "metadata": {},
   "outputs": [
    {
     "name": "stdout",
     "output_type": "stream",
     "text": [
      "완료\n"
     ]
    }
   ],
   "source": [
    "def decode_sequence(input_seq):\n",
    "    # 입력으로부터 인코더의 상태를 얻음\n",
    "    e_out, e_h, e_c = encoder_model.predict(input_seq)\n",
    "\n",
    "     # <SOS>에 해당하는 토큰 생성\n",
    "    target_seq = np.zeros((1,1))\n",
    "    target_seq[0, 0] = tar_word_to_index['sostoken']\n",
    "\n",
    "    stop_condition = False\n",
    "    decoded_sentence = ''\n",
    "    while not stop_condition: # stop_condition이 True가 될 때까지 루프 반복\n",
    "\n",
    "        output_tokens, h, c = decoder_model.predict([target_seq] + [e_out, e_h, e_c])\n",
    "        # output이 왜\n",
    "        sampled_token_index = np.argmax(output_tokens[0, -1, :])\n",
    "        sampled_token = tar_index_to_word[sampled_token_index]\n",
    "\n",
    "        if (sampled_token!='eostoken'):\n",
    "            decoded_sentence += ' '+sampled_token\n",
    "\n",
    "        #  <eos>에 도달하거나 최대 길이를 넘으면 중단.\n",
    "        if (sampled_token == 'eostoken'  or len(decoded_sentence.split()) >= (headlines_max_len-1)):\n",
    "            stop_condition = True\n",
    "\n",
    "        # 길이가 1인 타겟 시퀀스를 업데이트\n",
    "        target_seq = np.zeros((1,1))\n",
    "        target_seq[0, 0] = sampled_token_index\n",
    "\n",
    "        # 상태를 업데이트 합니다.\n",
    "        e_h, e_c = h, c\n",
    "\n",
    "    return decoded_sentence\n",
    "print('완료')"
   ]
  },
  {
   "cell_type": "markdown",
   "id": "df75dd13",
   "metadata": {},
   "source": [
    "### 정수 시퀀스 텍스트 시퀀스로 변환하는 함수 만들기"
   ]
  },
  {
   "cell_type": "code",
   "execution_count": 46,
   "id": "6d0b6402",
   "metadata": {},
   "outputs": [
    {
     "name": "stdout",
     "output_type": "stream",
     "text": [
      "완료\n"
     ]
    }
   ],
   "source": [
    "# 원문의 정수 시퀀스를 텍스트 시퀀스로 변환\n",
    "def seq2text(input_seq):\n",
    "    temp=''\n",
    "    for i in input_seq:\n",
    "        if (i!=0):\n",
    "            temp = temp + src_index_to_word[i]+' '\n",
    "    return temp\n",
    "\n",
    "# 헤드라인의 정수 시퀀스를 텍스트 시퀀스로 변환\n",
    "def seq2headlines(input_seq):\n",
    "    temp=''\n",
    "    for i in input_seq:\n",
    "        if (i!=0):\n",
    "            temp = temp + tar_index_to_word[i]+' '\n",
    "    return temp\n",
    "\n",
    "print('완료')"
   ]
  },
  {
   "cell_type": "code",
   "execution_count": 47,
   "id": "f5b6dec7",
   "metadata": {},
   "outputs": [
    {
     "name": "stdout",
     "output_type": "stream",
     "text": [
      "원문 : year old man friday approached supreme court challenge life sentence awarded murder case appeal said blockage brain due could go coma paralysed man along others assaulted people land dispute killing one \n",
      "실제 요약 : sostoken year old man moves sc against life term in murder case \n",
      "예측 요약 :  man jailed for life for killing yr old in court\n",
      "\n",
      "\n",
      "원문 : madhya pradesh man legal battle years underage marriage cost dream job becoming administrative officer man married age half parents legal age got job age \n",
      "실제 요약 : sostoken man wins underage marriage case after yrs gets job at \n",
      "예측 요약 :  mp village was forced to marry child\n",
      "\n",
      "\n",
      "원문 : lego celebrating th anniversary modular building kits announced piece taj mahal kit released november cost around set initially launched discontinued new kit feature extra brick compared predecessor \n",
      "실제 요약 : sostoken lego to re release piece taj mahal kit \n",
      "예측 요약 :  the size of the wall of the year\n",
      "\n",
      "\n",
      "원문 : brother law paytm ceo vijay shekhar sharma secretary sonia dhawan opposed arrest blackmail case saying stocks worth crore actually wanted extort sharma would demanded crore crore meanwhile mother said sharma daughter face paytm deserved every bit \n",
      "실제 요약 : sostoken sonia had cr paytm stake why would she blackmail ceo family \n",
      "예측 요약 :  paytm ceo secretary secretary claims him to cr\n",
      "\n",
      "\n",
      "원문 : actor filmmaker dhanush discussing walked television interview said silly generally calm person react way dhanush explained want answer question posed journalist leaks controversy regarding private pictures celebrities leaked \n",
      "실제 요약 : it was silly of me dhanush on walking out of tv interview \n",
      "예측 요약 :  do not want to stop myself from casting couch\n",
      "\n",
      "\n",
      "원문 : son former bsf constable tej bahadur yadav dismissed service released video last year quality food served soldiers found dead police recovered body tej bahadur year old son rohit residence shanti vihar haryana rewari pistol hands \n",
      "실제 요약 : sostoken son of dismissed bsf jawan who about food found dead \n",
      "예측 요약 :  son son son son son to join son\n",
      "\n",
      "\n",
      "원문 : real estate baron gopal monday surrendered tihar jail authorities face one year jail term fire tragedy case comes supreme court rejected plea seeking time surrender notably persons died cinema delhi screening hindi movie border june \n",
      "실제 요약 : sostoken gopal surrenders in fire tragedy case \n",
      "예측 요약 :  haryana court orders to jail for free blasts\n",
      "\n",
      "\n",
      "원문 : dmk working president mk stalin released video working gym public relations strategy video uses several captions like never give rise challenge videos workout sessions however senior leaders party dismissed campaign unnecessary \n",
      "실제 요약 : sostoken dmk president mk stalin shoots workout video for pr \n",
      "예측 요약 :  rss leader calls for his new\n",
      "\n",
      "\n",
      "원문 : death toll four storey building collapse mumbai risen rescuers removed debris searching still trapped around people reported injured collapse rescue operation still progress notably shiv sena leader owned building ground floor arrested allegedly causing collapse \n",
      "실제 요약 : sostoken death toll in mumbai building collapse rises to \n",
      "예측 요약 :  death toll in mumbai building collapse rises to\n",
      "\n",
      "\n",
      "원문 : maharashtra navnirman sena chief raj thackeray paid tribute stan lee co creator marvel comics cartoon sharing cartoon social media platforms thackeray wrote memory heartfelt tribute maharashtra navnirman sena stan lee passed away november age \n",
      "실제 요약 : sostoken mns chief thackeray pays homage to marvel legend stan lee \n",
      "예측 요약 :  thackeray shares poster of thackeray bal thackeray\n",
      "\n",
      "\n",
      "원문 : india first gst collection hit crore july surpassing target crore finance minister arun jaitley said tuesday said lakh registered taxpayers lakh filed gst returns far late filing penalty day would levied added \n",
      "실제 요약 : sostoken gst collection for st month at over crore jaitley \n",
      "예측 요약 :  gst rate rate in gdp to be next fiscal\n",
      "\n",
      "\n",
      "원문 : official reports claimed crime rate fallen uttar pradesh past one year state dgp op singh said due effective policing prompt action cases rape murder decreased respectively compared cases kidnapping ransom came \n",
      "실제 요약 : sostoken crime rate in up dgp credits \n",
      "예측 요약 :  up govt committed suicide in uttar pradesh\n",
      "\n",
      "\n",
      "원문 : israeli airline el al cannot request women move seats accommodate ultra orthodox men wish sit next gender court ruled holocaust survivor sued el al made move seats female passengers israel often asked move ultra orthodox men avoid inadvertent physical contact \n",
      "실제 요약 : sostoken israel court bans making women change plane seat over gender \n",
      "예측 요약 :  saudi arabia bans women in women amid sexual harassment\n",
      "\n",
      "\n",
      "원문 : refuting rumours fight anushka sharma fashion designer manish malhotra said friend always friend added around first film ae dil hai mushkil comes anushka chose wear outfits designed sabyasachi mukherjee instead manish malhotra wedding functions \n",
      "실제 요약 : sostoken anushka is will always be friend manish on alleged fight \n",
      "예측 요약 :  it is very like anushka on rumours of dating rumours\n",
      "\n",
      "\n",
      "원문 : comedian sidharth sagar reported missing four months posted video instagram said mentally harassed family members however added wherever support sidharth said address media days share details \n",
      "실제 요약 : sostoken comedian missing for months says his family harassed him \n",
      "예측 요약 :  was not to girlfriend sidharth on his girlfriend\n",
      "\n",
      "\n",
      "원문 : indian tail jasprit bumrah scored first run international cricket th match champions trophy final pakistan sunday prior champions trophy final year old pacer faced total three deliveries six bat international cricket \n",
      "실제 요약 : sostoken bumrah scores first international run in his th match \n",
      "예측 요약 :  england captain becomes india to take place in wc final\n",
      "\n",
      "\n",
      "원문 : four ten valued indian companies together added nearly crore market valuation last week tcs reliance industries hdfc bank infosys saw gains market capitalisation week ended friday market value tcs soared crore lakh crore ril valuation surged crore lakh crore \n",
      "실제 요약 : sostoken of most valued firms add cr in cap last week \n",
      "예측 요약 :  india adds crore in cap in days\n",
      "\n",
      "\n",
      "원문 : commerce firm flipkart likely burn much billion cash next months push sales growth according reports flipkart cash burn would force rival amazon double billion commitment indian subsidiary reports added earlier month walmart announced would buy stake flipkart billion \n",
      "실제 요약 : sostoken flipkart likely to burn billion cash in months report \n",
      "예측 요약 :  flipkart may buy flipkart stake in flipkart reports\n",
      "\n",
      "\n",
      "원문 : thailand enhance security cave boys football team coach trapped two weeks prime minister chan said added entrance exit cave would monitored lights needed installed inside trapped inside cave rescued tuesday \n",
      "실제 요약 : sostoken thailand to enhance security of cave where boys were trapped \n",
      "예측 요약 :  boys trapped in thai cave were rescued by pm\n",
      "\n",
      "\n",
      "원문 : elder son rjd chief lalu prasad yadav tej pratap yadav sunday said everyone family supporting aishwarya rai definitely conspiracy behind father asked wait change mind added said family members also involved conspiracy \n",
      "실제 요약 : sostoken my family supporting aishwarya conspiring against me tej \n",
      "예측 요약 :  tej pratap yadav calls me politics tej pratap\n",
      "\n",
      "\n",
      "원문 : singh india national wrestling coach sushil kumar bronze medal beijing olympics passed away thursday following prolonged illness singh given coach year award international wrestling federation sushil world championship gold also olympic medallist dutt \n",
      "실제 요약 : sostoken wrestling coach under whom india won olympic bronze passes away \n",
      "예측 요약 :  india win cwg bronze medalist after bronze at cwg\n",
      "\n",
      "\n",
      "원문 : jim beam whiskey maker beam agreed pay million us regulators settle claims bribed indian government officials company allegedly made payments third party distributors increase sales clear regulatory hurdles one instance third party allegedly paid official lakh approve product registration \n",
      "실제 요약 : sostoken jim maker pays crore to settle india bribery claims \n",
      "예측 요약 :  nissan to pay cr to settle money by india\n",
      "\n",
      "\n",
      "원문 : traders body cait written finance minister arun jaitley seeking investigation assess potential health hazards posed currency notes cait urged take preventive measures protect people diseases due contamination organisation quoted findings various studies claimed notes contaminated disease causing \n",
      "실제 요약 : sostoken probe health posed by traders to jaitley \n",
      "예측 요약 :  no plans to scrap aadhaar notes fm\n",
      "\n",
      "\n",
      "원문 : reply rti query prime minister office said cannot information sought permission use narendra modi photographs advertisements stating exercise needs thorough search pmo stated would divert resources information available consolidated form \n",
      "실제 요약 : sostoken cannot tell who sought pm pictures for pmo \n",
      "예측 요약 :  govt asks pmo to stop social media to stop rti\n",
      "\n",
      "\n",
      "원문 : union environment minister anil dave passed away today age listed last wishes legal document titled wish july demanding statues prizes etc commemorate dave urged people plant trees preserve water bodies avoid using name \n",
      "실제 요약 : sostoken save trees rivers but do not use my name last wishes \n",
      "예측 요약 :  who is the of the death of\n",
      "\n",
      "\n",
      "원문 : anti immigrant organisation installed advertisements visas railway stations trains around california san francisco bay area houses silicon valley hub world top companies us tech workers companies think expensive congress fix law companies must seek hire us workers ad read \n",
      "실제 요약 : sostoken anti visa ads appear at railway stations in california \n",
      "예측 요약 :  uk govt launches free rail themed service\n",
      "\n",
      "\n",
      "원문 : year old boy allegedly strangled death year old neighbour amritsar paint tractor owned accused police said boy corpse found wheat room went missing monday night teen arrested murder case registered \n",
      "실제 요약 : sostoken teen kills yr old for tractor paint in punjab \n",
      "예측 요약 :  yr old girl killed by neighbour in delhi\n",
      "\n",
      "\n",
      "원문 : gst council today finalised tax rates services restaurants annual turnover less lakh attract tax non ac food joints face tax air conditioned restaurants liquor licences come tax slab service tax rate five star luxury hotels \n",
      "실제 요약 : sostoken how will restaurant and hotel bills change under gst \n",
      "예측 요약 :  gst council to be made to gst on gst\n",
      "\n",
      "\n",
      "원문 : sawant india fifth shooting gold medal commonwealth games winning women rifle positions finals gold coast friday year old second medal edition winning silver women rifle prone thursday india silver event topped qualification \n",
      "실제 요약 : sostoken sawant wins india th shooting gold at cwg \n",
      "예측 요약 :  wins india th medal at cwg\n",
      "\n",
      "\n",
      "원문 : incidents related communal violence across country rose last year mos home affairs hansraj ahir said incidents caused death people left injured added cases uttar pradesh recorded maximum number communal incidents followed karnataka rajasthan ahir said \n",
      "실제 요약 : sostoken communal violence cases rose in highest in up \n",
      "예측 요약 :  over people committed to in india in maharashtra\n",
      "\n",
      "\n",
      "원문 : british tourist dubai fined lakh breaking speed limit times driving rented lamborghini tourist triggered every speed camera sheikh road one city busiest roads rental company yet claimed car back may liable pay fines \n",
      "실제 요약 : sostoken tourist in dubai fined lakh for rented car \n",
      "예측 요약 :  man fined for selling car with iphone\n",
      "\n",
      "\n",
      "원문 : man identified drug dealer called police report cocaine stolen vehicle us police said police officers found drugs drug inspecting david car later arrested charged possession cocaine resisting arrest \n",
      "실제 요약 : sostoken drug dealer calls police to report stolen cocaine \n",
      "예측 요약 :  drug drug suspect in us arrested for drugs\n",
      "\n",
      "\n",
      "원문 : budget speech finance minister arun jaitley thursday said government introduce assessment system taxpayers reduce person person contact aimed promoting efficiency transparency scheme launched pilot basis reduced interface income tax department taxpayers cities added \n",
      "실제 요약 : sostoken of taxpayers to reduce person to person contact \n",
      "예측 요약 :  gst will be used to attract gst fm\n",
      "\n",
      "\n",
      "원문 : singer sonu nigam shared video seen singing youtube personality dhinchak pooja song ka shooter sonu wrote singing track like would sung kumar added shared video despite son idea \n",
      "실제 요약 : sostoken sonu nigam sings dhinchak pooja song ka shooter \n",
      "예측 요약 :  song from song hai sonu nigam\n",
      "\n",
      "\n",
      "원문 : municipal corporation gurugram announced plans counter waterlogging four storing rainwater mcg spokesperson said civic body also setting sewage treatment plants ensure pond water utilised multiple purposes work reportedly begin monsoon season \n",
      "실제 요약 : sostoken gurugram civic body to revive for storing rainwater \n",
      "예측 요약 :  gurugram civic body to close to clean waste\n",
      "\n",
      "\n",
      "원문 : shashank manohar decided step chairman icc see tenure runs june earlier march manohar said going step immediately due personal reasons said later convinced icc directors complete tenure \n",
      "실제 요약 : sostoken manohar to complete term as icc chairman \n",
      "예측 요약 :  gambhir dropped from ipl after months\n",
      "\n",
      "\n",
      "원문 : actress katrina kaif sister isabelle kaif featured cover magazine brides today april issue first time featured together magazine cover sharing cover social media magazine wrote bond stronger two sisters \n",
      "실제 요약 : sostoken katrina features with her sister on magazine cover for st time \n",
      "예측 요약 :  katrina to be katrina in india for first time\n",
      "\n",
      "\n",
      "원문 : actor aamir khan asked considers superstar said comes amitabh bachchan comes salman khan shah rukh khan akshay kumar ajay devgn hrithik roshan aamir added even deepika padukone katrina kaif superstars said stardom get affected one two films \n",
      "실제 요약 : sostoken bachchan comes first aamir on who he considers \n",
      "예측 요약 :  aamir aamir aamir aamir aamir khan aamir aamir aamir aamir aamir\n",
      "\n",
      "\n",
      "원문 : reading page verdict aadhaar behalf cji dipak misra justice justice ak sikri said education took us thumb impression signature technology taken us signature thumb impression observed aadhaar empowered marginalised sections society giving identity \n",
      "실제 요약 : sostoken tech has taken us back to thumb sc judge on aadhaar \n",
      "예측 요약 :  judge rejects cji to judge over his speech\n",
      "\n",
      "\n",
      "원문 : andhra pradesh cm chandrababu naidu friday led bicycle rally state capital press special category status state rally started cm honoured tdp founder nt rama rao statue garland rally joined several tdp mlas mlcs leaders workers \n",
      "실제 요약 : sostoken andhra cm takes out cycle rally to demand for special status \n",
      "예측 요약 :  cm naidu slaps andhra cm for st time in andhra\n",
      "\n",
      "\n",
      "원문 : guard howrah ac express escaped unhurt friday train started move still glitch air pipe train two compartments video incident also surfaced online shows guard holding pipe order avoid coming train \n",
      "실제 요약 : sostoken train starts moving as guard glitch in west bengal \n",
      "예측 요약 :  train falls off train as engine falls into train in hrs\n",
      "\n",
      "\n",
      "원문 : tamil nadu chief minister ek palaniswami friday said word aiadmk deputy general secretary ttv dhinakaran addressing media meeting prime minister narendra modi aiadmk merger palaniswami said party sail opposition dmk brings confidence motion tamil nadu assembly \n",
      "실제 요약 : sostoken is word for ttv dhinakaran tamil nadu cm \n",
      "예측 요약 :  tn cm asks tn cm to tn assembly assembly over tn\n",
      "\n",
      "\n",
      "원문 : talking bill criminalising instant triple talaq passed lok sabha actor ali fazal tweeted trap triple talaq bill wow nobody consulted wrote send husband jail criminalising square one family abandoned \n",
      "실제 요약 : sostoken what trap this triple talaq bill is ali fazal \n",
      "예측 요약 :  triple talaq is not god here is god says sc\n",
      "\n",
      "\n",
      "원문 : jeweller whose hoax hijack note led diversion mumbai delhi flight monday first person arrested new anti hijacking act came force july offender may face life imprisonment act jeweller planted note hoping close airline police said \n",
      "실제 요약 : sostoken man behind hoax st to be held under new anti law \n",
      "예측 요약 :  man who was forced to be held in mumbai airport\n",
      "\n",
      "\n",
      "원문 : total dhamaal feature remake song paisa yeh paisa originally rishi kapoor film director indra kumar said created song many years ago still relevant even people chasing money song feature actors like madhuri dixit anil kapoor \n",
      "실제 요약 : sostoken song yeh to be for total dhamaal \n",
      "예측 요약 :  new promo of madhuri debut film released\n",
      "\n",
      "\n",
      "원문 : england fans present oval ongoing test south africa displayed morphed photo rounder moeen ali calling lisa poster showed cricketer face morphed onto leonardo da vinci historical portrait mona lisa england cricket posted picture poster writing think onto something \n",
      "실제 요약 : sostoken fans display moeen ali morphed pic call it lisa \n",
      "예측 요약 :  nz fans play in nz for sharing video on nz ali\n",
      "\n",
      "\n",
      "원문 : gurugram court ordered filing firs pvr cinemas promoters petition accused fraud real estate firm alleged pvr entered agreement take multiplex space lease later terminated agreement without convincing reason pvr said allegations incorrect baseless \n",
      "실제 요약 : sostoken gurugram court orders fir against promoters for fraud \n",
      "예측 요약 :  hc dismisses plea against cr for selling pil\n",
      "\n",
      "\n",
      "원문 : former gangster rai saturday appeared central crime branch pictures family weapons puja went viral rai extradited uae said weapons leased company based bengaluru rai founder profit organisation jaya karnataka \n",
      "실제 요약 : sostoken don turned activist summoned as pics weapons go viral \n",
      "예측 요약 :  singer singer arrested for forcing his house\n",
      "\n",
      "\n",
      "원문 : commentating ipl match former england captain kevin pietersen revealed sought rahul dravid help play spin bowling english batsman sent dravid email asking help dravid replied tips techniques handle spin bowling pietersen also said learned lot dravid ipl days \n",
      "실제 요약 : sostoken dravid advice helped me play spin bowling kevin pietersen \n",
      "예측 요약 :  have ipl been used for me rahul on ipl ipl\n",
      "\n",
      "\n",
      "원문 : former domestic help worked israeli pm benjamin netanyahu sued wife sara netanyahu accusing abusive threatening behaviour treating staff like slaves woman alleged forbidden eating wash hands times day pm called lawsuit attempt extort money \n",
      "실제 요약 : sostoken domestic help accuses israeli pm wife of slavery \n",
      "예측 요약 :  ex pm wife jailed for promoting fake news\n",
      "\n",
      "\n"
     ]
    }
   ],
   "source": [
    "for i in range(50, 100):\n",
    "    print(\"원문 :\", seq2text(encoder_input_test[i]))\n",
    "    print(\"실제 요약 :\", seq2headlines(decoder_input_test[i]))\n",
    "    print(\"예측 요약 :\", decode_sequence(encoder_input_test[i].reshape(1, text_max_len)))\n",
    "    print(\"\\n\")"
   ]
  },
  {
   "cell_type": "markdown",
   "id": "9940c65c",
   "metadata": {},
   "source": [
    "# step5. summa를 이용해서 추출적 요약해보기"
   ]
  },
  {
   "cell_type": "code",
   "execution_count": 61,
   "id": "3de0d722",
   "metadata": {},
   "outputs": [
    {
     "data": {
      "text/html": [
       "<div>\n",
       "<style scoped>\n",
       "    .dataframe tbody tr th:only-of-type {\n",
       "        vertical-align: middle;\n",
       "    }\n",
       "\n",
       "    .dataframe tbody tr th {\n",
       "        vertical-align: top;\n",
       "    }\n",
       "\n",
       "    .dataframe thead th {\n",
       "        text-align: right;\n",
       "    }\n",
       "</style>\n",
       "<table border=\"1\" class=\"dataframe\">\n",
       "  <thead>\n",
       "    <tr style=\"text-align: right;\">\n",
       "      <th></th>\n",
       "      <th>text</th>\n",
       "    </tr>\n",
       "  </thead>\n",
       "  <tbody>\n",
       "    <tr>\n",
       "      <th>94693</th>\n",
       "      <td>In a first, scientists have developed a techni...</td>\n",
       "    </tr>\n",
       "    <tr>\n",
       "      <th>70845</th>\n",
       "      <td>Several patients were shifted from Bengaluru's...</td>\n",
       "    </tr>\n",
       "    <tr>\n",
       "      <th>45146</th>\n",
       "      <td>Reacting to actress Jennifer Lawrence climbing...</td>\n",
       "    </tr>\n",
       "    <tr>\n",
       "      <th>84493</th>\n",
       "      <td>Actor Aamir Khan took to Twitter to share pict...</td>\n",
       "    </tr>\n",
       "    <tr>\n",
       "      <th>58577</th>\n",
       "      <td>Salman Khan has said that he thinks he has lea...</td>\n",
       "    </tr>\n",
       "    <tr>\n",
       "      <th>2489</th>\n",
       "      <td>BCCI treasurer Anirudh Chaudhry has asked CoA ...</td>\n",
       "    </tr>\n",
       "    <tr>\n",
       "      <th>15456</th>\n",
       "      <td>Ex-Pakistan captain Wasim Akram has said Pakis...</td>\n",
       "    </tr>\n",
       "    <tr>\n",
       "      <th>17870</th>\n",
       "      <td>Bombay High Court on Monday refused a girl, wh...</td>\n",
       "    </tr>\n",
       "    <tr>\n",
       "      <th>1554</th>\n",
       "      <td>Wicketkeeper-batsman Parthiv Patel shared a co...</td>\n",
       "    </tr>\n",
       "    <tr>\n",
       "      <th>2037</th>\n",
       "      <td>Chief Justice of India Ranjan Gogoi on Monday ...</td>\n",
       "    </tr>\n",
       "    <tr>\n",
       "      <th>64972</th>\n",
       "      <td>BJP minister Anil Vij on Friday called Taj Mah...</td>\n",
       "    </tr>\n",
       "    <tr>\n",
       "      <th>42775</th>\n",
       "      <td>Tamil Nadu CM and AIADMK chief EK Palaniswami ...</td>\n",
       "    </tr>\n",
       "    <tr>\n",
       "      <th>87908</th>\n",
       "      <td>An Air India flight carrying 155 passengers wa...</td>\n",
       "    </tr>\n",
       "    <tr>\n",
       "      <th>32973</th>\n",
       "      <td>During a ceremony at the White House on Tuesda...</td>\n",
       "    </tr>\n",
       "    <tr>\n",
       "      <th>80691</th>\n",
       "      <td>Infosys CEO Vishal Sikka arrived in a driverle...</td>\n",
       "    </tr>\n",
       "  </tbody>\n",
       "</table>\n",
       "</div>"
      ],
      "text/plain": [
       "                                                    text\n",
       "94693  In a first, scientists have developed a techni...\n",
       "70845  Several patients were shifted from Bengaluru's...\n",
       "45146  Reacting to actress Jennifer Lawrence climbing...\n",
       "84493  Actor Aamir Khan took to Twitter to share pict...\n",
       "58577  Salman Khan has said that he thinks he has lea...\n",
       "2489   BCCI treasurer Anirudh Chaudhry has asked CoA ...\n",
       "15456  Ex-Pakistan captain Wasim Akram has said Pakis...\n",
       "17870  Bombay High Court on Monday refused a girl, wh...\n",
       "1554   Wicketkeeper-batsman Parthiv Patel shared a co...\n",
       "2037   Chief Justice of India Ranjan Gogoi on Monday ...\n",
       "64972  BJP minister Anil Vij on Friday called Taj Mah...\n",
       "42775  Tamil Nadu CM and AIADMK chief EK Palaniswami ...\n",
       "87908  An Air India flight carrying 155 passengers wa...\n",
       "32973  During a ceremony at the White House on Tuesda...\n",
       "80691  Infosys CEO Vishal Sikka arrived in a driverle..."
      ]
     },
     "execution_count": 61,
     "metadata": {},
     "output_type": "execute_result"
    }
   ],
   "source": [
    "import requests\n",
    "from summa.summarizer import summarize\n",
    "\n",
    "data_2 = pd.read_csv('news_summary_more.csv', encoding='iso-8859-1')\n",
    "\n",
    "text = data_2[['text']]\n",
    "text.head()\n",
    "\n",
    "text.sample(15)"
   ]
  },
  {
   "cell_type": "code",
   "execution_count": 62,
   "id": "c945cb72",
   "metadata": {},
   "outputs": [
    {
     "name": "stdout",
     "output_type": "stream",
     "text": [
      "Headlines:\n",
      "['He added, \"The time has come for the people of Odisha to put a full stop to their activities...The time has come for us to ask for an explanation from this corrupt government.\" Claiming there is a dearth of ideas among opposition parties, Prime Minister Narendra Modi on Wednesday said, \"The opposition talks only about Modi the whole day, I suspect they even dream about me.\" PM Modi, who was addressing the New India Youth Conclave inÃ¢Â\\x80Â\\x8b Surat, added that the opposition parties have only one agenda which is \"Modi\".']\n"
     ]
    }
   ],
   "source": [
    "# 상위 100개의 텍스트 데이터만 선택\n",
    "text = ' '.join(data_2['text'].astype(str).head(100))\n",
    "\n",
    "# 텍스트 요약\n",
    "print('Headlines:')\n",
    "print(summarize(text, ratio=0.005, split=True))"
   ]
  },
  {
   "cell_type": "code",
   "execution_count": 64,
   "id": "589d77a1",
   "metadata": {},
   "outputs": [
    {
     "name": "stdout",
     "output_type": "stream",
     "text": [
      "Headlines:\n",
      "['He added, \"The time has come for the people of Odisha to put a full stop to their activities...The time has come for us to ask for an explanation from this corrupt government.\" Claiming there is a dearth of ideas among opposition parties, Prime Minister Narendra Modi on Wednesday said, \"The opposition talks only about Modi the whole day, I suspect they even dream about me.\" PM Modi, who was addressing the New India Youth Conclave inÃ¢Â\\x80Â\\x8b Surat, added that the opposition parties have only one agenda which is \"Modi\".']\n"
     ]
    }
   ],
   "source": [
    "# 상위 100개의 텍스트 데이터만 선택\n",
    "text = ' '.join(data_2['text'].astype(str).head(100))\n",
    "\n",
    "# 텍스트 요약\n",
    "print('Headlines:')\n",
    "print(summarize(text, words=50, split=True))"
   ]
  },
  {
   "cell_type": "code",
   "execution_count": 65,
   "id": "113d1223",
   "metadata": {},
   "outputs": [
    {
     "name": "stdout",
     "output_type": "stream",
     "text": [
      "원문: Saurav Kant, an alumnus of upGrad and IIIT-B's PG Program in Machine learning and Artificial Intelligence, was a Sr Systems Engineer at Infosys with almost 5 years of work experience. The program and upGrad's 360-degree career support helped him transition to a Data Scientist at Tech Mahindra with 90% salary hike. upGrad's Online Power Learning has powered 3 lakh+ careers.\n",
      "실제 헤드라인: upGrad learner switches to career in ML & Al with 90% salary hike\n",
      "예측 헤드라인: upGrad's Online Power Learning has powered 3 lakh+ careers.\n",
      "--------------------------------------------------\n",
      "원문: Kunal Shah's credit card bill payment platform, CRED, gave users a chance to win free food from Swiggy for one year. Pranav Kaushik, a Delhi techie, bagged this reward after spending 2000 CRED coins. Users get one CRED coin per rupee of bill paid, which can be used to avail rewards from brands like Ixigo, BookMyShow, UberEats, Cult.Fit and more.\n",
      "실제 헤드라인: Delhi techie wins free food from Swiggy for one year on CRED\n",
      "예측 헤드라인: Users get one CRED coin per rupee of bill paid, which can be used to avail rewards from brands like Ixigo, BookMyShow, UberEats, Cult.Fit and more.\n",
      "--------------------------------------------------\n",
      "원문: New Zealand defeated India by 8 wickets in the fourth ODI at Hamilton on Thursday to win their first match of the five-match ODI series. India lost an international match under Rohit Sharma's captaincy after 12 consecutive victories dating back to March 2018. The match witnessed India getting all out for 92, their seventh lowest total in ODI cricket history.\n",
      "실제 헤드라인: New Zealand end Rohit Sharma-led India's 12-match winning streak\n",
      "예측 헤드라인: The match witnessed India getting all out for 92, their seventh lowest total in ODI cricket history.\n",
      "--------------------------------------------------\n",
      "원문: With Aegon Life iTerm Insurance plan, customers can enjoy tax benefits on your premiums paid and save up to Ã¢ÂÂ¹46,800^ on taxes. The plan provides life cover up to the age of 100 years. Also, customers have options to insure against Critical Illnesses, Disability and Accidental Death Benefit Rider with a life cover up to the age of 80 years.\n",
      "실제 헤드라인: Aegon life iTerm insurance plan helps customers save tax\n",
      "예측 헤드라인: Also, customers have options to insure against Critical Illnesses, Disability and Accidental Death Benefit Rider with a life cover up to the age of 80 years.\n",
      "--------------------------------------------------\n",
      "원문: Speaking about the sexual harassment allegations against Rajkumar Hirani, Sonam Kapoor said, \"I've known Hirani for many years...What if it's not true, the [#MeToo] movement will get derailed.\" \"In the #MeToo movement, I always believe a woman. But in this case, we need to reserve our judgment,\" she added. Hirani has been accused by an assistant who worked in 'Sanju'.\n",
      "실제 헤드라인: Have known Hirani for yrs, what if MeToo claims are not true: Sonam\n",
      "예측 헤드라인: Speaking about the sexual harassment allegations against Rajkumar Hirani, Sonam Kapoor said, \"I've known Hirani for many years...What if it's not true, the [#MeToo] movement will get derailed.\" \"In the #MeToo movement, I always believe a woman.\n",
      "--------------------------------------------------\n",
      "원문: Pakistani singer Rahat Fateh Ali Khan has denied receiving any notice from the Enforcement Directorate over allegedly smuggling foreign currency out of India. \"It would have been better if the authorities would have served the notice first if any and then publicised this,\" reads a press release issued on behalf of Rahat. The statement further called the allegation \"bizarre\".\n",
      "실제 헤드라인: Rahat Fateh Ali Khan denies getting notice for smuggling currency\n",
      "예측 헤드라인: Pakistani singer Rahat Fateh Ali Khan has denied receiving any notice from the Enforcement Directorate over allegedly smuggling foreign currency out of India.\n",
      "--------------------------------------------------\n",
      "원문: India recorded their lowest ODI total in New Zealand after getting all out for 92 runs in 30.5 overs in the fourth ODI at Hamilton on Thursday. Seven of India's batsmen were dismissed for single-digit scores, while their number ten batsman Yuzvendra Chahal top-scored with 18*(37). India's previous lowest ODI total in New Zealand was 108.\n",
      "실제 헤드라인: India get all out for 92, their lowest ODI total in New Zealand\n",
      "예측 헤드라인: India's previous lowest ODI total in New Zealand was 108.\n",
      "--------------------------------------------------\n",
      "원문: Weeks after ex-CBI Director Alok Verma told the Department of Personnel and Training to consider him retired, the Home Ministry asked him to join work on the last day of his fixed tenure as Director on Thursday. The ministry directed him to immediately join as DG, Fire Services, the post he was transferred to after his removal as CBI chief.\n",
      "실제 헤드라인: Govt directs Alok Verma to join work 1 day before his retirement\n",
      "예측 헤드라인: Weeks after ex-CBI Director Alok Verma told the Department of Personnel and Training to consider him retired, the Home Ministry asked him to join work on the last day of his fixed tenure as Director on Thursday.\n",
      "--------------------------------------------------\n",
      "원문: Andhra Pradesh CM N Chandrababu Naidu has said, \"When I met then US President Bill Clinton, I addressed him as Mr Clinton, not as 'sir'. (PM Narendra) Modi is my junior in politics...I addressed him as sir 10 times.\" \"I did this...to satisfy his ego in the hope that he will do justice to the state,\" he added.\n",
      "실제 헤드라인: Called PM Modi 'sir' 10 times to satisfy his ego: Andhra CM\n",
      "예측 헤드라인: Andhra Pradesh CM N Chandrababu Naidu has said, \"When I met then US President Bill Clinton, I addressed him as Mr Clinton, not as 'sir'.\n",
      "--------------------------------------------------\n",
      "원문: Congress candidate Shafia Zubair won the Ramgarh Assembly seat in Rajasthan, by defeating BJP's Sukhwant Singh with a margin of 12,228 votes in the bypoll. With this victory, Congress has taken its total to 100 seats in the 200-member assembly. The election to the Ramgarh seat was delayed due to the death of sitting MLA and BSP candidate Laxman Singh.\n",
      "실제 헤드라인: Cong wins Ramgarh bypoll in Rajasthan, takes total to 100 seats\n",
      "예측 헤드라인: Congress candidate Shafia Zubair won the Ramgarh Assembly seat in Rajasthan, by defeating BJP's Sukhwant Singh with a margin of 12,228 votes in the bypoll.\n",
      "--------------------------------------------------\n",
      "원문: Two minor cousins in Uttar Pradesh's Gorakhpur were allegedly repeatedly burnt with tongs and forced to eat human excreta by their family for being friends with two boys from the same school. The cousins revealed their ordeal to the police and Child Welfare Committee after being brought back to Gorakhpur from Nepal, where they had fled to escape the torture.\n",
      "실제 헤드라인: UP cousins fed human excreta for friendship with boys\n",
      "예측 헤드라인: Two minor cousins in Uttar Pradesh's Gorakhpur were allegedly repeatedly burnt with tongs and forced to eat human excreta by their family for being friends with two boys from the same school.\n",
      "--------------------------------------------------\n",
      "원문: Isha Ghosh, an 81-year-old member of Bharat Scouts and Guides (BSG), has been imparting physical and mental training to schoolchildren in Jharkhand for several decades. Chaibasa-based Ghosh reportedly walks seven kilometres daily and spends eight hours conducting physical training, apart from climbing and yoga sessions. She says, \"One should do something for society till one's last breath.\"\n",
      "실제 헤드라인: 81-yr-old woman conducts physical training in J'khand schools\n",
      "예측 헤드라인: Isha Ghosh, an 81-year-old member of Bharat Scouts and Guides (BSG), has been imparting physical and mental training to schoolchildren in Jharkhand for several decades.\n",
      "--------------------------------------------------\n",
      "원문: Urging saints and seers at the Kumbh Mela to quit smoking, Yoga guru Ramdev said, \"We follow Ram and Krishna who never smoked in their life then why should we?\" Making them take a pledge to quit tobacco, he collected chillum (clay pipe) from several sadhus. He said he will deposit the chillums for display at a museum he'll build.\n",
      "실제 헤드라인: Ram, Krishna didn't smoke, why should we: Ramdev to sadhus at Kumbh\n",
      "예측 헤드라인: Urging saints and seers at the Kumbh Mela to quit smoking, Yoga guru Ramdev said, \"We follow Ram and Krishna who never smoked in their life then why should we?\" Making them take a pledge to quit tobacco, he collected chillum (clay pipe) from several sadhus.\n",
      "--------------------------------------------------\n",
      "원문: Former stripper and regional sales director of a pharmaceutical company, Sunrise Lee, gave a doctor a lap dance in a nightclub to persuade him to prescribe an addictive fentanyl spray in 2012, the company's sales representative told a US court. She said she saw Lee \"sitting on [doctor's] lap, kind of bouncing around.\" Lee has been accused of bribing doctors.\n",
      "실제 헤드라인: Pharma exec gave doctor a lap dance to sell medicine in US: Witness\n",
      "예측 헤드라인: Former stripper and regional sales director of a pharmaceutical company, Sunrise Lee, gave a doctor a lap dance in a nightclub to persuade him to prescribe an addictive fentanyl spray in 2012, the company's sales representative told a US court.\n",
      "--------------------------------------------------\n",
      "원문: Reliance Industries' Chairman Mukesh Ambani's daughter Isha Ambani, who got married last month, said she only cried at her 'bidaai' because she felt peer pressure as everyone was crying, especially her parents. \"I was emotional too but everyone around me would cry all the time,\" she added. \"It was a very emotional affair for everyone in my family,\" said Isha.\n",
      "실제 헤드라인:  I only cried at my 'bidaai' as I felt peer pressure: Isha Ambani\n",
      "예측 헤드라인: \"It was a very emotional affair for everyone in my family,\" said Isha.\n",
      "--------------------------------------------------\n",
      "원문: Louis Vuitton owner LVMH, which makes high-end beverages like MoÃÂ«t & Chandon champagne and Hennessy cognac, said it's stockpiling four months' worth of wine and spirits in UK in preparation for Brexit. \"We're ready for worst case scenario if there are difficulties with deliveries,\" the French luxury giant said. The UK is scheduled to leave the EU on March 29.\n",
      "실제 헤드라인: Louis Vuitton owner to stockpile 4 months of wine, spirits in UK\n",
      "예측 헤드라인: Louis Vuitton owner LVMH, which makes high-end beverages like MoÃÂ«t & Chandon champagne and Hennessy cognac, said it's stockpiling four months' worth of wine and spirits in UK in preparation for Brexit.\n",
      "--------------------------------------------------\n",
      "원문: Filmmaker Karan Johar and actress Tabu turned showstoppers for Gaurav Gupta on the opening night of LakmÃÂ© Fashion Week Summer/ Resort 2019. While Johar wore a red sequinned jacket with black pants, Tabu walked the ramp in a grey embellished gown. The fashion show, which began on January 29, will continue till February 3.\n",
      "실제 헤드라인: Karan Johar, Tabu turn showstoppers on opening night of LFW\n",
      "예측 헤드라인: Filmmaker Karan Johar and actress Tabu turned showstoppers for Gaurav Gupta on the opening night of LakmÃÂ© Fashion Week Summer/ Resort 2019.\n",
      "--------------------------------------------------\n",
      "원문: In a jibe at Congress President Rahul Gandhi, PM Narendra Modi on Wednesday said those on \"bail will have to go to jail.\" PM Modi added, \"He is out on bail and his associates too are facing charges...I know they will be convicted one day.\" The PM claimed he'd waged a war on corruption because he's from a common household. \n",
      "실제 헤드라인: Those on bail will go to jail: PM Modi takes jibe at Rahul\n",
      "예측 헤드라인: No summary generated\n",
      "--------------------------------------------------\n",
      "원문: Days after he threatened to step down from his post if Congress MLAs continue \"crossing the line,\" Karnataka Chief Minister HD Kumaraswamy accused them of taking potshots and asked, \"How many more days can I tolerate such stuff?\" Kumaraswamy, who made the statements after a Congress MLA demanded that Siddaramaiah be made CM again, said, \"Power is ephemeral.\"\n",
      "실제 헤드라인: How long can I tolerate Congress leaders' potshots: K'taka CM\n",
      "예측 헤드라인: No summary generated\n",
      "--------------------------------------------------\n",
      "원문: Union Minister Dharmendra Pradhan on Wednesday claimed the illegal mining mafia in Odisha operates under the control of CM Naveen Patnaik and state Congress chief Niranjan Patnaik. He added, \"The time has come for the people of Odisha to put a full stop to their activities...The time has come for us to ask for an explanation from this corrupt government.\"\n",
      "실제 헤드라인: Odisha CM Patnaik controls mining mafia: Union Minister\n",
      "예측 헤드라인: Union Minister Dharmendra Pradhan on Wednesday claimed the illegal mining mafia in Odisha operates under the control of CM Naveen Patnaik and state Congress chief Niranjan Patnaik.\n",
      "--------------------------------------------------\n",
      "원문: Claiming there is a dearth of ideas among opposition parties, Prime Minister Narendra Modi on Wednesday said, \"The opposition talks only about Modi the whole day, I suspect they even dream about me.\" PM Modi, who was addressing the New India Youth Conclave inÃ¢ÂÂ Surat, added that the opposition parties have only one agenda which is \"Modi\". \n",
      "실제 헤드라인: I think the opposition even dreams about me: PM Modi\n",
      "예측 헤드라인: No summary generated\n",
      "--------------------------------------------------\n",
      "원문: The Indian Space Research Organisation on Wednesday unveiled Human Space Flight Centre in Bengaluru for its Ã¢ÂÂ¹10,000-crore manned space mission 'Gaganyaan' scheduled for 2021. ISRO said the centre will be responsible for development of engineering systems for crew survival in space and crew selection and training. It'll also pursue activities for sustained human space flight missions, ISRO added.\n",
      "실제 헤드라인: ISRO unveils Bengaluru centre for manned space mission \n",
      "예측 헤드라인: It'll also pursue activities for sustained human space flight missions, ISRO added.\n",
      "--------------------------------------------------\n",
      "원문: At least 12 people have been killed and 170 others have been injured in Saudi Arabia this week due to flooding from heavy rain. The emergency services rescued 271 people from the flooded areas, more than half of them in Tabuk. Heavy rains hit mainly western and northwestern parts of Saudi Arabia, near its border with Jordan.\n",
      "실제 헤드라인: 12 killed, 170 injured in Saudi Arabia floods\n",
      "예측 헤드라인: At least 12 people have been killed and 170 others have been injured in Saudi Arabia this week due to flooding from heavy rain.\n",
      "--------------------------------------------------\n",
      "원문: Reliance Industries' Chairman Mukesh Ambani's daughter Isha Ambani has featured on the cover of the February edition of Vogue India. She's dressed in a white shirt dress and black ruffled skirt by Australian designer Toni Maticevski, while accessorising her look with a Misho ring. In the cover story on her, Isha has spoken about her work and life after marriage.\n",
      " \n",
      "실제 헤드라인: Isha Ambani features on February cover of Vogue magazine\n",
      "예측 헤드라인: Reliance Industries' Chairman Mukesh Ambani's daughter Isha Ambani has featured on the cover of the February edition of Vogue India.\n",
      "--------------------------------------------------\n",
      "원문: Indian Oil Corporation on Wednesday said it's looking for an annual deal to buy US crude as it seeks to broaden oil purchasing options. This comes amid uncertainties over Iran imports. The US had in November granted a six-month waiver to India from sanctions against Iran and restricted the country's monthly intake of Iranian oil to 3,00,000 barrels per day.\n",
      "\n",
      "\n",
      "실제 헤드라인: Indian Oil looking for annual deal to buy crude from US\n",
      "예측 헤드라인: The US had in November granted a six-month waiver to India from sanctions against Iran and restricted the country's monthly intake of Iranian oil to 3,00,000 barrels per day.\n",
      "--------------------------------------------------\n",
      "원문: Former Windies fast bowler Curtly Ambrose dismissed seven Australian batsmen within a span of 32 balls giving away just one run, in a Test match on January 30, 1993. Ambrose's spell helped his team bowl out Australia for 119 in the first innings, after being 85 for 2 at one point. Ambrose ended with first-innings figures of 18-9-25-7.\n",
      "실제 헤드라인: Pacer once took 7 wickets for just 1 run in 32 balls in a Test\n",
      "예측 헤드라인: Ambrose ended with first-innings figures of 18-9-25-7.\n",
      "--------------------------------------------------\n",
      "원문: A London zoo is offering people to name a cockroach after their exes on Valentine's Day for ÃÂ£1.50 (nearly Ã¢ÂÂ¹140). \"For those that don't quite require revenge, there's another way to make you feel better about getting back at your ex,\" the zoo said in a statement. The names will appear on zoo's 'roach board' on February 14. \n",
      "실제 헤드라인: UK zoo offers people to name cockroach after their ex on Valentine's\n",
      "예측 헤드라인: The names will appear on zoo's 'roach board' on February 14.\n",
      "--------------------------------------------------\n",
      "원문: Stand-in captain Rohit Sharma has become the 14th Indian cricketer to play 200 ODIs, achieving the feat after taking the field against New Zealand in fourth ODI at Hamilton on Thursday. The 31-year-old had made his ODI debut on June 23, 2007, against Ireland in Belfast. Rohit scored 7,799 runs in his first 199 ODIs at an average of 48.14.\n",
      "실제 헤드라인: Rohit Sharma becomes 14th Indian cricketer to play 200 ODIs\n",
      "예측 헤드라인: Rohit scored 7,799 runs in his first 199 ODIs at an average of 48.14.\n",
      "--------------------------------------------------\n",
      "원문: Batsman Shubman Gill has become the 227th cricketer to represent India in ODI cricket, achieving the feat against New Zealand in the fourth ODI at Hamilton on Thursday. The 19-year-old received his maiden ODI cap from former captain MS Dhoni. Notably, Shubman was named Player of the Under-19 World Cup in New Zealand last year.\n",
      "실제 헤드라인: 19-year-old Shubman Gill becomes India's 227th ODI cricketer\n",
      "예측 헤드라인: Notably, Shubman was named Player of the Under-19 World Cup in New Zealand last year.\n",
      "--------------------------------------------------\n",
      "원문: Investigators searching for a lost plane carrying Argentine forward Emiliano Sala found two seat cushions on French coast that \"likely\" belonged to the aircraft. The investigators said they'll now launch an underwater seabed search for aircraft wreckage. The Cardiff City footballer was travelling from France's Nantes to Wales' Cardiff when his plane disappeared over English Channel on January 21.\n",
      "실제 헤드라인: 2 seat cushions from 'missing plane carrying footballer' found\n",
      "예측 헤드라인: Investigators searching for a lost plane carrying Argentine forward Emiliano Sala found two seat cushions on French coast that \"likely\" belonged to the aircraft.\n",
      "--------------------------------------------------\n",
      "원문: Italian third division football side Lucchese's head coach Giancarlo Favarin has been banned for five months for headbutting Alessandria's assistant coach Gaetano Mancino during a brawl following the teams' 2-2 draw on Sunday. Mancino was caught off-balance and knocked to the ground after the headbutt. Earlier in the match, Favarin had told his own player to break an opponent's legs.\n",
      "실제 헤드라인: Italian coach knocks rival down with headbutt, banned for 5 months\n",
      "예측 헤드라인: Italian third division football side Lucchese's head coach Giancarlo Favarin has been banned for five months for headbutting Alessandria's assistant coach Gaetano Mancino during a brawl following the teams' 2-2 draw on Sunday.\n",
      "--------------------------------------------------\n",
      "원문: Cyclists taking part in National Track Cycling Championship in Jaipur opted to sleep on the floor inside the stadium instead of hotels over expensive cycles. The organisers had booked hotels but they didn't have the provision for cyclists to keep their bikes inside. A national gold medallist said their cycles cost between Ã¢ÂÂ¹5-9 lakh and once damaged, they become non-repairable. \n",
      "실제 헤드라인: Cyclists sleep on stadium floor instead of hotel over costly cycles\n",
      "예측 헤드라인: Cyclists taking part in National Track Cycling Championship in Jaipur opted to sleep on the floor inside the stadium instead of hotels over expensive cycles.\n",
      "--------------------------------------------------\n",
      "원문: Silvia Grecco, a 56-year-old Brazilian mother narrates her local football team Palmeiras' matches live to her 12-year-old blind and autistic son Nickollas from the stands. \"I describe details: this player is wearing short sleeves...colour of...football boots, hair colour...Everything I see and feel, I tell him, even when I need to curse the referee!\" Grecco said after a recent match.\n",
      "실제 헤드라인: Brazilian mother narrates football matches to blind son from stands\n",
      "예측 헤드라인: Silvia Grecco, a 56-year-old Brazilian mother narrates her local football team Palmeiras' matches live to her 12-year-old blind and autistic son Nickollas from the stands.\n",
      "--------------------------------------------------\n",
      "원문: A TechCrunch report has claimed that IndiaÃ¢ÂÂs largest bank SBI secured a passwordless server \"overnight\" on being alerted it allowed anyone to access phone numbers, bank balances, and transactions of millions of its customers. The Mumbai-based server was containing two months of data from SBI Quick, an SMS and call-based system used to request basic information about accounts, TechCrunch revealed.\n",
      "실제 헤드라인: SBI left account data of millions of users unprotected: Report\n",
      "예측 헤드라인: A TechCrunch report has claimed that IndiaÃ¢ÂÂs largest bank SBI secured a passwordless server \"overnight\" on being alerted it allowed anyone to access phone numbers, bank balances, and transactions of millions of its customers.\n",
      "--------------------------------------------------\n",
      "원문: Rahul Gandhi has replied to Goa CM Manohar Parrikar's letter, which accused the Congress President of using his \"visit to an ailing man for political gains\". \"He's under immense pressure from the PM after our meeting and needs to demonstrate his loyalty by attacking me,\" Gandhi wrote in his letter. Parrikar had clarified he didn't discuss Rafale deal with Rahul.\n",
      "실제 헤드라인: CM Parrikar under pressure from PM after our Goa meet: Rahul\n",
      "예측 헤드라인: Rahul Gandhi has replied to Goa CM Manohar Parrikar's letter, which accused the Congress President of using his \"visit to an ailing man for political gains\".\n",
      "--------------------------------------------------\n",
      "원문: Twenty-seven-year-old Mohammed Mahuwala was arrested in Indore on Wednesday for allegedly cheating e-commerce giant Amazon of nearly Ã¢ÂÂ¹30 lakh. Mahuwala was a member of a gang who ordered costly gadgets from Amazon. \"[They] used to get refund of the amount paid...by saying the parcel...was empty. In reality, these devices were taken out from parcel and sold...to local shopkeepers,\" said police.\n",
      "실제 헤드라인: Man arrested for cheating Amazon of Ã¢ÂÂ¹30 lakh by taking refunds\n",
      "예측 헤드라인: Twenty-seven-year-old Mohammed Mahuwala was arrested in Indore on Wednesday for allegedly cheating e-commerce giant Amazon of nearly Ã¢ÂÂ¹30 lakh.\n",
      "Mahuwala was a member of a gang who ordered costly gadgets from Amazon.\n",
      "--------------------------------------------------\n",
      "원문: AgustaWestland chopper scam co-accused Rajiv Saxena was extradited to India from UAE on Wednesday. He had been evading the Enforcement Directorate's summons claiming he was suffering from leukaemia but had moved an anti-money laundering court for anticipatory bail in December, stating he had never been summoned at his Dubai address. Saxena's lawyers alleged he had been \"illegally extradited\". \n",
      "실제 헤드라인: AgustaWestland scam accused Rajiv Saxena extradited to India\n",
      "예측 헤드라인: AgustaWestland chopper scam co-accused Rajiv Saxena was extradited to India from UAE on Wednesday.\n",
      "--------------------------------------------------\n",
      "원문: Afghan President Ashraf Ghani has said the \"keys to war\" are in Pakistan's Islamabad, Quetta and Rawalpindi, accusing the country of providing safe havens to militants, including those belonging to the Taliban. Ghani added the \"key to peace was in Afghanistan\". His comments came amid the talks between the US and the Taliban to end the 17-year war in Afghanistan.\n",
      "실제 헤드라인: Pakistan holds 'keys to war': Afghanistan\n",
      "예측 헤드라인: Afghan President Ashraf Ghani has said the \"keys to war\" are in Pakistan's Islamabad, Quetta and Rawalpindi, accusing the country of providing safe havens to militants, including those belonging to the Taliban.\n",
      "--------------------------------------------------\n",
      "원문: A Singapore-based insurance agent has been jailed for two years and five months for threatening to harm his clients unless they paid him in bitcoins. The 36-year-old set up an email account, and signed the messages as 'Lord Voldemort', a fictional character from the Harry Potter series. Ye Lin Myint targeted about 33 people, including those who cancelled insurance policies.\n",
      "실제 헤드라인: Insurance agent 'Lord Voldemort' jailed for threatening clients\n",
      "예측 헤드라인: A Singapore-based insurance agent has been jailed for two years and five months for threatening to harm his clients unless they paid him in bitcoins.\n",
      "--------------------------------------------------\n",
      "원문: Gabrielle Reilly, a 22-year-old US woman, created earrings for her Apple AirPods and put it up for sale online for $20 (about Ã¢ÂÂ¹1,500). \"I absolutely refuse to lose them (AirPods)...So I made earrings,\" she explained. The earrings, which took her over an hour to make, debuted in a video on Twitter that has since garnered over three million views.\n",
      "실제 헤드라인: Woman turns Apple AirPods into earrings to avoid losing them\n",
      "예측 헤드라인: \"I absolutely refuse to lose them (AirPods)...So I made earrings,\" she explained.\n",
      "--------------------------------------------------\n",
      "원문: Ex-ICICI Bank CEO Chanda Kochhar said she's \"utterly disappointed, hurt and shocked\" by the bank's decision to terminate her. Kochhar said she served ICICI for 34 years with utmost honesty and integrity and that ultimately truth will prevail. Adding that she hasn't been given a copy of the independent probe report, Kochhar said none of ICICI's credit decisions are unilateral\n",
      "실제 헤드라인: Shocked, hurt by ICICI's decision, truth will prevail: Kochhar\n",
      "예측 헤드라인: Adding that she hasn't been given a copy of the independent probe report, Kochhar said none of ICICI's credit decisions are unilateral\n",
      "--------------------------------------------------\n",
      "원문: Swedish multinational fast-fashion brand Hennes & Mauritz AB (H&M) has hired Christopher Wylie, the whistleblower who exposed Facebook's Cambridge Analytica data scandal. WylieÃ¢ÂÂs focus will be to help get better insights on customers, products and markets and support work on sustainable and ethical artificial intelligence, H&M spokesperson said. Wylie is a former employee of Cambridge Analytica.\n",
      "실제 헤드라인: Fashion brand H&M hires Facebook data scandal whistleblower\n",
      "예측 헤드라인: Swedish multinational fast-fashion brand Hennes & Mauritz AB (H&M) has hired Christopher Wylie, the whistleblower who exposed Facebook's Cambridge Analytica data scandal.\n",
      "--------------------------------------------------\n",
      "원문: Micro-blogging platform Twitter is testing a new feature on Android to put news on the top of a user's timeline. \"With this update, weÃ¢ÂÂre making it easier for people to see news and stories their followers have been discussing,\" Product Manager Walter Gurzynski said. The feature comes alongside a prompt saying, \"Catch up on what's happened while you were away.\"\n",
      "실제 헤드라인: Twitter testing news-first timeline feature on Android\n",
      "예측 헤드라인: Micro-blogging platform Twitter is testing a new feature on Android to put news on the top of a user's timeline.\n",
      "--------------------------------------------------\n",
      "원문: Samsung has started mass producing its one terabyte 'embedded Universal Flash Storage (eUFS) 2.1' technology for \"use in next-generation mobile applications\", which it claims is the industry's first such eUFS. The company added the new eUFS will let smartphones store 260 10-minute videos shot in 4K UHD format. It'll be sized the same as the previous 512GB version, Samsung said.\n",
      "실제 헤드라인: Samsung builds world's first 1TB storage chip for smartphones \n",
      "예측 헤드라인: Samsung has started mass producing its one terabyte 'embedded Universal Flash Storage (eUFS) 2.1' technology for \"use in next-generation mobile applications\", which it claims is the industry's first such eUFS.\n",
      "--------------------------------------------------\n",
      "원문: Prime Minister Narendra Modi on Wednesday said the people with 'negative mindset' are questioning him and his government for floating pro-poor schemes. He added negative mindset people are raising doubts about schemes such as building toilets and providing free gas connections to the poor. He further said that negative mentality laced with a vested interest still exists in the country.\n",
      "실제 헤드라인: People with 'negative mindset' quizzing pro-poor schemes: PM\n",
      "예측 헤드라인: Prime Minister Narendra Modi on Wednesday said the people with 'negative mindset' are questioning him and his government for floating pro-poor schemes.\n",
      "--------------------------------------------------\n",
      "원문: Union Minister Anantkumar Hegde took a dig at Congress President Rahul Gandhi by calling him a \"hybrid specimen\" who has no clue about religion. \"A father who's...Muslim, a mother who's...Christian and the son is supposed to be...Brahmin. How is that even possible?\" he said. He added such \"hybrid specimen\" cannot be found in any laboratory in the world.\n",
      "실제 헤드라인: Rahul is hybrid specimen, has no clue about religion: Hegde\n",
      "예측 헤드라인: Union Minister Anantkumar Hegde took a dig at Congress President Rahul Gandhi by calling him a \"hybrid specimen\" who has no clue about religion.\n",
      "He added such \"hybrid specimen\" cannot be found in any laboratory in the world.\n",
      "--------------------------------------------------\n",
      "원문: Several parts of the US are set to experience record low temperatures as the polar vortex hit the Upper Midwest, with more than 200 million people expected to experience below-freezing temperatures this week. Temperatures throughout the Upper Midwest are expected to be at least 20-40Ã¢ÂÂ below zero. Government offices and schools have been closed in several areas.\n",
      "실제 헤드라인: Extreme cold to affect 200 million people as polar vortex hits US\n",
      "예측 헤드라인: Several parts of the US are set to experience record low temperatures as the polar vortex hit the Upper Midwest, with more than 200 million people expected to experience below-freezing temperatures this week.\n",
      "--------------------------------------------------\n",
      "원문: The police on Wednesday registered cases against 13 persons, including a woman leader of Hindu Mahasabha, in Aligarh for firing at an effigy of Mahatma Gandhi with an air pistol. \"The incident took place in a house in Naurangabad locality of the city,\" Senior Superintendent of Police said. The video of the event went viral on social media, he added.\n",
      "실제 헤드라인: 13 booked for firing air shots at Mahatma Gandhi's effigy\n",
      "예측 헤드라인: The police on Wednesday registered cases against 13 persons, including a woman leader of Hindu Mahasabha, in Aligarh for firing at an effigy of Mahatma Gandhi with an air pistol.\n",
      "--------------------------------------------------\n",
      "원문: Railway police has rescued a woman travelling on a train in Chennai who got her leg stuck inside the commode of a toilet. After being caught inside the commode hole, she struggled to remove her leg and following failed attempts, she shouted for help, reports said. Railway police used a cutter to pry open the commode and freed her leg.\n",
      "실제 헤드라인: Railway police rescues woman with leg stuck in train toilet\n",
      "예측 헤드라인: Railway police has rescued a woman travelling on a train in Chennai who got her leg stuck inside the commode of a toilet.\n",
      "--------------------------------------------------\n",
      "원문: The US on Tuesday began returning asylum seekers to Mexico, sending back a migrant from a Central American nation and called the move a \"response to the illegal migration crisis\" faced by it. Under its Migrant Protection Protocols policy, the US will return certain migrants who cross into the country illegally back to Mexico while their asylum requests are processed.\n",
      "실제 헤드라인: US begins sending back asylum seekers to Mexico\n",
      "예측 헤드라인: The US on Tuesday began returning asylum seekers to Mexico, sending back a migrant from a Central American nation and called the move a \"response to the illegal migration crisis\" faced by it.\n",
      "--------------------------------------------------\n",
      "원문: Former Finance Minister Yashwant Sinha on Tuesday demanded a probe into the alleged diversion of loans worth Ã¢ÂÂ¹31,000 crore by Dewan Housing Finance (DHFL). All agencies including regulators of the government have failed to track nefarious deals, he said. This comes after a media report on Tuesday accused DHFL's controlling shareholders of diverting funds to shell companies to buy assets.\n",
      "실제 헤드라인: Yashwant Sinha demands probe into alleged fund diversion by DHFL\n",
      "예측 헤드라인: Former Finance Minister Yashwant Sinha on Tuesday demanded a probe into the alleged diversion of loans worth Ã¢ÂÂ¹31,000 crore by Dewan Housing Finance (DHFL).\n",
      "--------------------------------------------------\n",
      "원문: US-based Boeing on Wednesday reported annual sales worth $101.12 billion in 2018, the first time the planemaker's sales crossed the $100-billion mark in its 102-year history. The company said it expects to deliver between 895 and 905 commercial aircraft in 2019. Boeing retained its position as the world's largest planemaker for the seventh straight year, delivering 806 aircraft in 2018. \n",
      "실제 헤드라인: Boeing sales cross $100bn for 1st time in its 102-yr history\n",
      "예측 헤드라인: Boeing retained its position as the world's largest planemaker for the seventh straight year, delivering 806 aircraft in 2018.\n",
      "--------------------------------------------------\n",
      "원문: text\n",
      "실제 헤드라인: headlines\n",
      "예측 헤드라인: No summary generated\n",
      "--------------------------------------------------\n",
      "원문: OnePlus has emerged as India's best-selling premium smartphone brand of 2018, as per a report by Counterpoint. It captured 36% of the market share in the premium segment, in Q4 2018. Further, its OnePlus 6 emerged as the highest selling premium smartphone of 2018 followed by OnePlus 6T.\n",
      "실제 헤드라인: OnePlus named bestselling premium smartphone brand of 2018: Report\n",
      "예측 헤드라인: Further, its OnePlus 6 emerged as the highest selling premium smartphone of 2018 followed by OnePlus 6T.\n",
      "--------------------------------------------------\n",
      "원문: Filmmaker Pooja Bhatt, while talking about the presentation of women in her films, said, \"I can never look at a female body, even if it's naked, in a vulgar manner.\" \"Our audience can say...the women in my films are bold or sensual, but never ever vulgar,\" she added. Pooja further said her censor board is her \"own heart and mind\".\n",
      "실제 헤드라인: Can never look at female body, even if naked, in vulgar way: Pooja\n",
      "예측 헤드라인: Filmmaker Pooja Bhatt, while talking about the presentation of women in her films, said, \"I can never look at a female body, even if it's naked, in a vulgar manner.\" \"Our audience can say...the women in my films are bold or sensual, but never ever vulgar,\" she added.\n",
      "--------------------------------------------------\n",
      "원문: Actress Mishti, who has featured in 'Manikarnika: The Queen of Jhansi', has said the film's co-director Kangana Ranaut made false promises to the cast. \"Kangana had said, 'I want dates because all characters look jumbled up...I'm trying my best to give everybody a prominent space on screen.' After watching the movie, there is no scope for other characters,\" Mishti added. \n",
      "실제 헤드라인: Kangana made fake promises to cast: 'Manikarnika' actress Mishti\n",
      "예측 헤드라인: Actress Mishti, who has featured in 'Manikarnika: The Queen of Jhansi', has said the film's co-director Kangana Ranaut made false promises to the cast.\n",
      "--------------------------------------------------\n",
      "원문: The high-powered committee led by PM Narendra Modi to select the next CBI Director will meet again on February 1, Congress leader Mallikarjun Kharge has said. The panel consisting of Kharge and Chief Justice of India Ranjan Gogoi met on January 24, but the meeting ended \"inconclusively\" after Kharge cited lack of details in the list of 80 IPS officers. \n",
      "실제 헤드라인: PM-led panel to meet on Friday to pick new CBI chief: Kharge\n",
      "예측 헤드라인: The high-powered committee led by PM Narendra Modi to select the next CBI Director will meet again on February 1, Congress leader Mallikarjun Kharge has said.\n",
      "--------------------------------------------------\n",
      "원문: Nevada State Athletic Commission has banned MMA fighters Conor McGregor and Khabib Nurmagomedov for six months and nine months respectively over their roles in the mass brawl that occurred after their fight at UFC 229 last October. McGregor and Khabib have been fined $50,000 (Ã¢ÂÂ¹35 lakh) and $500,000 (Ã¢ÂÂ¹3.5 crore) respectively. The brawl occurred after Nurmagomedov confronted McGregor's teammate.\n",
      "실제 헤드라인: McGregor fined Ã¢ÂÂ¹35 lakh, Khabib Ã¢ÂÂ¹3.5 crore for brawl; both banned\n",
      "예측 헤드라인: Nevada State Athletic Commission has banned MMA fighters Conor McGregor and Khabib Nurmagomedov for six months and nine months respectively over their roles in the mass brawl that occurred after their fight at UFC 229 last October.\n",
      "--------------------------------------------------\n",
      "원문: Pakistan captain Sarfaraz Ahmed, who has been banned for four matches over racist remarks, took an apparent dig at his critics by sharing a video of a child reciting 'log hai na' poem on Twitter. \"Pyaar karna hai to khud se kar...dushmani karne ke liye log hai na,\" the poem read. \"This is how the world is,\" Sarfaraz wrote.\n",
      "실제 헤드라인: Banned for 4 matches, Sarfaraz shares 'log hai na' poem for critics\n",
      "예측 헤드라인: Pakistan captain Sarfaraz Ahmed, who has been banned for four matches over racist remarks, took an apparent dig at his critics by sharing a video of a child reciting 'log hai na' poem on Twitter.\n",
      "--------------------------------------------------\n",
      "원문: Banned cricketer Sreesanth has told Supreme Court he initially confessed to Delhi Police about his alleged involvement in 2013 IPL spot-fixing scandal to escape continuous police torture. Sreesanth further said the bookie tried dragging him into spot-fixing but he didn't fall for it. Citing Sreesanth not informing BCCI about fixing approach, the apex court said Sreesanth's conduct \"wasn't good\".\n",
      "실제 헤드라인: Confessed to spot-fixing to escape police torture: Sreesanth to SC\n",
      "예측 헤드라인: Sreesanth further said the bookie tried dragging him into spot-fixing but he didn't fall for it.\n",
      "--------------------------------------------------\n",
      "원문: The Finance Ministry on Wednesday said the government will present an Interim Budget on February 1. The clarification came amid speculations that a full Budget may be presented during the session. The government recently assigned Piyush Goyal temporary additional charge of the Finance and Corporate Affairs ministries in the absence of Arun Jaitley, who is in the US for treatment.\n",
      "실제 헤드라인: Govt to present Interim Budget, not full Budget on February 1\n",
      "예측 헤드라인: The Finance Ministry on Wednesday said the government will present an Interim Budget on February 1.\n",
      "--------------------------------------------------\n",
      "원문: US President Donald Trump on Wednesday called his country's top intelligence chiefs \"naive\" and \"wrong\" on Iran and added that they should perhaps \"go back to school\". Trump claimed Iran is testing rockets, calling the country \"a source of potential danger and conflict\". Top US intelligence officials on Tuesday said that Iran isn't currently taking steps towards building nuclear weapons.\n",
      "실제 헤드라인: US intelligence naive and wrong, should go back to school: Trump\n",
      "예측 헤드라인: US President Donald Trump on Wednesday called his country's top intelligence chiefs \"naive\" and \"wrong\" on Iran and added that they should perhaps \"go back to school\".\n",
      "--------------------------------------------------\n",
      "원문: A senior priest at the Vatican who handled cases of sexual abuse has quit after being accused of sexual abuse by a former nun. The accused priest claimed he is innocent and said he would consider taking legal action. The Vatican said in a statement that a Church investigation of the case was underway.\n",
      "실제 헤드라인: Vatican priest handling sex abuse cases quits over alleged sex abuse\n",
      "예측 헤드라인: A senior priest at the Vatican who handled cases of sexual abuse has quit after being accused of sexual abuse by a former nun.\n",
      "--------------------------------------------------\n",
      "원문: A 22-year-old writer turned down a job offer, claiming she was bullied to the point of tears during her two-hour interview by a UK company's CEO. Olivia Bland added the \"brutal\" interview brought back painful memories of her abusive relationship. \"I am so sorry that anyone has been hurt, it is never my intent,\" Web Applications CEO Craig Dean replied. \n",
      "실제 헤드라인: Woman rejects job after CEO bullies her in interview; he apologises\n",
      "예측 헤드라인: A 22-year-old writer turned down a job offer, claiming she was bullied to the point of tears during her two-hour interview by a UK company's CEO.\n",
      "--------------------------------------------------\n",
      "원문: Noida Police has arrested Sector 20 station in-charge Manoj Pant and three journalists for allegedly extorting money from a call centre owner for removing his name from an FIR. The four were caught while taking bribe money of Ã¢ÂÂ¹8 lakh, police said. Pant was the lead investigator in the Paytm extortion case involving Founder Vijay Shekhar Sharma's secretary Sonia Dhawan.\n",
      "실제 헤드라인: Police officer probing Paytm extortion case arrested for extortion\n",
      "예측 헤드라인: Noida Police has arrested Sector 20 station in-charge Manoj Pant and three journalists for allegedly extorting money from a call centre owner for removing his name from an FIR.\n",
      "--------------------------------------------------\n",
      "원문: Airtel on Wednesday said that Qatar's sovereign wealth fund Qatar Investment Authority will invest $200 million through a primary equity issuance in Airtel Africa. India's second-largest telecom operator's Africa unit recently raised $1.25 billion from six investors. Airtel Africa, the holding company for Airtel's operations in 14 African countries, is preparing for an initial public offering.\n",
      "실제 헤드라인: Qatar to invest $200 million in Airtel Africa\n",
      "예측 헤드라인: Airtel Africa, the holding company for Airtel's operations in 14 African countries, is preparing for an initial public offering.\n",
      "--------------------------------------------------\n",
      "원문: Actor Shreyas Talpade said that 'Golmaal' filmmaker Rohit Shetty is still working on the script for the fifth instalment of the 'Golmaal' film franchise. \"He was telling us the other day that he...cracked some story. Once he's done with the...scripting, he'll take a call,Ã¢ÂÂ the actor added. The series features Shreyas along with Ajay Devgn, Arshad Warsi and Tusshar Kapoor.\n",
      "실제 헤드라인: Rohit Shetty still working on script for Golmaal 5: Shreyas\n",
      "예측 헤드라인: Actor Shreyas Talpade said that 'Golmaal' filmmaker Rohit Shetty is still working on the script for the fifth instalment of the 'Golmaal' film franchise.\n",
      "Once he's done with the...scripting, he'll take a call,Ã¢ÂÂ the actor added.\n",
      "--------------------------------------------------\n",
      "원문: A 72-year-old man named Terry Sanderson has sued 'Avengers' actress Gwyneth Paltrow for allegedly crashing into him while skiing, and is seeking $3.1 million (over Ã¢ÂÂ¹22 crore) in damages. The lawsuit states the actress got up and skied away after knocking the man down, leaving him with broken ribs. The incident reportedly took place in 2016 in Utah, US. \n",
      "실제 헤드라인: Man sues Avengers actress Gwyneth for Ã¢ÂÂ¹22 crore over ski crash\n",
      "예측 헤드라인: A 72-year-old man named Terry Sanderson has sued 'Avengers' actress Gwyneth Paltrow for allegedly crashing into him while skiing, and is seeking $3.1 million (over Ã¢ÂÂ¹22 crore) in damages.\n",
      "--------------------------------------------------\n",
      "원문: Yami Gautam was felicitated by Border Security Force (BSF) in Amritsar for her performance in 'Uri: The Surgical Strike'. \"BSF is the first line of defence of our country and it gives me...pride to have met them,\" Yami said. The film, which also stars Vicky Kaushal, is based on the Indian Army's surgical strike operation which took place in 2016.\n",
      "실제 헤드라인: Yami Gautam felicitated by BSF for performance in 'Uri...'\n",
      "예측 헤드라인: Yami Gautam was felicitated by Border Security Force (BSF) in Amritsar for her performance in 'Uri: The Surgical Strike'.\n",
      "--------------------------------------------------\n",
      "원문: Social media giant Facebook has hired privacy critic Nate Cardozo, formerly the top legal counsel for US privacy watchdog EFF, as a privacy policy manager for WhatsApp. Cardozo had called Facebook a \"faceless corporation\" whose business model depends on user's confusion and indifference about privacy, in October 2015. Facebook has also hired attorney Robyn Greene as its privacy policy manager.\n",
      "실제 헤드라인: Facebook hires its privacy critic as privacy policy manager\n",
      "예측 헤드라인: Social media giant Facebook has hired privacy critic Nate Cardozo, formerly the top legal counsel for US privacy watchdog EFF, as a privacy policy manager for WhatsApp. Cardozo had called Facebook a \"faceless corporation\" whose business model depends on user's confusion and indifference about privacy, in October 2015.\n",
      "--------------------------------------------------\n",
      "원문: Apple CEO Tim Cook said the company plans to lower some iPhones' prices in markets with currencies that weakened against the US dollar in the past year. \"WeÃ¢ÂÂve decided to go back to (iPhone prices) more commensurate with...local prices...a year ago,\" Cook added. The price cuts, in hopes of increasing sales, are reportedly occurring for second time in 12 years.\n",
      "실제 헤드라인: Apple to cut some iPhones' prices outside US over strong dollar\n",
      "예측 헤드라인: \"WeÃ¢ÂÂve decided to go back to (iPhone prices) more commensurate with...local prices...a year ago,\" Cook added.\n",
      "--------------------------------------------------\n",
      "원문: Scientists in Australia's Flinders University are testing a wetsuit prototype that could protect its wearer after a shark attack. The suit, made of synthetic material similar to the material used in bulletproof vests, could help reduce blood loss after a shark attack. \"The majority of fatalities from shark bites is due to blood loss...shock from blood loss,\" a scientist said.\n",
      "실제 헤드라인: Scientists test wetsuit to protect wearer after shark attack\n",
      "예측 헤드라인: \"The majority of fatalities from shark bites is due to blood loss...shock from blood loss,\" a scientist said.\n",
      "--------------------------------------------------\n",
      "원문: BJP National Secretary Rahul Sinha on Wednesday asked the party workers in West Bengal to come armed with sticks to PM Narendra Modi's rally in the state on February 2. His statement came a day after clashes broke out following BJP chief Amit Shah's WB rally. Sinha added the TMC is indulged in violence as they're afraid of BJP's strength.\n",
      "실제 헤드라인: Come armed with sticks for PM Modi's rally in WB: BJP leader\n",
      "예측 헤드라인: BJP National Secretary Rahul Sinha on Wednesday asked the party workers in West Bengal to come armed with sticks to PM Narendra Modi's rally in the state on February 2.\n",
      "--------------------------------------------------\n",
      "원문: BJP President Amit Shah on Wednesday took a dig at the Opposition parties saying that the 'mahagathbandhan' for the Opposition is 4B - \"Bua-Bhatija-Bhai-Behen\". He added that 4B for the BJP meant \"Badhta Bharat, Banta Bharat\". He said Opposition's government cannot take the country ahead and \"only Modiji can provide a 'mazboot' (strong) government\".\n",
      "실제 헤드라인: '4B' for Opposition is 'Bua-Bhatija-Bhai-Behen': Amit Shah\n",
      "예측 헤드라인: BJP President Amit Shah on Wednesday took a dig at the Opposition parties saying that the 'mahagathbandhan' for the Opposition is 4B - \"Bua-Bhatija-Bhai-Behen\".\n",
      "--------------------------------------------------\n",
      "원문: German automaker Volkswagen Group has retained the car industry's top spot in global sales, beating its Japanese rival Toyota. Volkswagen's sales, including its MAN and Scania heavy trucks and buses, rose 0.9% to 10.83 million in 2018, the company had said. Toyota came second with around 10.6 million deliveries, including its affiliated brands Daihatsu and Hino, in 2018.\n",
      "실제 헤드라인: Volkswagen retains top spot in global sales, beats Toyota\n",
      "예측 헤드라인: Volkswagen's sales, including its MAN and Scania heavy trucks and buses, rose 0.9% to 10.83 million in 2018, the company had said.\n",
      "--------------------------------------------------\n",
      "원문: Ousted Nissan Chairman Carlos Ghosn has said his arrest over alleged financial misconduct was led by \"plot and treason\" by the Japanese carmaker's executives who opposed its deeper integration with Renault and Mitsubishi. Ghosn added he had discussed the integration plans with Nissan's CEO in September, a month before his arrest. He further said he wouldn't flee if granted bail.\n",
      "실제 헤드라인: Plot, treason by Nissan executives led to my arrest: Ghosn\n",
      "예측 헤드라인: Ousted Nissan Chairman Carlos Ghosn has said his arrest over alleged financial misconduct was led by \"plot and treason\" by the Japanese carmaker's executives who opposed its deeper integration with Renault and Mitsubishi.\n",
      "--------------------------------------------------\n",
      "원문: The government has cut down customs duty on import of parts and components for electric vehicles to 10-15%, down from the previous 15-30%. The Central Board of Indirect Taxes and Customs said disassembled parts will attract 10% duty, whereas 15% will be levied on pre-assembled packs. However, fully built electric vehicles will continue to attract 25% import duty.\n",
      "실제 헤드라인: Govt cuts customs duty on electric vehicle parts to 10-15%\n",
      "예측 헤드라인: The government has cut down customs duty on import of parts and components for electric vehicles to 10-15%, down from the previous 15-30%.\n",
      "--------------------------------------------------\n",
      "원문: Government officials on Wednesday said that a swine flu outbreak has killed 76 people this year in Rajasthan. Colder weather has worsened the seasonal outbreak of the H1N1 virus in the country, officials added. Rajasthan recorded more than a third of all swine flu deaths in India with Jodhpur being the worst affected area in the state, officials said.\n",
      "실제 헤드라인: Swine flu outbreak kills 76 in Rajasthan\n",
      "예측 헤드라인: Government officials on Wednesday said that a swine flu outbreak has killed 76 people this year in Rajasthan.\n",
      "--------------------------------------------------\n",
      "원문: North Korea is \"unlikely to completely give up its nuclear weapons and production capabilities\", Director of US' National Intelligence, Daniel Coats, said. \"North Korean leaders view nuclear arms as critical to regime survival,\" he added. His statements come despite North Korea's agreement with the US at the Singapore summit last year to denuclearise the Korean Peninsula. \n",
      "실제 헤드라인: N Korea unlikely to give up nuclear weapons: US intelligence chief\n",
      "예측 헤드라인: \"North Korean leaders view nuclear arms as critical to regime survival,\" he added.\n",
      "--------------------------------------------------\n",
      "원문: Jet Airways on Wednesday denied it was directed by GE Capital Aviation Services to ground its aircraft due to non-payment of dues. The airline said it's in the process of delivering three aircraft to lessors due to the expiry of lease terms. Further, three aircraft have been temporarily grounded to carry out an engine normalisation exercise, it added.\n",
      "실제 헤드라인: Jet Airways denies being told to ground aircraft\n",
      "예측 헤드라인: Further, three aircraft have been temporarily grounded to carry out an engine normalisation exercise, it added.\n",
      "--------------------------------------------------\n",
      "원문: Retired Justice Srikrishna's enquiry panel has found that ex-CEO Chanda Kochhar violated ICICI Bank's code of conduct. The bank said it'll treat Kochhar's exit as termination and will take back all bonuses paid to her from April 2009 until March 2018. The CBI recently filed a case against Kochhar, her husband, and Videocon MD in the ICICI-Videocon loan case.\n",
      "실제 헤드라인: ICICI fires Chanda Kochhar, to take back bonuses paid in last 9 yrs\n",
      "예측 헤드라인: Retired Justice Srikrishna's enquiry panel has found that ex-CEO Chanda Kochhar violated ICICI Bank's code of conduct.\n",
      "--------------------------------------------------\n",
      "원문: Ex-India cricketer Jacob Martin has been shifted to general ward from the ICU after being on a ventilator for nearly a month following a road accident, wherein he severely injured his lungs. Martin's wife Khyati mentioned there are chances that Jacob will be in hospital for two more months. BCCI, CSK and various cricketers provided financial assistance for Martin's treatment.\n",
      "실제 헤드라인: Ex-cricketer Martin out of ICU after being on ventilator for a month\n",
      "예측 헤드라인: Ex-India cricketer Jacob Martin has been shifted to general ward from the ICU after being on a ventilator for nearly a month following a road accident, wherein he severely injured his lungs.\n",
      "--------------------------------------------------\n",
      "원문: Sri Lanka all-rounder Thisara Perera has written to Sri Lanka Cricket CEO Ashley de Silva, asking the board to intervene after ODI captain Lasith Malinga's wife Tanya targeted him on Facebook. Tanya accused Perera of meeting country's Sports Minister to secure his place in the team. \"We've become laughing stock of whole country...because of one person's personal vendetta,\" Perera wrote.\n",
      "실제 헤드라인: Malinga's wife targets Perera on Facebook, he seeks board's help\n",
      "예측 헤드라인: Tanya accused Perera of meeting country's Sports Minister to secure his place in the team.\n",
      "--------------------------------------------------\n",
      "원문: Goa CM and ex-Defence Minister Manohar Parrikar has written a letter to Congress President Rahul Gandhi over his claim that Parrikar told him he has nothing to do with new Rafale deal. Parrikar wrote, \"Kindly do not use your visit to an ailing person to feed political opportunism.\" In their five-minute meeting, they didn't discuss anything about Rafale, he added.\n",
      "실제 헤드라인: Don't use visit to ailing man for political gains: Goa CM to Rahul\n",
      "예측 헤드라인: Goa CM and ex-Defence Minister Manohar Parrikar has written a letter to Congress President Rahul Gandhi over his claim that Parrikar told him he has nothing to do with new Rafale deal.\n",
      "--------------------------------------------------\n",
      "원문: Prime Minister Narendra Modi stopped his speech at the inauguration of the new terminal building at Surat airport after observing that a cameraman had fainted. PM Modi then asked his officers to urgently arrange for an ambulance for the cameraman. \"It's good that PM was paying attention to his surroundings during his speech,\" the cameraman later said from a hospital. \n",
      "실제 헤드라인: PM Modi stops speech after cameraman faints, asks officers to help\n",
      "예측 헤드라인: PM Modi then asked his officers to urgently arrange for an ambulance for the cameraman.\n",
      "--------------------------------------------------\n",
      "원문: A couple got divorced minutes after their wedding ceremony got over in Gujarat's Gondal as a disagreement broke out and relatives from both sides started throwing dishes at each other during lunch. The advocates representing both sides arrived at the marriage hall and got the couple divorced within minutes. The couple even reportedly returned the gifts exchanged during the ceremony.\n",
      "실제 헤드라인: Couple divorces minutes after marriage as families fight over lunch\n",
      "예측 헤드라인: A couple got divorced minutes after their wedding ceremony got over in Gujarat's Gondal as a disagreement broke out and relatives from both sides started throwing dishes at each other during lunch.\n",
      "--------------------------------------------------\n",
      "원문: Gujarat Education Minister Bhupendrasinh Chudasma has written a congratulatory message to a yoga ashram run by rape-convict Asaram's organisation for observing February 14 as \"Matru-Pitru Pujan Divas\" (Mother-Father worship day). After the Congress termed the letter as \"unfortunate\", saying it \"shows the nexus between BJP and godman\", Chudasma clarified, \"All I have done is sent best wishes.\" \n",
      "실제 헤드라인: Minister praises rape-convict Asaram over Matru-Pitru Divas\n",
      "예측 헤드라인: Gujarat Education Minister Bhupendrasinh Chudasma has written a congratulatory message to a yoga ashram run by rape-convict Asaram's organisation for observing February 14 as \"Matru-Pitru Pujan Divas\" (Mother-Father worship day).\n",
      "--------------------------------------------------\n",
      "원문: Venezuelan President NicolÃÂ¡s Maduro has claimed that his American counterpart Donald Trump ordered the Colombian government and the Colombian mafia to kill him. \"If something happens to me, Trump and Colombian President IvÃÂ¡n MÃÂ¡rquez will bear responsibility,\" he added. The US has blamed Maduro for the economic crisis in Venezuela and recognised opposition leader Juan GuaidÃÂ³ as interim President.\n",
      "실제 헤드라인: Trump ordered to kill me: Venezuela President Maduro\n",
      "예측 헤드라인: Venezuelan President NicolÃÂ¡s Maduro has claimed that his American counterpart Donald Trump ordered the Colombian government and the Colombian mafia to kill him.\n",
      "--------------------------------------------------\n",
      "원문: Eight Asian billionaires aged 90 or above on the Bloomberg Billionaires Index of world's 500 richest people have a combined net worth of $125 billion. The richest among them is Hong Kong's Li Ka Shing with a net worth of $30.5 billion. India's 90-year-old Pallonji Mistry, who controls 18.3% of Tata Sons through Shapoorji Pallonji Group, is worth $20.1 billion.\n",
      "실제 헤드라인: 8 Asian billionaires aged over 90, including Mistry, control $125bn\n",
      "예측 헤드라인: The richest among them is Hong Kong's Li Ka Shing with a net worth of $30.5 billion.\n",
      "--------------------------------------------------\n",
      "원문: Tamil Nadu food safety officials on Wednesday raided and seized 1,000 kgs of banned plastic items from Hotel Saravana Bhavan in Chennai's Vadapalani. Officials began a surprise check in the branch at 8 am. The state government had banned single-use plastics from January 1 and said the banned items should be handed over at the offices of the city corporation.\n",
      "실제 헤드라인: 1,000 kg banned plastic seized from Saravana Bhavan in Chennai\n",
      "예측 헤드라인: Tamil Nadu food safety officials on Wednesday raided and seized 1,000 kgs of banned plastic items from Hotel Saravana Bhavan in Chennai's Vadapalani.\n",
      "--------------------------------------------------\n",
      "원문: Actress Shamita Shetty was verbally abused and her driver was slapped in an incident of road rage in Mumbai on Tuesday, as per reports. The incident reportedly took place after a motorist who was accompanied by two friends, rammed his vehicle into Shamita's car. The men allegedly manhandled and threatened Shamita's driver when he stepped out to inspect the damage. \n",
      "실제 헤드라인: Shamita Shetty abused, driver slapped after accident: Report\n",
      "예측 헤드라인: Actress Shamita Shetty was verbally abused and her driver was slapped in an incident of road rage in Mumbai on Tuesday, as per reports.\n",
      "--------------------------------------------------\n",
      "원문: Actress Vaani Kapoor said that trolling has become a norm on social media, adding, \"There's no one who hasn't got trolled on social media.\" \"Everybody is out there to pull the other person down but it'll only bother [you] if you let it bother you,\" Vaani added. She further said, social media offers a platform \"where people enjoy belittling everybody\". \n",
      "실제 헤드라인: Trolling has become the norm on social media: Vaani\n",
      "예측 헤드라인: Actress Vaani Kapoor said that trolling has become a norm on social media, adding, \"There's no one who hasn't got trolled on social media.\" \"Everybody is out there to pull the other person down but it'll only bother [you] if you let it bother you,\" Vaani added.\n",
      "--------------------------------------------------\n",
      "원문: Actress Sushmita Sen took to Instagram to share a joke on the subject of marriage. \"Whoever invented marriage was creepy as hell. Like I love you so much IÃ¢ÂÂm gonna get the government involved so you canÃ¢ÂÂt leave,\" Sushmita's post read. \"This is an insult to [the] beauty of marriage,\" an Instagram user commented on her post.\n",
      "실제 헤드라인: Whoever invented marriage was creepy as hell: Sushmita posts joke\n",
      "예측 헤드라인: Actress Sushmita Sen took to Instagram to share a joke on the subject of marriage.\n",
      "\"This is an insult to [the] beauty of marriage,\" an Instagram user commented on her post.\n",
      "--------------------------------------------------\n",
      "원문: Television actor Karanvir Bohra, who flew to Russia on Tuesday to attend a film festival, has been detained in Moscow due to passport damage. \"They [are] contemplating to deport me back to India,\" the actor wrote on Twitter. The Indian embassy in Russia's capital responded to his tweet and said that they were looking into the issue. \n",
      "실제 헤드라인: Actor Karanvir Bohra detained in Russia over passport damage\n",
      "예측 헤드라인: Television actor Karanvir Bohra, who flew to Russia on Tuesday to attend a film festival, has been detained in Moscow due to passport damage.\n",
      "--------------------------------------------------\n",
      "원문: While speaking about winning awards for his films, Shah Rukh Khan said, \"If I don't get an award, that award is at a loss.\" \"Sometimes, the prestige of an award increases when I receive it,\" the actor jokingly added. Shah Rukh further said that he was \"extremely ambitious\" but in a \"fair manner\". \n",
      "실제 헤드라인: If I don't get an award, that award is at loss: SRK\n",
      "예측 헤드라인: While speaking about winning awards for his films, Shah Rukh Khan said, \"If I don't get an award, that award is at a loss.\" \"Sometimes, the prestige of an award increases when I receive it,\" the actor jokingly added.\n",
      "--------------------------------------------------\n",
      "원문: Actress Patralekhaa will make her debut in the Kannada film industry with the action-comedy film 'Where is my Kannadaka?' \"I can definitely say that itÃ¢ÂÂs a kind of role that I havenÃ¢ÂÂt portrayed on screen so far and that makes it special for me,\" the actress said in a statement. Shooting for the film will reportedly begin in April.\n",
      "실제 헤드라인: Actress Patralekhaa to make her Kannada film debut \n",
      "예측 헤드라인: Actress Patralekhaa will make her debut in the Kannada film industry with the action-comedy film 'Where is my Kannadaka?' \"I can definitely say that itÃ¢ÂÂs a kind of role that I havenÃ¢ÂÂt portrayed on screen so far and that makes it special for me,\" the actress said in a statement.\n",
      "--------------------------------------------------\n",
      "원문: Gmail on Tuesday faced a global outage, which also affected India, wherein certain users complained they faced a '404 error' message while trying to sign-in to their accounts. The error message read: \"The requested URL was not found on this server. That's all we know.\" Google responded saying \"problem with Gmail should be resolved (now). We apologise for the inconvenience\".\n",
      "실제 헤드라인: Gmail faces temporary global outage, users face '404 error'\n",
      "예측 헤드라인: Gmail on Tuesday faced a global outage, which also affected India, wherein certain users complained they faced a '404 error' message while trying to sign-in to their accounts.\n",
      "The error message read: \"The requested URL was not found on this server.\n",
      "--------------------------------------------------\n",
      "원문: Shiv Sena chief Uddhav Thackeray has asked the BJP to decide about the alliance with the Sena within 15 days and said the BJP should make a concrete proposal on the alliance. Thackeray added that only if the BJP agrees to Sena's terms and conditions, the party will agree for an alliance. Sena is free to fight independently, he said. \n",
      "실제 헤드라인: Decide about an alliance within 15 days: Uddhav to BJP\n",
      "예측 헤드라인: Shiv Sena chief Uddhav Thackeray has asked the BJP to decide about the alliance with the Sena within 15 days and said the BJP should make a concrete proposal on the alliance.\n",
      "--------------------------------------------------\n",
      "원문: BJP President Amit Shah on Wednesday took a dig at the Opposition's proposed grand alliance saying if the \"mahagathbandhan comes to power, each opposition leader will be a Prime Minister every day of the week\". He added, \"[The] country will go on...holiday on Sunday\". He said the Opposition is thinking about leading the country but does not have a leader.\n",
      "실제 헤드라인: Grand alliance, if wins, will see a new PM every day: Shah\n",
      "예측 헤드라인: He said the Opposition is thinking about leading the country but does not have a leader.\n",
      "--------------------------------------------------\n",
      "원문: Prime Minister Narendra Modi on Wednesday said his government's demonetisation decision made houses affordable for the aspiring youth. He added decisions like demonetisation and RERA have put a check on black money that used to be \"parked in the real estate sector\". He said 'UDAN' (Ude Desh ka Aam Nagrik) scheme has boosted the development of the country's aviation sector.\n",
      "실제 헤드라인: Demonetisation made homes affordable for youth: PM Modi\n",
      "예측 헤드라인: He added decisions like demonetisation and RERA have put a check on black money that used to be \"parked in the real estate sector\".\n",
      "--------------------------------------------------\n"
     ]
    }
   ],
   "source": [
    "# 실제 헤드라인과 예측 헤드라인을 비교하는 함수 (상위 100개, ratio=0.005 적용)\n",
    "def compare_summaries(data, ratio=0.5, n=100):\n",
    "    # 상위 n개의 데이터만 처리\n",
    "    data = data.head(n)\n",
    "    \n",
    "    for i in range(len(data)):\n",
    "        original_text = data['text'].iloc[i]\n",
    "        actual_headline = data['headlines'].iloc[i]\n",
    "        \n",
    "        # 예측 헤드라인 생성 (텍스트 요약)\n",
    "        predicted_headline = summarize(original_text, ratio=ratio)\n",
    "\n",
    "        # 비교 출력\n",
    "        print(f\"원문: {original_text}\")\n",
    "        print(f\"실제 헤드라인: {actual_headline}\")\n",
    "        print(f\"예측 헤드라인: {predicted_headline if predicted_headline else 'No summary generated'}\")\n",
    "        print(\"-\" * 50)\n",
    "\n",
    "# 상위 100개 샘플을 대상으로 비교 (ratio=0.005)\n",
    "compare_summaries(data_2, ratio=0.5, n=100)"
   ]
  },
  {
   "cell_type": "markdown",
   "id": "62d5c8d7",
   "metadata": {},
   "source": [
    "### 회고"
   ]
  },
  {
   "cell_type": "markdown",
   "id": "1979d181",
   "metadata": {},
   "source": [
    "- 노드랑 같은 부분이 많아서 어렵지 않게 프로젝트를 진행할 수 있었다\n",
    "- 추상적 보다는 추출적이 좀 더 좋을 결과를 나타내는 것 같았다\n",
    "- lstm 말고 다른 모델을 사용하면 더 좋은 결과가 나올지 궁금하다"
   ]
  }
 ],
 "metadata": {
  "kernelspec": {
   "display_name": "Python 3 (ipykernel)",
   "language": "python",
   "name": "python3"
  },
  "language_info": {
   "codemirror_mode": {
    "name": "ipython",
    "version": 3
   },
   "file_extension": ".py",
   "mimetype": "text/x-python",
   "name": "python",
   "nbconvert_exporter": "python",
   "pygments_lexer": "ipython3",
   "version": "3.9.7"
  }
 },
 "nbformat": 4,
 "nbformat_minor": 5
}
