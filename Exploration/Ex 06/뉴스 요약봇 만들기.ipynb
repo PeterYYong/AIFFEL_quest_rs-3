{
 "cells": [
  {
   "cell_type": "markdown",
   "id": "f7d464a9",
   "metadata": {},
   "source": [
    "# 뉴스 요약봇 만들기\n",
    "### 텍스트 요약이란\n",
    "- 긴 길이의 문저 원문을 핵심 주제만으로 구성된 짧은 요약 문장들로 변환하는 것을 말한다\n",
    "- 중요한 부분은 요약 전후에 정보 손실 발생이 최소화되어야 한다\n",
    "\n",
    "### 추출적 요약\n",
    "- 문장 분류 문제로 볼 수 있다\n",
    "- 원문에서 문장들을 추출해서 요약하는 방식이다\n",
    "- 찾은 문장들의 연결이 자연스럽지 않을 수 있다\n",
    "\n",
    "### 추상적 요약\n",
    "- 자연어 생성 문제로 볼 수 있다\n",
    "- 원문으로부터 내용이 요약된 새로운 문장을 생성한다"
   ]
  },
  {
   "cell_type": "markdown",
   "id": "76edac99",
   "metadata": {},
   "source": [
    "## seq2seq\n",
    "- 첫번째 RNN인 인코더로 입력하면 하나의 고정된 벡터로 변환한다\n",
    "- 첫번째 벡터를 문맥 정보를 가지고 있는 벡터라고 하여 컨텍스트 벡터라고 한다\n",
    "- 두번째 RNN인 디코더는 컨텍스트 벡터를 전달받아 한 단어씩 생성해내서 요약 문장을 완성한다\n",
    "\n",
    "### 시작 토큰과 종료 토큰\n",
    "- 디코더는 시작 토큰 SOS가 입력되면 각 시점마다 단어를 생성하고 이 과정을 종료 토큰 EOS를 예측하는 순간까지 멈추지 않는다"
   ]
  },
  {
   "cell_type": "markdown",
   "id": "279df277",
   "metadata": {},
   "source": [
    "# 데이터 준비하기"
   ]
  },
  {
   "cell_type": "markdown",
   "id": "a6c0d1e5",
   "metadata": {},
   "source": [
    "라이브러리 불러오기"
   ]
  },
  {
   "cell_type": "code",
   "execution_count": 2,
   "id": "aa0abd69",
   "metadata": {},
   "outputs": [
    {
     "name": "stderr",
     "output_type": "stream",
     "text": [
      "[nltk_data] Downloading package stopwords to /aiffel/nltk_data...\n",
      "[nltk_data]   Unzipping corpora/stopwords.zip.\n"
     ]
    },
    {
     "name": "stdout",
     "output_type": "stream",
     "text": [
      "=3\n"
     ]
    }
   ],
   "source": [
    "import nltk\n",
    "nltk.download('stopwords')\n",
    "\n",
    "import numpy as np\n",
    "import pandas as pd\n",
    "import os\n",
    "import re\n",
    "import matplotlib.pyplot as plt\n",
    "from nltk.corpus import stopwords\n",
    "from bs4 import BeautifulSoup \n",
    "from tensorflow.keras.preprocessing.text import Tokenizer \n",
    "from tensorflow.keras.preprocessing.sequence import pad_sequences\n",
    "import urllib.request\n",
    "import warnings\n",
    "warnings.filterwarnings(\"ignore\", category=UserWarning, module='bs4')\n",
    "\n",
    "print('=3')"
   ]
  },
  {
   "cell_type": "markdown",
   "id": "30081d67",
   "metadata": {},
   "source": [
    "여기서는 10만개의 데이터만 사용한다"
   ]
  },
  {
   "cell_type": "code",
   "execution_count": 3,
   "id": "9afcd19c",
   "metadata": {},
   "outputs": [
    {
     "name": "stdout",
     "output_type": "stream",
     "text": [
      "전체 샘플수 : 100000\n"
     ]
    }
   ],
   "source": [
    "data = pd.read_csv(os.getenv(\"HOME\")+\"/aiffel/news_summarization/data/Reviews.csv\", nrows=100000)\n",
    "print('전체 샘플수 :', (len(data)))"
   ]
  },
  {
   "cell_type": "markdown",
   "id": "8bc44ea0",
   "metadata": {},
   "source": [
    "데이터 출력해보기"
   ]
  },
  {
   "cell_type": "code",
   "execution_count": 4,
   "id": "21e72c01",
   "metadata": {},
   "outputs": [
    {
     "data": {
      "text/html": [
       "<div>\n",
       "<style scoped>\n",
       "    .dataframe tbody tr th:only-of-type {\n",
       "        vertical-align: middle;\n",
       "    }\n",
       "\n",
       "    .dataframe tbody tr th {\n",
       "        vertical-align: top;\n",
       "    }\n",
       "\n",
       "    .dataframe thead th {\n",
       "        text-align: right;\n",
       "    }\n",
       "</style>\n",
       "<table border=\"1\" class=\"dataframe\">\n",
       "  <thead>\n",
       "    <tr style=\"text-align: right;\">\n",
       "      <th></th>\n",
       "      <th>Id</th>\n",
       "      <th>ProductId</th>\n",
       "      <th>UserId</th>\n",
       "      <th>ProfileName</th>\n",
       "      <th>HelpfulnessNumerator</th>\n",
       "      <th>HelpfulnessDenominator</th>\n",
       "      <th>Score</th>\n",
       "      <th>Time</th>\n",
       "      <th>Summary</th>\n",
       "      <th>Text</th>\n",
       "    </tr>\n",
       "  </thead>\n",
       "  <tbody>\n",
       "    <tr>\n",
       "      <th>0</th>\n",
       "      <td>1</td>\n",
       "      <td>B001E4KFG0</td>\n",
       "      <td>A3SGXH7AUHU8GW</td>\n",
       "      <td>delmartian</td>\n",
       "      <td>1</td>\n",
       "      <td>1</td>\n",
       "      <td>5</td>\n",
       "      <td>1303862400</td>\n",
       "      <td>Good Quality Dog Food</td>\n",
       "      <td>I have bought several of the Vitality canned d...</td>\n",
       "    </tr>\n",
       "    <tr>\n",
       "      <th>1</th>\n",
       "      <td>2</td>\n",
       "      <td>B00813GRG4</td>\n",
       "      <td>A1D87F6ZCVE5NK</td>\n",
       "      <td>dll pa</td>\n",
       "      <td>0</td>\n",
       "      <td>0</td>\n",
       "      <td>1</td>\n",
       "      <td>1346976000</td>\n",
       "      <td>Not as Advertised</td>\n",
       "      <td>Product arrived labeled as Jumbo Salted Peanut...</td>\n",
       "    </tr>\n",
       "    <tr>\n",
       "      <th>2</th>\n",
       "      <td>3</td>\n",
       "      <td>B000LQOCH0</td>\n",
       "      <td>ABXLMWJIXXAIN</td>\n",
       "      <td>Natalia Corres \"Natalia Corres\"</td>\n",
       "      <td>1</td>\n",
       "      <td>1</td>\n",
       "      <td>4</td>\n",
       "      <td>1219017600</td>\n",
       "      <td>\"Delight\" says it all</td>\n",
       "      <td>This is a confection that has been around a fe...</td>\n",
       "    </tr>\n",
       "    <tr>\n",
       "      <th>3</th>\n",
       "      <td>4</td>\n",
       "      <td>B000UA0QIQ</td>\n",
       "      <td>A395BORC6FGVXV</td>\n",
       "      <td>Karl</td>\n",
       "      <td>3</td>\n",
       "      <td>3</td>\n",
       "      <td>2</td>\n",
       "      <td>1307923200</td>\n",
       "      <td>Cough Medicine</td>\n",
       "      <td>If you are looking for the secret ingredient i...</td>\n",
       "    </tr>\n",
       "    <tr>\n",
       "      <th>4</th>\n",
       "      <td>5</td>\n",
       "      <td>B006K2ZZ7K</td>\n",
       "      <td>A1UQRSCLF8GW1T</td>\n",
       "      <td>Michael D. Bigham \"M. Wassir\"</td>\n",
       "      <td>0</td>\n",
       "      <td>0</td>\n",
       "      <td>5</td>\n",
       "      <td>1350777600</td>\n",
       "      <td>Great taffy</td>\n",
       "      <td>Great taffy at a great price.  There was a wid...</td>\n",
       "    </tr>\n",
       "  </tbody>\n",
       "</table>\n",
       "</div>"
      ],
      "text/plain": [
       "   Id   ProductId          UserId                      ProfileName  \\\n",
       "0   1  B001E4KFG0  A3SGXH7AUHU8GW                       delmartian   \n",
       "1   2  B00813GRG4  A1D87F6ZCVE5NK                           dll pa   \n",
       "2   3  B000LQOCH0   ABXLMWJIXXAIN  Natalia Corres \"Natalia Corres\"   \n",
       "3   4  B000UA0QIQ  A395BORC6FGVXV                             Karl   \n",
       "4   5  B006K2ZZ7K  A1UQRSCLF8GW1T    Michael D. Bigham \"M. Wassir\"   \n",
       "\n",
       "   HelpfulnessNumerator  HelpfulnessDenominator  Score        Time  \\\n",
       "0                     1                       1      5  1303862400   \n",
       "1                     0                       0      1  1346976000   \n",
       "2                     1                       1      4  1219017600   \n",
       "3                     3                       3      2  1307923200   \n",
       "4                     0                       0      5  1350777600   \n",
       "\n",
       "                 Summary                                               Text  \n",
       "0  Good Quality Dog Food  I have bought several of the Vitality canned d...  \n",
       "1      Not as Advertised  Product arrived labeled as Jumbo Salted Peanut...  \n",
       "2  \"Delight\" says it all  This is a confection that has been around a fe...  \n",
       "3         Cough Medicine  If you are looking for the secret ingredient i...  \n",
       "4            Great taffy  Great taffy at a great price.  There was a wid...  "
      ]
     },
     "execution_count": 4,
     "metadata": {},
     "output_type": "execute_result"
    }
   ],
   "source": [
    "data.head()"
   ]
  },
  {
   "cell_type": "code",
   "execution_count": 5,
   "id": "f2fd17fe",
   "metadata": {},
   "outputs": [
    {
     "data": {
      "text/html": [
       "<div>\n",
       "<style scoped>\n",
       "    .dataframe tbody tr th:only-of-type {\n",
       "        vertical-align: middle;\n",
       "    }\n",
       "\n",
       "    .dataframe tbody tr th {\n",
       "        vertical-align: top;\n",
       "    }\n",
       "\n",
       "    .dataframe thead th {\n",
       "        text-align: right;\n",
       "    }\n",
       "</style>\n",
       "<table border=\"1\" class=\"dataframe\">\n",
       "  <thead>\n",
       "    <tr style=\"text-align: right;\">\n",
       "      <th></th>\n",
       "      <th>Text</th>\n",
       "      <th>Summary</th>\n",
       "    </tr>\n",
       "  </thead>\n",
       "  <tbody>\n",
       "    <tr>\n",
       "      <th>46965</th>\n",
       "      <td>This is a great latte. The caramel aroma for m...</td>\n",
       "      <td>Love these!</td>\n",
       "    </tr>\n",
       "    <tr>\n",
       "      <th>56739</th>\n",
       "      <td>I like this green tea. The pomegranate makes f...</td>\n",
       "      <td>Nice change of taste and I feel better after a...</td>\n",
       "    </tr>\n",
       "    <tr>\n",
       "      <th>90383</th>\n",
       "      <td>These taste ok, however there is an artificial...</td>\n",
       "      <td>OK</td>\n",
       "    </tr>\n",
       "    <tr>\n",
       "      <th>86190</th>\n",
       "      <td>We love nylabones around our home. Our two gol...</td>\n",
       "      <td>Nylabones Are Great</td>\n",
       "    </tr>\n",
       "    <tr>\n",
       "      <th>2682</th>\n",
       "      <td>I wish I had read the product description bett...</td>\n",
       "      <td>stash tea powder review</td>\n",
       "    </tr>\n",
       "    <tr>\n",
       "      <th>41797</th>\n",
       "      <td>My husband is a picky coffee drinker. He resea...</td>\n",
       "      <td>Tasty Decaf</td>\n",
       "    </tr>\n",
       "    <tr>\n",
       "      <th>8095</th>\n",
       "      <td>The fat free La Bandarita flour tortillas are ...</td>\n",
       "      <td>Tortillas scarce as honest politicians</td>\n",
       "    </tr>\n",
       "    <tr>\n",
       "      <th>45682</th>\n",
       "      <td>As consumers of Gold Kili regular/plain [[ASIN...</td>\n",
       "      <td>Gold Kili All Natural Instant Ginger &amp; Lemon B...</td>\n",
       "    </tr>\n",
       "    <tr>\n",
       "      <th>83774</th>\n",
       "      <td>This is one of my sons favorites. Even though ...</td>\n",
       "      <td>My son loves it! Very nutritional!</td>\n",
       "    </tr>\n",
       "    <tr>\n",
       "      <th>88842</th>\n",
       "      <td>These are my favorite flavor of Maruchan ramen...</td>\n",
       "      <td>Great flavor!</td>\n",
       "    </tr>\n",
       "    <tr>\n",
       "      <th>45018</th>\n",
       "      <td>Ok so my cat loves the flavor will eat them li...</td>\n",
       "      <td>Great but....</td>\n",
       "    </tr>\n",
       "    <tr>\n",
       "      <th>83703</th>\n",
       "      <td>That's not a compliment. Maxwell House isn't e...</td>\n",
       "      <td>My wife thinks it tastes like Maxwell House</td>\n",
       "    </tr>\n",
       "    <tr>\n",
       "      <th>3237</th>\n",
       "      <td>This is one of my wife's favorite. Grove Squar...</td>\n",
       "      <td>Kcup Hot Cocoa</td>\n",
       "    </tr>\n",
       "    <tr>\n",
       "      <th>43970</th>\n",
       "      <td>I like this flavor a lot. When I make this I a...</td>\n",
       "      <td>Very tasty</td>\n",
       "    </tr>\n",
       "    <tr>\n",
       "      <th>69665</th>\n",
       "      <td>Good Earl Grey Tea but nothing about it was sp...</td>\n",
       "      <td>Nothing Special</td>\n",
       "    </tr>\n",
       "  </tbody>\n",
       "</table>\n",
       "</div>"
      ],
      "text/plain": [
       "                                                    Text  \\\n",
       "46965  This is a great latte. The caramel aroma for m...   \n",
       "56739  I like this green tea. The pomegranate makes f...   \n",
       "90383  These taste ok, however there is an artificial...   \n",
       "86190  We love nylabones around our home. Our two gol...   \n",
       "2682   I wish I had read the product description bett...   \n",
       "41797  My husband is a picky coffee drinker. He resea...   \n",
       "8095   The fat free La Bandarita flour tortillas are ...   \n",
       "45682  As consumers of Gold Kili regular/plain [[ASIN...   \n",
       "83774  This is one of my sons favorites. Even though ...   \n",
       "88842  These are my favorite flavor of Maruchan ramen...   \n",
       "45018  Ok so my cat loves the flavor will eat them li...   \n",
       "83703  That's not a compliment. Maxwell House isn't e...   \n",
       "3237   This is one of my wife's favorite. Grove Squar...   \n",
       "43970  I like this flavor a lot. When I make this I a...   \n",
       "69665  Good Earl Grey Tea but nothing about it was sp...   \n",
       "\n",
       "                                                 Summary  \n",
       "46965                                        Love these!  \n",
       "56739  Nice change of taste and I feel better after a...  \n",
       "90383                                                 OK  \n",
       "86190                                Nylabones Are Great  \n",
       "2682                             stash tea powder review  \n",
       "41797                                        Tasty Decaf  \n",
       "8095              Tortillas scarce as honest politicians  \n",
       "45682  Gold Kili All Natural Instant Ginger & Lemon B...  \n",
       "83774                 My son loves it! Very nutritional!  \n",
       "88842                                      Great flavor!  \n",
       "45018                                      Great but....  \n",
       "83703        My wife thinks it tastes like Maxwell House  \n",
       "3237                                      Kcup Hot Cocoa  \n",
       "43970                                         Very tasty  \n",
       "69665                                    Nothing Special  "
      ]
     },
     "execution_count": 5,
     "metadata": {},
     "output_type": "execute_result"
    }
   ],
   "source": [
    "# 데이터에서 Text 와 Summary 만 남기기\n",
    "data = data[['Text','Summary']].reset_index(drop=True)\n",
    "data.head()\n",
    "\n",
    "#랜덤한 15개 샘플 출력\n",
    "data.sample(15)"
   ]
  },
  {
   "cell_type": "markdown",
   "id": "cc7fd865",
   "metadata": {},
   "source": [
    "# 데이터 전처리하기: 데이터 정리하기"
   ]
  },
  {
   "cell_type": "markdown",
   "id": "28bb9e73",
   "metadata": {},
   "source": [
    "데이터의 중복 샘플 유무 확인하기"
   ]
  },
  {
   "cell_type": "code",
   "execution_count": 6,
   "id": "3054cb80",
   "metadata": {},
   "outputs": [
    {
     "name": "stdout",
     "output_type": "stream",
     "text": [
      "Text 열에서 중복을 배제한 유일한 샘플의 수 : 88426\n",
      "Summary 열에서 중복을 배제한 유일한 샘플의 수 : 72348\n"
     ]
    }
   ],
   "source": [
    "print('Text 열에서 중복을 배제한 유일한 샘플의 수 :', data['Text'].nunique())\n",
    "print('Summary 열에서 중복을 배제한 유일한 샘플의 수 :', data['Summary'].nunique())"
   ]
  },
  {
   "cell_type": "markdown",
   "id": "4cb79ae3",
   "metadata": {},
   "source": [
    "**drop_duplicates() 사용해서 중복 샘플 제거**  \n",
    "Summary는 동일할 수 있지만 text 자체가 중복이 된 경우는 중복 샘플이니까 제거하기"
   ]
  },
  {
   "cell_type": "code",
   "execution_count": 7,
   "id": "3b4c1e3e",
   "metadata": {},
   "outputs": [
    {
     "name": "stdout",
     "output_type": "stream",
     "text": [
      "전체 샘플수 : 88426\n"
     ]
    }
   ],
   "source": [
    "# inplace=True 를 설정하면 DataFrame 타입 값을 return 하지 않고 data 내부를 직접적으로 바꿉니다\n",
    "data.drop_duplicates(subset = ['Text'], inplace=True)\n",
    "print('전체 샘플수 :', (len(data)))"
   ]
  },
  {
   "cell_type": "markdown",
   "id": "a1c1192e",
   "metadata": {},
   "source": [
    ".isnull().sum() 사용해서 Null값 있는지 확인하기"
   ]
  },
  {
   "cell_type": "code",
   "execution_count": 8,
   "id": "70d736d2",
   "metadata": {},
   "outputs": [
    {
     "name": "stdout",
     "output_type": "stream",
     "text": [
      "Text       0\n",
      "Summary    1\n",
      "dtype: int64\n"
     ]
    }
   ],
   "source": [
    "print(data.isnull().sum())"
   ]
  },
  {
   "cell_type": "markdown",
   "id": "22ee0a0a",
   "metadata": {},
   "source": [
    "null값 하나 있어서 dropna() 써서 제거하기"
   ]
  },
  {
   "cell_type": "code",
   "execution_count": 9,
   "id": "436e2332",
   "metadata": {},
   "outputs": [
    {
     "name": "stdout",
     "output_type": "stream",
     "text": [
      "전체 샘플수 : 88425\n"
     ]
    }
   ],
   "source": [
    "data.dropna(axis=0, inplace=True)\n",
    "print('전체 샘플수 :', (len(data)))"
   ]
  },
  {
   "cell_type": "markdown",
   "id": "f917c9b9",
   "metadata": {},
   "source": [
    "**텍스트 정규화를 위해 구성한 사전이다**"
   ]
  },
  {
   "cell_type": "code",
   "execution_count": 10,
   "id": "e4846e7a",
   "metadata": {},
   "outputs": [
    {
     "name": "stdout",
     "output_type": "stream",
     "text": [
      "정규화 사전의 수:  120\n"
     ]
    }
   ],
   "source": [
    "contractions = {\"ain't\": \"is not\", \"aren't\": \"are not\",\"can't\": \"cannot\", \"'cause\": \"because\", \"could've\": \"could have\", \"couldn't\": \"could not\",\n",
    "                           \"didn't\": \"did not\",  \"doesn't\": \"does not\", \"don't\": \"do not\", \"hadn't\": \"had not\", \"hasn't\": \"has not\", \"haven't\": \"have not\",\n",
    "                           \"he'd\": \"he would\",\"he'll\": \"he will\", \"he's\": \"he is\", \"how'd\": \"how did\", \"how'd'y\": \"how do you\", \"how'll\": \"how will\", \"how's\": \"how is\",\n",
    "                           \"I'd\": \"I would\", \"I'd've\": \"I would have\", \"I'll\": \"I will\", \"I'll've\": \"I will have\",\"I'm\": \"I am\", \"I've\": \"I have\", \"i'd\": \"i would\",\n",
    "                           \"i'd've\": \"i would have\", \"i'll\": \"i will\",  \"i'll've\": \"i will have\",\"i'm\": \"i am\", \"i've\": \"i have\", \"isn't\": \"is not\", \"it'd\": \"it would\",\n",
    "                           \"it'd've\": \"it would have\", \"it'll\": \"it will\", \"it'll've\": \"it will have\",\"it's\": \"it is\", \"let's\": \"let us\", \"ma'am\": \"madam\",\n",
    "                           \"mayn't\": \"may not\", \"might've\": \"might have\",\"mightn't\": \"might not\",\"mightn't've\": \"might not have\", \"must've\": \"must have\",\n",
    "                           \"mustn't\": \"must not\", \"mustn't've\": \"must not have\", \"needn't\": \"need not\", \"needn't've\": \"need not have\",\"o'clock\": \"of the clock\",\n",
    "                           \"oughtn't\": \"ought not\", \"oughtn't've\": \"ought not have\", \"shan't\": \"shall not\", \"sha'n't\": \"shall not\", \"shan't've\": \"shall not have\",\n",
    "                           \"she'd\": \"she would\", \"she'd've\": \"she would have\", \"she'll\": \"she will\", \"she'll've\": \"she will have\", \"she's\": \"she is\",\n",
    "                           \"should've\": \"should have\", \"shouldn't\": \"should not\", \"shouldn't've\": \"should not have\", \"so've\": \"so have\",\"so's\": \"so as\",\n",
    "                           \"this's\": \"this is\",\"that'd\": \"that would\", \"that'd've\": \"that would have\", \"that's\": \"that is\", \"there'd\": \"there would\",\n",
    "                           \"there'd've\": \"there would have\", \"there's\": \"there is\", \"here's\": \"here is\",\"they'd\": \"they would\", \"they'd've\": \"they would have\",\n",
    "                           \"they'll\": \"they will\", \"they'll've\": \"they will have\", \"they're\": \"they are\", \"they've\": \"they have\", \"to've\": \"to have\",\n",
    "                           \"wasn't\": \"was not\", \"we'd\": \"we would\", \"we'd've\": \"we would have\", \"we'll\": \"we will\", \"we'll've\": \"we will have\", \"we're\": \"we are\",\n",
    "                           \"we've\": \"we have\", \"weren't\": \"were not\", \"what'll\": \"what will\", \"what'll've\": \"what will have\", \"what're\": \"what are\",\n",
    "                           \"what's\": \"what is\", \"what've\": \"what have\", \"when's\": \"when is\", \"when've\": \"when have\", \"where'd\": \"where did\", \"where's\": \"where is\",\n",
    "                           \"where've\": \"where have\", \"who'll\": \"who will\", \"who'll've\": \"who will have\", \"who's\": \"who is\", \"who've\": \"who have\",\n",
    "                           \"why's\": \"why is\", \"why've\": \"why have\", \"will've\": \"will have\", \"won't\": \"will not\", \"won't've\": \"will not have\",\n",
    "                           \"would've\": \"would have\", \"wouldn't\": \"would not\", \"wouldn't've\": \"would not have\", \"y'all\": \"you all\",\n",
    "                           \"y'all'd\": \"you all would\",\"y'all'd've\": \"you all would have\",\"y'all're\": \"you all are\",\"y'all've\": \"you all have\",\n",
    "                           \"you'd\": \"you would\", \"you'd've\": \"you would have\", \"you'll\": \"you will\", \"you'll've\": \"you will have\",\n",
    "                           \"you're\": \"you are\", \"you've\": \"you have\"}\n",
    "\n",
    "print(\"정규화 사전의 수: \", len(contractions))"
   ]
  },
  {
   "cell_type": "markdown",
   "id": "4de0f20f",
   "metadata": {},
   "source": [
    "nltk에서 미러 정의하고 제공하는 불용어는 179개이다  \n",
    "이걸 사용해서 불용러를 제거한다"
   ]
  },
  {
   "cell_type": "code",
   "execution_count": 11,
   "id": "ad38b0fd",
   "metadata": {},
   "outputs": [
    {
     "name": "stdout",
     "output_type": "stream",
     "text": [
      "불용어 개수 : 179\n",
      "['i', 'me', 'my', 'myself', 'we', 'our', 'ours', 'ourselves', 'you', \"you're\", \"you've\", \"you'll\", \"you'd\", 'your', 'yours', 'yourself', 'yourselves', 'he', 'him', 'his', 'himself', 'she', \"she's\", 'her', 'hers', 'herself', 'it', \"it's\", 'its', 'itself', 'they', 'them', 'their', 'theirs', 'themselves', 'what', 'which', 'who', 'whom', 'this', 'that', \"that'll\", 'these', 'those', 'am', 'is', 'are', 'was', 'were', 'be', 'been', 'being', 'have', 'has', 'had', 'having', 'do', 'does', 'did', 'doing', 'a', 'an', 'the', 'and', 'but', 'if', 'or', 'because', 'as', 'until', 'while', 'of', 'at', 'by', 'for', 'with', 'about', 'against', 'between', 'into', 'through', 'during', 'before', 'after', 'above', 'below', 'to', 'from', 'up', 'down', 'in', 'out', 'on', 'off', 'over', 'under', 'again', 'further', 'then', 'once', 'here', 'there', 'when', 'where', 'why', 'how', 'all', 'any', 'both', 'each', 'few', 'more', 'most', 'other', 'some', 'such', 'no', 'nor', 'not', 'only', 'own', 'same', 'so', 'than', 'too', 'very', 's', 't', 'can', 'will', 'just', 'don', \"don't\", 'should', \"should've\", 'now', 'd', 'll', 'm', 'o', 're', 've', 'y', 'ain', 'aren', \"aren't\", 'couldn', \"couldn't\", 'didn', \"didn't\", 'doesn', \"doesn't\", 'hadn', \"hadn't\", 'hasn', \"hasn't\", 'haven', \"haven't\", 'isn', \"isn't\", 'ma', 'mightn', \"mightn't\", 'mustn', \"mustn't\", 'needn', \"needn't\", 'shan', \"shan't\", 'shouldn', \"shouldn't\", 'wasn', \"wasn't\", 'weren', \"weren't\", 'won', \"won't\", 'wouldn', \"wouldn't\"]\n"
     ]
    }
   ],
   "source": [
    "print('불용어 개수 :', len(stopwords.words('english') ))\n",
    "print(stopwords.words('english'))"
   ]
  },
  {
   "cell_type": "code",
   "execution_count": 12,
   "id": "84c020f1",
   "metadata": {},
   "outputs": [
    {
     "name": "stdout",
     "output_type": "stream",
     "text": [
      "=3\n"
     ]
    }
   ],
   "source": [
    "# 데이터 전처리 함수\n",
    "def preprocess_sentence(sentence, remove_stopwords=True):\n",
    "    sentence = sentence.lower() # 텍스트 소문자화\n",
    "    sentence = BeautifulSoup(sentence, \"lxml\").text # <br />, <a href = ...> 등의 html 태그 제거\n",
    "    sentence = re.sub(r'\\([^)]*\\)', '', sentence) # 괄호로 닫힌 문자열 (...) 제거 Ex) my husband (and myself!) for => my husband for\n",
    "    sentence = re.sub('\"','', sentence) # 쌍따옴표 \" 제거\n",
    "    sentence = ' '.join([contractions[t] if t in contractions else t for t in sentence.split(\" \")]) # 약어 정규화\n",
    "    sentence = re.sub(r\"'s\\b\",\"\", sentence) # 소유격 제거. Ex) roland's -> roland\n",
    "    sentence = re.sub(\"[^a-zA-Z]\", \" \", sentence) # 영어 외 문자(숫자, 특수문자 등) 공백으로 변환\n",
    "    sentence = re.sub('[m]{2,}', 'mm', sentence) # m이 3개 이상이면 2개로 변경. Ex) ummmmmmm yeah -> umm yeah\n",
    "    \n",
    "    # 불용어 제거 (Text)\n",
    "    if remove_stopwords:\n",
    "        tokens = ' '.join(word for word in sentence.split() if not word in stopwords.words('english') if len(word) > 1)\n",
    "    # 불용어 미제거 (Summary)\n",
    "    else:\n",
    "        tokens = ' '.join(word for word in sentence.split() if len(word) > 1)\n",
    "    return tokens\n",
    "print('=3')"
   ]
  },
  {
   "cell_type": "markdown",
   "id": "f90dab14",
   "metadata": {},
   "source": [
    "전처리 전, 흐 결과를 확인하기 위해 임이의 text와 summary를 만들어서 함수를 호출해 본다  \n",
    "전처리가 잘된다"
   ]
  },
  {
   "cell_type": "code",
   "execution_count": 13,
   "id": "1d2ca579",
   "metadata": {},
   "outputs": [
    {
     "name": "stdout",
     "output_type": "stream",
     "text": [
      "text:  everything bought great infact ordered twice third ordered wasfor mother father\n",
      "summary: great way to start the day\n"
     ]
    }
   ],
   "source": [
    "temp_text = 'Everything I bought was great, infact I ordered twice and the third ordered was<br />for my mother and father.'\n",
    "temp_summary = 'Great way to start (or finish) the day!!!'\n",
    "\n",
    "print(\"text: \", preprocess_sentence(temp_text))\n",
    "print(\"summary:\", preprocess_sentence(temp_summary, False))  # 불용어를 제거하지 않습니다."
   ]
  },
  {
   "cell_type": "markdown",
   "id": "56f1540d",
   "metadata": {},
   "source": [
    "text 컬럼의 데이터를 모두 전처리한다"
   ]
  },
  {
   "cell_type": "code",
   "execution_count": 14,
   "id": "f1514e08",
   "metadata": {},
   "outputs": [
    {
     "name": "stdout",
     "output_type": "stream",
     "text": [
      "Text 전처리 후 결과:  ['bought several vitality canned dog food products found good quality product looks like stew processed meat smells better labrador finicky appreciates product better', 'product arrived labeled jumbo salted peanuts peanuts actually small sized unsalted sure error vendor intended represent product jumbo', 'confection around centuries light pillowy citrus gelatin nuts case filberts cut tiny squares liberally coated powdered sugar tiny mouthful heaven chewy flavorful highly recommend yummy treat familiar story lewis lion witch wardrobe treat seduces edmund selling brother sisters witch', 'looking secret ingredient robitussin believe found got addition root beer extract ordered made cherry soda flavor medicinal', 'great taffy great price wide assortment yummy taffy delivery quick taffy lover deal']\n"
     ]
    }
   ],
   "source": [
    "clean_text = []\n",
    "\n",
    "for temp_text in data['Text']:\n",
    "    result = preprocess_sentence(temp_text)\n",
    "    clean_text.append(result)\n",
    "\n",
    "# 전처리 후 출력\n",
    "print(\"Text 전처리 후 결과: \", clean_text[:5])"
   ]
  },
  {
   "cell_type": "markdown",
   "id": "493129ba",
   "metadata": {},
   "source": [
    "summary 컬럼의 데이터 모두 전처리한다"
   ]
  },
  {
   "cell_type": "code",
   "execution_count": 15,
   "id": "867a0812",
   "metadata": {},
   "outputs": [
    {
     "name": "stdout",
     "output_type": "stream",
     "text": [
      "Summary 전처리 후 결과:  ['good quality dog food', 'not as advertised', 'delight says it all', 'cough medicine', 'great taffy']\n"
     ]
    }
   ],
   "source": [
    "clean_summary = []\n",
    "\n",
    "for temp_summary in data['Summary']:\n",
    "    result = preprocess_sentence(temp_summary, False)\n",
    "    clean_summary.append(result)\n",
    "\n",
    "print(\"Summary 전처리 후 결과: \", clean_summary[:5])"
   ]
  },
  {
   "cell_type": "markdown",
   "id": "61d8f60f",
   "metadata": {},
   "source": [
    "전처리를 한 후 빈 샘플이 생겼는지 확인해본다  \n",
    "쉽게 확인하기 위해 데이터를 데이터프레임에 저장한다"
   ]
  },
  {
   "cell_type": "code",
   "execution_count": 16,
   "id": "ad1698fe",
   "metadata": {},
   "outputs": [
    {
     "name": "stdout",
     "output_type": "stream",
     "text": [
      "=3\n"
     ]
    }
   ],
   "source": [
    "data['Text'] = clean_text\n",
    "data['Summary'] = clean_summary\n",
    "\n",
    "# 빈 값을 Null 값으로 변환\n",
    "data.replace('', np.nan, inplace=True)\n",
    "print('=3')"
   ]
  },
  {
   "cell_type": "markdown",
   "id": "fd79eb99",
   "metadata": {},
   "source": [
    ".isnull().sum() 사용해서 Null값 있는지 확인하기"
   ]
  },
  {
   "cell_type": "code",
   "execution_count": 17,
   "id": "1e453041",
   "metadata": {},
   "outputs": [
    {
     "data": {
      "text/plain": [
       "Text        0\n",
       "Summary    70\n",
       "dtype: int64"
      ]
     },
     "execution_count": 17,
     "metadata": {},
     "output_type": "execute_result"
    }
   ],
   "source": [
    "data.isnull().sum()"
   ]
  },
  {
   "cell_type": "markdown",
   "id": "0d227057",
   "metadata": {},
   "source": [
    "빈 샘플 70개를 dropna()로 삭제한다"
   ]
  },
  {
   "cell_type": "code",
   "execution_count": 18,
   "id": "db688b67",
   "metadata": {},
   "outputs": [
    {
     "name": "stdout",
     "output_type": "stream",
     "text": [
      "전체 샘플수 : 88355\n"
     ]
    }
   ],
   "source": [
    "data.dropna(axis=0, inplace=True)\n",
    "print('전체 샘플수 :', (len(data)))"
   ]
  },
  {
   "cell_type": "markdown",
   "id": "2e1d26b4",
   "metadata": {},
   "source": [
    "# 데이터 전처리하기: 훈련데이터 테스트데이터 나누기"
   ]
  },
  {
   "cell_type": "markdown",
   "id": "0283ed7c",
   "metadata": {},
   "source": [
    "**학습을 진행하기 위해서는 학습에 사용할 데이터의 크기를 결정하고 문장의 시작과 끝을 표시해야한다**"
   ]
  },
  {
   "cell_type": "markdown",
   "id": "2703d8c9",
   "metadata": {},
   "source": [
    "### 샘플의 최대 길이 정하기"
   ]
  },
  {
   "cell_type": "markdown",
   "id": "c7e40e00",
   "metadata": {},
   "source": [
    "text와 summary의 최소, 최대, 평균 길이를 구하고 길이 분포를 시각화 한다"
   ]
  },
  {
   "cell_type": "code",
   "execution_count": 19,
   "id": "5a8012c5",
   "metadata": {},
   "outputs": [
    {
     "name": "stdout",
     "output_type": "stream",
     "text": [
      "텍스트의 최소 길이 : 2\n",
      "텍스트의 최대 길이 : 1235\n",
      "텍스트의 평균 길이 : 38.792428272310566\n",
      "요약의 최소 길이 : 1\n",
      "요약의 최대 길이 : 28\n",
      "요약의 평균 길이 : 4.010729443721352\n"
     ]
    },
    {
     "data": {
      "image/png": "[encoded data removed]",
      "text/plain": [
       "<Figure size 432x288 with 2 Axes>"
      ]
     },
     "metadata": {
      "needs_background": "light"
     },
     "output_type": "display_data"
    },
    {
     "data": {
      "image/png": "[encoded data removed]",
      "text/plain": [
       "<Figure size 432x288 with 1 Axes>"
      ]
     },
     "metadata": {
      "needs_background": "light"
     },
     "output_type": "display_data"
    },
    {
     "data": {
      "image/png": "[encoded data removed]",
      "text/plain": [
       "<Figure size 432x288 with 1 Axes>"
      ]
     },
     "metadata": {
      "needs_background": "light"
     },
     "output_type": "display_data"
    }
   ],
   "source": [
    "# 길이 분포 출력\n",
    "import matplotlib.pyplot as plt\n",
    "\n",
    "text_len = [len(s.split()) for s in data['Text']]\n",
    "summary_len = [len(s.split()) for s in data['Summary']]\n",
    "\n",
    "print('텍스트의 최소 길이 : {}'.format(np.min(text_len)))\n",
    "print('텍스트의 최대 길이 : {}'.format(np.max(text_len)))\n",
    "print('텍스트의 평균 길이 : {}'.format(np.mean(text_len)))\n",
    "print('요약의 최소 길이 : {}'.format(np.min(summary_len)))\n",
    "print('요약의 최대 길이 : {}'.format(np.max(summary_len)))\n",
    "print('요약의 평균 길이 : {}'.format(np.mean(summary_len)))\n",
    "\n",
    "plt.subplot(1,2,1)\n",
    "plt.boxplot(text_len)\n",
    "plt.title('Text')\n",
    "plt.subplot(1,2,2)\n",
    "plt.boxplot(summary_len)\n",
    "plt.title('Summary')\n",
    "plt.tight_layout()\n",
    "plt.show()\n",
    "\n",
    "plt.title('Text')\n",
    "plt.hist(text_len, bins = 40)\n",
    "plt.xlabel('length of samples')\n",
    "plt.ylabel('number of samples')\n",
    "plt.show()\n",
    "\n",
    "plt.title('Summary')\n",
    "plt.hist(summary_len, bins = 40)\n",
    "plt.xlabel('length of samples')\n",
    "plt.ylabel('number of samples')\n",
    "plt.show()"
   ]
  },
  {
   "cell_type": "markdown",
   "id": "d3638bc2",
   "metadata": {},
   "source": [
    "text의 최대길이와 summary의 최대길이를 임의로 정해보겠다  \n",
    "text는 50  \n",
    "summary는 8"
   ]
  },
  {
   "cell_type": "code",
   "execution_count": 20,
   "id": "6828a529",
   "metadata": {},
   "outputs": [
    {
     "name": "stdout",
     "output_type": "stream",
     "text": [
      "=3\n"
     ]
    }
   ],
   "source": [
    "text_max_len = 50\n",
    "summary_max_len = 8\n",
    "print('=3')"
   ]
  },
  {
   "cell_type": "markdown",
   "id": "db1a33f5",
   "metadata": {},
   "source": [
    "우리가 정한 최대길이가 데이터의 몇 %에 해당하는지 계산하는 함수를 만들어서 더 정확하게 확인해보자"
   ]
  },
  {
   "cell_type": "code",
   "execution_count": 21,
   "id": "c473fc32",
   "metadata": {},
   "outputs": [
    {
     "name": "stdout",
     "output_type": "stream",
     "text": [
      "=3\n"
     ]
    }
   ],
   "source": [
    "def below_threshold_len(max_len, nested_list):\n",
    "  cnt = 0\n",
    "  for s in nested_list:\n",
    "    if(len(s.split()) <= max_len):\n",
    "        cnt = cnt + 1\n",
    "  print('전체 샘플 중 길이가 %s 이하인 샘플의 비율: %s'%(max_len, (cnt / len(nested_list))))\n",
    "print('=3')"
   ]
  },
  {
   "cell_type": "markdown",
   "id": "77d00b44",
   "metadata": {},
   "source": [
    "각각 50과 8로 패딩을 하니 text는 23%의 샘플들의 내용이 길이를 초과해서 잘린다고 한다"
   ]
  },
  {
   "cell_type": "code",
   "execution_count": 22,
   "id": "78d7fbd8",
   "metadata": {},
   "outputs": [
    {
     "name": "stdout",
     "output_type": "stream",
     "text": [
      "전체 샘플 중 길이가 50 이하인 샘플의 비율: 0.7745119121724859\n",
      "전체 샘플 중 길이가 8 이하인 샘플의 비율: 0.9424593967517402\n"
     ]
    }
   ],
   "source": [
    "below_threshold_len(text_max_len, data['Text'])\n",
    "below_threshold_len(summary_max_len,  data['Summary'])"
   ]
  },
  {
   "cell_type": "markdown",
   "id": "6ca54733",
   "metadata": {},
   "source": [
    "정해진 길에 맞춰 자르는 것이 아닌 정해진 길이보다 길면 제외하는 방법으로 데이터를 정제해보자"
   ]
  },
  {
   "cell_type": "code",
   "execution_count": 23,
   "id": "9a07bd76",
   "metadata": {},
   "outputs": [
    {
     "name": "stdout",
     "output_type": "stream",
     "text": [
      "전체 샘플수 : 65818\n"
     ]
    }
   ],
   "source": [
    "data = data[(data['Text'].apply(lambda x: len(x.split()) <= text_max_len)) &\n",
    "(data['Summary'].apply(lambda x: len(x.split()) <= summary_max_len))]\n",
    "\n",
    "print('전체 샘플수 :', (len(data)))"
   ]
  },
  {
   "cell_type": "markdown",
   "id": "7bbeda88",
   "metadata": {},
   "source": [
    "### 시작 토큰과 종료 토큰 추가하기\n",
    "seq2seq 훈련을 위해서는 디코더의 입력과 레이블에 시작 토큰과 종료 토큰을 추가할 필요가 있다  \n",
    "- 시작 토큰을 sostoken  \n",
    "- 종료 토큰을 eostoken  \n",
    "- 디코더 입력에 해당하면서 시작 토큰이 맨 앞에 있는 문장 이름을 decoder_input\n",
    "- 디코더 출력 또는 레이블에 해당되면서 종료 토큰이 맨 뒤에 붙는 문장의 이름을 decoder_target"
   ]
  },
  {
   "cell_type": "markdown",
   "id": "9cd89da8",
   "metadata": {},
   "source": [
    "decoder_input과 decoder_target을 summary에 붙인걸 열로 만들었다"
   ]
  },
  {
   "cell_type": "code",
   "execution_count": 24,
   "id": "6bc2ba0b",
   "metadata": {},
   "outputs": [
    {
     "data": {
      "text/html": [
       "<div>\n",
       "<style scoped>\n",
       "    .dataframe tbody tr th:only-of-type {\n",
       "        vertical-align: middle;\n",
       "    }\n",
       "\n",
       "    .dataframe tbody tr th {\n",
       "        vertical-align: top;\n",
       "    }\n",
       "\n",
       "    .dataframe thead th {\n",
       "        text-align: right;\n",
       "    }\n",
       "</style>\n",
       "<table border=\"1\" class=\"dataframe\">\n",
       "  <thead>\n",
       "    <tr style=\"text-align: right;\">\n",
       "      <th></th>\n",
       "      <th>Text</th>\n",
       "      <th>Summary</th>\n",
       "      <th>decoder_input</th>\n",
       "      <th>decoder_target</th>\n",
       "    </tr>\n",
       "  </thead>\n",
       "  <tbody>\n",
       "    <tr>\n",
       "      <th>0</th>\n",
       "      <td>bought several vitality canned dog food produc...</td>\n",
       "      <td>good quality dog food</td>\n",
       "      <td>sostoken good quality dog food</td>\n",
       "      <td>good quality dog food eostoken</td>\n",
       "    </tr>\n",
       "    <tr>\n",
       "      <th>1</th>\n",
       "      <td>product arrived labeled jumbo salted peanuts p...</td>\n",
       "      <td>not as advertised</td>\n",
       "      <td>sostoken not as advertised</td>\n",
       "      <td>not as advertised eostoken</td>\n",
       "    </tr>\n",
       "    <tr>\n",
       "      <th>2</th>\n",
       "      <td>confection around centuries light pillowy citr...</td>\n",
       "      <td>delight says it all</td>\n",
       "      <td>sostoken delight says it all</td>\n",
       "      <td>delight says it all eostoken</td>\n",
       "    </tr>\n",
       "    <tr>\n",
       "      <th>3</th>\n",
       "      <td>looking secret ingredient robitussin believe f...</td>\n",
       "      <td>cough medicine</td>\n",
       "      <td>sostoken cough medicine</td>\n",
       "      <td>cough medicine eostoken</td>\n",
       "    </tr>\n",
       "    <tr>\n",
       "      <th>4</th>\n",
       "      <td>great taffy great price wide assortment yummy ...</td>\n",
       "      <td>great taffy</td>\n",
       "      <td>sostoken great taffy</td>\n",
       "      <td>great taffy eostoken</td>\n",
       "    </tr>\n",
       "  </tbody>\n",
       "</table>\n",
       "</div>"
      ],
      "text/plain": [
       "                                                Text                Summary  \\\n",
       "0  bought several vitality canned dog food produc...  good quality dog food   \n",
       "1  product arrived labeled jumbo salted peanuts p...      not as advertised   \n",
       "2  confection around centuries light pillowy citr...    delight says it all   \n",
       "3  looking secret ingredient robitussin believe f...         cough medicine   \n",
       "4  great taffy great price wide assortment yummy ...            great taffy   \n",
       "\n",
       "                    decoder_input                  decoder_target  \n",
       "0  sostoken good quality dog food  good quality dog food eostoken  \n",
       "1      sostoken not as advertised      not as advertised eostoken  \n",
       "2    sostoken delight says it all    delight says it all eostoken  \n",
       "3         sostoken cough medicine         cough medicine eostoken  \n",
       "4            sostoken great taffy            great taffy eostoken  "
      ]
     },
     "execution_count": 24,
     "metadata": {},
     "output_type": "execute_result"
    }
   ],
   "source": [
    "# 요약 데이터에는 시작 토큰과 종료 토큰을 추가한다.\n",
    "data['decoder_input'] = data['Summary'].apply(lambda x : 'sostoken '+ x)\n",
    "data['decoder_target'] = data['Summary'].apply(lambda x : x + ' eostoken')\n",
    "data.head()"
   ]
  },
  {
   "cell_type": "markdown",
   "id": "6b88cbc6",
   "metadata": {},
   "source": [
    "인코더 입력, 디코더 입력과 레이블을 numpy 타입으로 저장한다"
   ]
  },
  {
   "cell_type": "code",
   "execution_count": 25,
   "id": "00e203b7",
   "metadata": {},
   "outputs": [
    {
     "name": "stdout",
     "output_type": "stream",
     "text": [
      "=3\n"
     ]
    }
   ],
   "source": [
    "encoder_input = np.array(data['Text']) # 인코더의 입력\n",
    "decoder_input = np.array(data['decoder_input']) # 디코더의 입력\n",
    "decoder_target = np.array(data['decoder_target']) # 디코더의 레이블\n",
    "print('=3')"
   ]
  },
  {
   "cell_type": "markdown",
   "id": "483814f8",
   "metadata": {},
   "source": [
    "encode_input을 순서를 섞어 저장한다"
   ]
  },
  {
   "cell_type": "code",
   "execution_count": 26,
   "id": "f66f7e22",
   "metadata": {},
   "outputs": [
    {
     "name": "stdout",
     "output_type": "stream",
     "text": [
      "[36364  1081  7618 ... 32292 42286 27490]\n"
     ]
    }
   ],
   "source": [
    "indices = np.arange(encoder_input.shape[0])\n",
    "np.random.shuffle(indices)\n",
    "print(indices)"
   ]
  },
  {
   "cell_type": "markdown",
   "id": "ac1f463e",
   "metadata": {},
   "source": [
    "잘 섞인 샘플을 만든다"
   ]
  },
  {
   "cell_type": "code",
   "execution_count": 27,
   "id": "78377919",
   "metadata": {},
   "outputs": [
    {
     "name": "stdout",
     "output_type": "stream",
     "text": [
      "=3\n"
     ]
    }
   ],
   "source": [
    "encoder_input = encoder_input[indices]\n",
    "decoder_input = decoder_input[indices]\n",
    "decoder_target = decoder_target[indices]\n",
    "print('=3')"
   ]
  },
  {
   "cell_type": "markdown",
   "id": "7c8b991d",
   "metadata": {},
   "source": [
    "8:2로 나누기 위해 전체 데이터의 크기에서 0.2를 곱해서 테스트 데이터의 크기를 정의한다"
   ]
  },
  {
   "cell_type": "code",
   "execution_count": 28,
   "id": "ea4473c5",
   "metadata": {},
   "outputs": [
    {
     "name": "stdout",
     "output_type": "stream",
     "text": [
      "테스트 데이터의 수 : 13163\n"
     ]
    }
   ],
   "source": [
    "n_of_val = int(len(encoder_input)*0.2)\n",
    "print('테스트 데이터의 수 :', n_of_val)"
   ]
  },
  {
   "cell_type": "markdown",
   "id": "326b4878",
   "metadata": {},
   "source": [
    "이렇게 정의한 테스트 데이터의 개수를 이용해서 전체 데이터를 나눈다  \n",
    "**:** 표시의 위치에 주의하자"
   ]
  },
  {
   "cell_type": "code",
   "execution_count": 29,
   "id": "f5650fc1",
   "metadata": {},
   "outputs": [
    {
     "name": "stdout",
     "output_type": "stream",
     "text": [
      "훈련 데이터의 개수 : 52655\n",
      "훈련 레이블의 개수 : 52655\n",
      "테스트 데이터의 개수 : 13163\n",
      "테스트 레이블의 개수 : 13163\n"
     ]
    }
   ],
   "source": [
    "encoder_input_train = encoder_input[:-n_of_val]\n",
    "decoder_input_train = decoder_input[:-n_of_val]\n",
    "decoder_target_train = decoder_target[:-n_of_val]\n",
    "\n",
    "encoder_input_test = encoder_input[-n_of_val:]\n",
    "decoder_input_test = decoder_input[-n_of_val:]\n",
    "decoder_target_test = decoder_target[-n_of_val:]\n",
    "\n",
    "print('훈련 데이터의 개수 :', len(encoder_input_train))\n",
    "print('훈련 레이블의 개수 :', len(decoder_input_train))\n",
    "print('테스트 데이터의 개수 :', len(encoder_input_test))\n",
    "print('테스트 레이블의 개수 :', len(decoder_input_test))"
   ]
  },
  {
   "cell_type": "markdown",
   "id": "878ca7f9",
   "metadata": {},
   "source": [
    "# 데이터 전처리하기: 정수 인코딩\n",
    "- 훈련 데이터와 테스트 데이터의 단어들을 모두 정수로 바꿔야 한다  \n",
    "- 각 단어에 고유한 정수를 맵핑하는 작업이 필요하다  \n",
    "- 이 과정을 **단어 집합**을 만든다고 표현한다"
   ]
  },
  {
   "cell_type": "markdown",
   "id": "8bac08e5",
   "metadata": {},
   "source": [
    "encoder_input_train에 대한 단어 집합을 만들자  \n",
    "생성된 단어 집합은 src_tokenizer.word_index에 저장되어 있다"
   ]
  },
  {
   "cell_type": "code",
   "execution_count": 30,
   "id": "4f4ebb8d",
   "metadata": {},
   "outputs": [
    {
     "name": "stdout",
     "output_type": "stream",
     "text": [
      "=3\n"
     ]
    }
   ],
   "source": [
    "src_tokenizer = Tokenizer() # 토크나이저 정의\n",
    "src_tokenizer.fit_on_texts(encoder_input_train) # 입력된 데이터로부터 단어 집합 생성\n",
    "print('=3')"
   ]
  },
  {
   "cell_type": "markdown",
   "id": "f55a4b04",
   "metadata": {},
   "source": [
    "저장된 모든 단어를 사용하는 것이 아니라 빈도수가 낮은 단어들은 훈련 데이터에서 제외하고 진행한다  \n",
    "등장 빈도수가 7회 미만인 단어들이 데이터에서 얼만큼의 비중을 차지하는지 확해보자  \n",
    "src_tokenizer.word_counts.items()에는 각 단어의 등장 빈도수가 저장되어 있다"
   ]
  },
  {
   "cell_type": "code",
   "execution_count": 33,
   "id": "ca4245aa",
   "metadata": {},
   "outputs": [
    {
     "name": "stdout",
     "output_type": "stream",
     "text": [
      "단어 집합(vocabulary)의 크기 : 31850\n",
      "등장 빈도가 6번 이하인 희귀 단어의 수 : 23638\n",
      "단어 집합에서 희귀 단어를 제외시킬 경우의 단어 집합의 크기 : 8212\n",
      "단어 집합에서 희귀 단어의 비율 : 74.21664050235479\n",
      "전체 등장 빈도에서 희귀 단어 등장 빈도 비율 : 3.4013288538142366\n"
     ]
    }
   ],
   "source": [
    "threshold = 7\n",
    "total_cnt = len(src_tokenizer.word_index) # 단어의 수\n",
    "rare_cnt = 0 # 등장 빈도수가 threshold보다 작은 단어의 개수를 카운트\n",
    "total_freq = 0 # 훈련 데이터의 전체 단어 빈도수 총 합\n",
    "rare_freq = 0 # 등장 빈도수가 threshold보다 작은 단어의 등장 빈도수의 총 합\n",
    "\n",
    "# 단어와 빈도수의 쌍(pair)을 key와 value로 받는다.\n",
    "for key, value in src_tokenizer.word_counts.items():\n",
    "    total_freq = total_freq + value\n",
    "\n",
    "    # 단어의 등장 빈도수가 threshold보다 작으면\n",
    "    if(value < threshold):\n",
    "        rare_cnt = rare_cnt + 1\n",
    "        rare_freq = rare_freq + value\n",
    "\n",
    "print('단어 집합(vocabulary)의 크기 :', total_cnt)\n",
    "print('등장 빈도가 %s번 이하인 희귀 단어의 수 : %s'%(threshold - 1, rare_cnt))\n",
    "print('단어 집합에서 희귀 단어를 제외시킬 경우의 단어 집합의 크기 : %s'%(total_cnt - rare_cnt))\n",
    "print(\"단어 집합에서 희귀 단어의 비율 :\", (rare_cnt / total_cnt)*100)\n",
    "print(\"전체 등장 빈도에서 희귀 단어 등장 빈도 비율 :\", (rare_freq / total_freq)*100)"
   ]
  },
  {
   "cell_type": "markdown",
   "id": "c510c4f7",
   "metadata": {},
   "source": [
    "등장 횟수가 6회 이하인 단어가 전체 단어에서 거의 70% 이상을 차지한다  \n",
    "6회 이하인 단어들은 훈련 데이터에서 빼자  \n",
    "위의 단어를 제외한 크기는 약8천개로 계산해서 단어 집합의 크기를 8천개로 제안한다"
   ]
  },
  {
   "cell_type": "code",
   "execution_count": 34,
   "id": "e0041d4b",
   "metadata": {},
   "outputs": [
    {
     "name": "stdout",
     "output_type": "stream",
     "text": [
      "=3\n"
     ]
    }
   ],
   "source": [
    "src_vocab = 8000\n",
    "src_tokenizer = Tokenizer(num_words=src_vocab) # 단어 집합의 크기를 8,000으로 제한\n",
    "src_tokenizer.fit_on_texts(encoder_input_train) # 단어 집합 재생성\n",
    "print('=3')"
   ]
  },
  {
   "cell_type": "markdown",
   "id": "1aa83d4a",
   "metadata": {},
   "source": [
    "texts_to_sequences()는 생선된 단어 집합에 기반하여 입력으로 주어진 텍스트 데이터의 단어들을 모두 정수로 인코딩한다  \n",
    "크기를 8천으로 제안해서 8천이 넘는 숫자는 없어진다"
   ]
  },
  {
   "cell_type": "code",
   "execution_count": 35,
   "id": "21f79a0a",
   "metadata": {},
   "outputs": [
    {
     "name": "stdout",
     "output_type": "stream",
     "text": [
      "[[87, 5, 585, 15, 1772, 371, 428, 1041, 42, 2, 1150, 411], [298, 1275, 3240, 7169, 385, 430, 100, 1, 422, 3240, 7169, 167, 6, 1087, 462, 3240, 3898, 462, 229, 110, 60, 35, 561, 1636, 30], [487, 323, 19, 51, 14, 15, 118, 25, 319, 17, 1022, 95, 837, 525, 137, 347, 69, 680, 5879, 708, 7170, 978, 4367, 777, 6, 69]]\n"
     ]
    }
   ],
   "source": [
    "# 텍스트 시퀀스를 정수 시퀀스로 변환\n",
    "encoder_input_train = src_tokenizer.texts_to_sequences(encoder_input_train) \n",
    "encoder_input_test = src_tokenizer.texts_to_sequences(encoder_input_test)\n",
    "\n",
    "# 잘 진행되었는지 샘플 출력\n",
    "print(encoder_input_train[:3])"
   ]
  },
  {
   "cell_type": "markdown",
   "id": "6aa8b5ce",
   "metadata": {},
   "source": [
    "이번엔 decoder_input_train으로 빈도수를 계산한다"
   ]
  },
  {
   "cell_type": "code",
   "execution_count": 36,
   "id": "4a8fe030",
   "metadata": {},
   "outputs": [
    {
     "name": "stdout",
     "output_type": "stream",
     "text": [
      "=3\n"
     ]
    }
   ],
   "source": [
    "tar_tokenizer = Tokenizer()\n",
    "tar_tokenizer.fit_on_texts(decoder_input_train)\n",
    "print('=3')"
   ]
  },
  {
   "cell_type": "code",
   "execution_count": 37,
   "id": "ac0a25d6",
   "metadata": {},
   "outputs": [
    {
     "name": "stdout",
     "output_type": "stream",
     "text": [
      "단어 집합(vocabulary)의 크기 : 10519\n",
      "등장 빈도가 5번 이하인 희귀 단어의 수: 8126\n",
      "단어 집합에서 희귀 단어를 제외시킬 경우의 단어 집합의 크기 2393\n",
      "단어 집합에서 희귀 단어의 비율: 77.25068922901417\n",
      "전체 등장 빈도에서 희귀 단어 등장 빈도 비율: 5.885014283806085\n"
     ]
    }
   ],
   "source": [
    "threshold = 6\n",
    "total_cnt = len(tar_tokenizer.word_index) # 단어의 수\n",
    "rare_cnt = 0 # 등장 빈도수가 threshold보다 작은 단어의 개수를 카운트\n",
    "total_freq = 0 # 훈련 데이터의 전체 단어 빈도수 총 합\n",
    "rare_freq = 0 # 등장 빈도수가 threshold보다 작은 단어의 등장 빈도수의 총 합\n",
    "\n",
    "# 단어와 빈도수의 쌍(pair)을 key와 value로 받는다.\n",
    "for key, value in tar_tokenizer.word_counts.items():\n",
    "    total_freq = total_freq + value\n",
    "\n",
    "    # 단어의 등장 빈도수가 threshold보다 작으면\n",
    "    if(value < threshold):\n",
    "        rare_cnt = rare_cnt + 1\n",
    "        rare_freq = rare_freq + value\n",
    "\n",
    "print('단어 집합(vocabulary)의 크기 :', total_cnt)\n",
    "print('등장 빈도가 %s번 이하인 희귀 단어의 수: %s'%(threshold - 1, rare_cnt))\n",
    "print('단어 집합에서 희귀 단어를 제외시킬 경우의 단어 집합의 크기 %s'%(total_cnt - rare_cnt))\n",
    "print(\"단어 집합에서 희귀 단어의 비율:\", (rare_cnt / total_cnt)*100)\n",
    "print(\"전체 등장 빈도에서 희귀 단어 등장 빈도 비율:\", (rare_freq / total_freq)*100)"
   ]
  },
  {
   "cell_type": "markdown",
   "id": "8c3e16ee",
   "metadata": {},
   "source": [
    "이번에는 2천으로 제한한다"
   ]
  },
  {
   "cell_type": "code",
   "execution_count": 38,
   "id": "cb444514",
   "metadata": {},
   "outputs": [
    {
     "name": "stdout",
     "output_type": "stream",
     "text": [
      "input\n",
      "input  [[1, 66, 19, 6, 23, 10], [1, 1966, 47], [1, 300, 216], [1, 3, 15, 7, 1101], [1, 3, 13]]\n",
      "target\n",
      "decoder  [[66, 19, 6, 23, 10, 2], [1966, 47, 2], [300, 216, 2], [3, 15, 7, 1101, 2], [3, 13, 2]]\n"
     ]
    }
   ],
   "source": [
    "tar_vocab = 2000\n",
    "tar_tokenizer = Tokenizer(num_words=tar_vocab) \n",
    "tar_tokenizer.fit_on_texts(decoder_input_train)\n",
    "tar_tokenizer.fit_on_texts(decoder_target_train)\n",
    "\n",
    "# 텍스트 시퀀스를 정수 시퀀스로 변환\n",
    "decoder_input_train = tar_tokenizer.texts_to_sequences(decoder_input_train) \n",
    "decoder_target_train = tar_tokenizer.texts_to_sequences(decoder_target_train)\n",
    "decoder_input_test = tar_tokenizer.texts_to_sequences(decoder_input_test)\n",
    "decoder_target_test = tar_tokenizer.texts_to_sequences(decoder_target_test)\n",
    "\n",
    "# 잘 변환되었는지 확인\n",
    "print('input')\n",
    "print('input ',decoder_input_train[:5])\n",
    "print('target')\n",
    "print('decoder ',decoder_target_train[:5])"
   ]
  },
  {
   "cell_type": "code",
   "execution_count": 39,
   "id": "6b7321fb",
   "metadata": {},
   "outputs": [
    {
     "name": "stdout",
     "output_type": "stream",
     "text": [
      "삭제할 훈련 데이터의 개수 : 1264\n",
      "삭제할 테스트 데이터의 개수 : 334\n",
      "훈련 데이터의 개수 : 51391\n",
      "훈련 레이블의 개수 : 51391\n",
      "테스트 데이터의 개수 : 12829\n",
      "테스트 레이블의 개수 : 12829\n"
     ]
    }
   ],
   "source": [
    "drop_train = [index for index, sentence in enumerate(decoder_input_train) if len(sentence) == 1]\n",
    "drop_test = [index for index, sentence in enumerate(decoder_input_test) if len(sentence) == 1]\n",
    "\n",
    "print('삭제할 훈련 데이터의 개수 :', len(drop_train))\n",
    "print('삭제할 테스트 데이터의 개수 :', len(drop_test))\n",
    "\n",
    "encoder_input_train = [sentence for index, sentence in enumerate(encoder_input_train) if index not in drop_train]\n",
    "decoder_input_train = [sentence for index, sentence in enumerate(decoder_input_train) if index not in drop_train]\n",
    "decoder_target_train = [sentence for index, sentence in enumerate(decoder_target_train) if index not in drop_train]\n",
    "\n",
    "encoder_input_test = [sentence for index, sentence in enumerate(encoder_input_test) if index not in drop_test]\n",
    "decoder_input_test = [sentence for index, sentence in enumerate(decoder_input_test) if index not in drop_test]\n",
    "decoder_target_test = [sentence for index, sentence in enumerate(decoder_target_test) if index not in drop_test]\n",
    "\n",
    "print('훈련 데이터의 개수 :', len(encoder_input_train))\n",
    "print('훈련 레이블의 개수 :', len(decoder_input_train))\n",
    "print('테스트 데이터의 개수 :', len(encoder_input_test))\n",
    "print('테스트 레이블의 개수 :', len(decoder_input_test))"
   ]
  },
  {
   "cell_type": "markdown",
   "id": "ac4bcdd4",
   "metadata": {},
   "source": [
    "### 패딩하기\n",
    "최대 길이보다 짧은 데이터들 뒤의 공간에 숫자 0을 넣어 최대 길이로 맞춘다"
   ]
  },
  {
   "cell_type": "code",
   "execution_count": 40,
   "id": "8ea272dc",
   "metadata": {},
   "outputs": [
    {
     "name": "stdout",
     "output_type": "stream",
     "text": [
      "=3\n"
     ]
    }
   ],
   "source": [
    "encoder_input_train = pad_sequences(encoder_input_train, maxlen=text_max_len, padding='post')\n",
    "encoder_input_test = pad_sequences(encoder_input_test, maxlen=text_max_len, padding='post')\n",
    "decoder_input_train = pad_sequences(decoder_input_train, maxlen=summary_max_len, padding='post')\n",
    "decoder_target_train = pad_sequences(decoder_target_train, maxlen=summary_max_len, padding='post')\n",
    "decoder_input_test = pad_sequences(decoder_input_test, maxlen=summary_max_len, padding='post')\n",
    "decoder_target_test = pad_sequences(decoder_target_test, maxlen=summary_max_len, padding='post')\n",
    "print('=3')"
   ]
  },
  {
   "cell_type": "markdown",
   "id": "eac4ae0f",
   "metadata": {},
   "source": [
    "# 모델 설계하기"
   ]
  },
  {
   "cell_type": "markdown",
   "id": "7ca40463",
   "metadata": {},
   "source": [
    "인코더 설계하기"
   ]
  },
  {
   "cell_type": "code",
   "execution_count": 44,
   "id": "4d426031",
   "metadata": {},
   "outputs": [],
   "source": [
    "from tensorflow.keras.layers import Input, LSTM, Embedding, Dense, Concatenate, TimeDistributed\n",
    "from tensorflow.keras.models import Model\n",
    "from tensorflow.keras.callbacks import EarlyStopping, ModelCheckpoint\n",
    "\n",
    "\n",
    "# 인코더 설계 시작\n",
    "embedding_dim = 128\n",
    "hidden_size = 256\n",
    "\n",
    "# 인코더\n",
    "encoder_inputs = Input(shape=(text_max_len,))\n",
    "\n",
    "# 인코더의 임베딩 층\n",
    "enc_emb = Embedding(src_vocab, embedding_dim)(encoder_inputs)\n",
    "\n",
    "# 인코더의 LSTM 1\n",
    "# encoder_lstm1 = LSTM(hidden_size, return_sequences=True, return_state=True ,dropout = 0.4, recurrent_dropout = 0.4)\n",
    "encoder_lstm1 = LSTM(hidden_size, return_sequences=True, return_state=True ,dropout = 0.4)\n",
    "encoder_output1, state_h1, state_c1 = encoder_lstm1(enc_emb)\n",
    "\n",
    "# 인코더의 LSTM 2\n",
    "encoder_lstm2 = LSTM(hidden_size, return_sequences=True, return_state=True ,dropout = 0.4)\n",
    "encoder_output2, state_h2, state_c2 = encoder_lstm2(encoder_output1, initial_state=[state_h1, state_c1])\n",
    "\n",
    "# 인코더의 LSTM 3\n",
    "encoder_lstm3 = LSTM(hidden_size, return_sequences=True, return_state=True ,dropout = 0.4)\n",
    "encoder_output3, state_h3, state_c3 = encoder_lstm3(encoder_output2, initial_state=[state_h2, state_c2])"
   ]
  },
  {
   "cell_type": "code",
   "execution_count": 45,
   "id": "ac64b89f",
   "metadata": {},
   "outputs": [],
   "source": [
    "# 디코더 설계\n",
    "decoder_inputs = Input(shape=(None,))\n",
    "\n",
    "# 디코더의 임베딩 층\n",
    "dec_emb_layer = Embedding(tar_vocab, embedding_dim)\n",
    "dec_emb = dec_emb_layer(decoder_inputs)\n",
    "\n",
    "# 디코더의 LSTM\n",
    "# decoder_lstm = LSTM(hidden_size, return_sequences=True, return_state=True, dropout=0.4, recurrent_dropout=0.2)\n",
    "decoder_lstm = LSTM(hidden_size, return_sequences=True, return_state=True, dropout=0.4)\n",
    "decoder_outputs, _, _ = decoder_lstm(dec_emb, initial_state=[state_h3, state_c3])"
   ]
  },
  {
   "cell_type": "code",
   "execution_count": 46,
   "id": "26ed22ba",
   "metadata": {},
   "outputs": [
    {
     "name": "stdout",
     "output_type": "stream",
     "text": [
      "Model: \"model\"\n",
      "__________________________________________________________________________________________________\n",
      "Layer (type)                    Output Shape         Param #     Connected to                     \n",
      "==================================================================================================\n",
      "input_4 (InputLayer)            [(None, 50)]         0                                            \n",
      "__________________________________________________________________________________________________\n",
      "embedding_3 (Embedding)         (None, 50, 128)      1024000     input_4[0][0]                    \n",
      "__________________________________________________________________________________________________\n",
      "lstm_6 (LSTM)                   [(None, 50, 256), (N 394240      embedding_3[0][0]                \n",
      "__________________________________________________________________________________________________\n",
      "input_5 (InputLayer)            [(None, None)]       0                                            \n",
      "__________________________________________________________________________________________________\n",
      "lstm_7 (LSTM)                   [(None, 50, 256), (N 525312      lstm_6[0][0]                     \n",
      "                                                                 lstm_6[0][1]                     \n",
      "                                                                 lstm_6[0][2]                     \n",
      "__________________________________________________________________________________________________\n",
      "embedding_4 (Embedding)         (None, None, 128)    256000      input_5[0][0]                    \n",
      "__________________________________________________________________________________________________\n",
      "lstm_8 (LSTM)                   [(None, 50, 256), (N 525312      lstm_7[0][0]                     \n",
      "                                                                 lstm_7[0][1]                     \n",
      "                                                                 lstm_7[0][2]                     \n",
      "__________________________________________________________________________________________________\n",
      "lstm_9 (LSTM)                   [(None, None, 256),  394240      embedding_4[0][0]                \n",
      "                                                                 lstm_8[0][1]                     \n",
      "                                                                 lstm_8[0][2]                     \n",
      "__________________________________________________________________________________________________\n",
      "dense (Dense)                   (None, None, 2000)   514000      lstm_9[0][0]                     \n",
      "==================================================================================================\n",
      "Total params: 3,633,104\n",
      "Trainable params: 3,633,104\n",
      "Non-trainable params: 0\n",
      "__________________________________________________________________________________________________\n"
     ]
    }
   ],
   "source": [
    "# 디코더의 출력층\n",
    "decoder_softmax_layer = Dense(tar_vocab, activation='softmax')\n",
    "decoder_softmax_outputs = decoder_softmax_layer(decoder_outputs) \n",
    "\n",
    "# 모델 정의\n",
    "model = Model([encoder_inputs, decoder_inputs], decoder_softmax_outputs)\n",
    "model.summary()"
   ]
  },
  {
   "cell_type": "markdown",
   "id": "488a068c",
   "metadata": {},
   "source": [
    "### 어텐션 메커니즘"
   ]
  },
  {
   "cell_type": "code",
   "execution_count": 48,
   "id": "d276a5da",
   "metadata": {},
   "outputs": [
    {
     "name": "stdout",
     "output_type": "stream",
     "text": [
      "Model: \"model_1\"\n",
      "__________________________________________________________________________________________________\n",
      "Layer (type)                    Output Shape         Param #     Connected to                     \n",
      "==================================================================================================\n",
      "input_4 (InputLayer)            [(None, 50)]         0                                            \n",
      "__________________________________________________________________________________________________\n",
      "embedding_3 (Embedding)         (None, 50, 128)      1024000     input_4[0][0]                    \n",
      "__________________________________________________________________________________________________\n",
      "lstm_6 (LSTM)                   [(None, 50, 256), (N 394240      embedding_3[0][0]                \n",
      "__________________________________________________________________________________________________\n",
      "input_5 (InputLayer)            [(None, None)]       0                                            \n",
      "__________________________________________________________________________________________________\n",
      "lstm_7 (LSTM)                   [(None, 50, 256), (N 525312      lstm_6[0][0]                     \n",
      "                                                                 lstm_6[0][1]                     \n",
      "                                                                 lstm_6[0][2]                     \n",
      "__________________________________________________________________________________________________\n",
      "embedding_4 (Embedding)         (None, None, 128)    256000      input_5[0][0]                    \n",
      "__________________________________________________________________________________________________\n",
      "lstm_8 (LSTM)                   [(None, 50, 256), (N 525312      lstm_7[0][0]                     \n",
      "                                                                 lstm_7[0][1]                     \n",
      "                                                                 lstm_7[0][2]                     \n",
      "__________________________________________________________________________________________________\n",
      "lstm_9 (LSTM)                   [(None, None, 256),  394240      embedding_4[0][0]                \n",
      "                                                                 lstm_8[0][1]                     \n",
      "                                                                 lstm_8[0][2]                     \n",
      "__________________________________________________________________________________________________\n",
      "attention_layer (AdditiveAttent (None, None, 256)    256         lstm_9[0][0]                     \n",
      "                                                                 lstm_8[0][0]                     \n",
      "__________________________________________________________________________________________________\n",
      "concat_layer (Concatenate)      (None, None, 512)    0           lstm_9[0][0]                     \n",
      "                                                                 attention_layer[0][0]            \n",
      "__________________________________________________________________________________________________\n",
      "dense_1 (Dense)                 (None, None, 2000)   1026000     concat_layer[0][0]               \n",
      "==================================================================================================\n",
      "Total params: 4,145,360\n",
      "Trainable params: 4,145,360\n",
      "Non-trainable params: 0\n",
      "__________________________________________________________________________________________________\n"
     ]
    }
   ],
   "source": [
    "from tensorflow.keras.layers import AdditiveAttention\n",
    "\n",
    "# 어텐션 층(어텐션 함수)\n",
    "attn_layer = AdditiveAttention(name='attention_layer')\n",
    "\n",
    "# 인코더와 디코더의 모든 time step의 hidden state를 어텐션 층에 전달하고 결과를 리턴\n",
    "attn_out = attn_layer([decoder_outputs, encoder_output3])\n",
    "\n",
    "\n",
    "# 어텐션의 결과와 디코더의 hidden state들을 연결\n",
    "decoder_concat_input = Concatenate(axis=-1, name='concat_layer')([decoder_outputs, attn_out])\n",
    "\n",
    "# 디코더의 출력층\n",
    "decoder_softmax_layer = Dense(tar_vocab, activation='softmax')\n",
    "decoder_softmax_outputs = decoder_softmax_layer(decoder_concat_input)\n",
    "\n",
    "# 모델 정의\n",
    "model = Model([encoder_inputs, decoder_inputs], decoder_softmax_outputs)\n",
    "model.summary()"
   ]
  },
  {
   "cell_type": "markdown",
   "id": "52ffba32",
   "metadata": {},
   "source": [
    "# 모델 훈련하기"
   ]
  },
  {
   "cell_type": "code",
   "execution_count": 49,
   "id": "c7a29a24",
   "metadata": {},
   "outputs": [
    {
     "name": "stdout",
     "output_type": "stream",
     "text": [
      "Epoch 1/50\n",
      "201/201 [==============================] - 54s 143ms/step - loss: 2.7005 - val_loss: 2.4214\n",
      "Epoch 2/50\n",
      "201/201 [==============================] - 28s 141ms/step - loss: 2.3755 - val_loss: 2.2982\n",
      "Epoch 3/50\n",
      "201/201 [==============================] - 29s 145ms/step - loss: 2.2358 - val_loss: 2.1638\n",
      "Epoch 4/50\n",
      "201/201 [==============================] - 29s 142ms/step - loss: 2.1203 - val_loss: 2.0851\n",
      "Epoch 5/50\n",
      "201/201 [==============================] - 29s 142ms/step - loss: 2.0432 - val_loss: 2.0361\n",
      "Epoch 6/50\n",
      "201/201 [==============================] - 29s 143ms/step - loss: 1.9823 - val_loss: 2.0000\n",
      "Epoch 7/50\n",
      "201/201 [==============================] - 29s 144ms/step - loss: 1.9303 - val_loss: 1.9671\n",
      "Epoch 8/50\n",
      "201/201 [==============================] - 29s 143ms/step - loss: 1.8830 - val_loss: 1.9403\n",
      "Epoch 9/50\n",
      "201/201 [==============================] - 29s 143ms/step - loss: 1.8408 - val_loss: 1.9214\n",
      "Epoch 10/50\n",
      "201/201 [==============================] - 29s 143ms/step - loss: 1.8036 - val_loss: 1.9059\n",
      "Epoch 11/50\n",
      "201/201 [==============================] - 29s 143ms/step - loss: 1.7685 - val_loss: 1.8934\n",
      "Epoch 12/50\n",
      "201/201 [==============================] - 29s 143ms/step - loss: 1.7367 - val_loss: 1.8866\n",
      "Epoch 13/50\n",
      "201/201 [==============================] - 29s 143ms/step - loss: 1.7071 - val_loss: 1.8816\n",
      "Epoch 14/50\n",
      "201/201 [==============================] - 29s 143ms/step - loss: 1.6769 - val_loss: 1.8762\n",
      "Epoch 15/50\n",
      "201/201 [==============================] - 29s 143ms/step - loss: 1.6489 - val_loss: 1.8745\n",
      "Epoch 16/50\n",
      "201/201 [==============================] - 29s 143ms/step - loss: 1.6226 - val_loss: 1.8697\n",
      "Epoch 17/50\n",
      "201/201 [==============================] - 29s 143ms/step - loss: 1.5965 - val_loss: 1.8702\n",
      "Epoch 18/50\n",
      "201/201 [==============================] - 29s 143ms/step - loss: 1.5721 - val_loss: 1.8701\n",
      "Epoch 00018: early stopping\n"
     ]
    }
   ],
   "source": [
    "model.compile(optimizer='rmsprop', loss='sparse_categorical_crossentropy')\n",
    "es = EarlyStopping(monitor='val_loss', patience=2, verbose=1)\n",
    "history = model.fit(x=[encoder_input_train, decoder_input_train], y=decoder_target_train, \\\n",
    "          validation_data=([encoder_input_test, decoder_input_test], decoder_target_test), \\\n",
    "          batch_size=256, callbacks=[es], epochs=50)"
   ]
  },
  {
   "cell_type": "markdown",
   "id": "d80a9497",
   "metadata": {},
   "source": [
    "훈련 데이터 손실과 검증 데이터 손실이 줄어드는 과정을 시각화한다"
   ]
  },
  {
   "cell_type": "code",
   "execution_count": 50,
   "id": "ed44c70e",
   "metadata": {},
   "outputs": [
    {
     "data": {
      "image/png": "[encoded data removed]",
      "text/plain": [
       "<Figure size 432x288 with 1 Axes>"
      ]
     },
     "metadata": {
      "needs_background": "light"
     },
     "output_type": "display_data"
    }
   ],
   "source": [
    "plt.plot(history.history['loss'], label='train')\n",
    "plt.plot(history.history['val_loss'], label='test')\n",
    "plt.legend()\n",
    "plt.show()"
   ]
  },
  {
   "cell_type": "markdown",
   "id": "eb42d82c",
   "metadata": {},
   "source": [
    "# 인퍼런스 모델 구현하기"
   ]
  },
  {
   "cell_type": "markdown",
   "id": "60e42253",
   "metadata": {},
   "source": [
    "행렬로 존재하던 텍스트 데이터를 실제 데이터로 복원해야한다  \n",
    "필요한 사전 3개를 미리 준비한다"
   ]
  },
  {
   "cell_type": "code",
   "execution_count": 51,
   "id": "c2e28be8",
   "metadata": {},
   "outputs": [
    {
     "name": "stdout",
     "output_type": "stream",
     "text": [
      "=3\n"
     ]
    }
   ],
   "source": [
    "src_index_to_word = src_tokenizer.index_word # 원문 단어 집합에서 정수 -> 단어를 얻음\n",
    "tar_word_to_index = tar_tokenizer.word_index # 요약 단어 집합에서 단어 -> 정수를 얻음\n",
    "tar_index_to_word = tar_tokenizer.index_word # 요약 단어 집합에서 정수 -> 단어를 얻음\n",
    "\n",
    "print('=3')"
   ]
  },
  {
   "cell_type": "code",
   "execution_count": 53,
   "id": "245267fb",
   "metadata": {},
   "outputs": [
    {
     "name": "stdout",
     "output_type": "stream",
     "text": [
      "=3\n"
     ]
    }
   ],
   "source": [
    "# 인코더 설계\n",
    "encoder_model = Model(inputs=encoder_inputs, outputs=[encoder_output3, state_h3, state_c3])\n",
    "\n",
    "# 이전 시점의 상태들을 저장하는 텐서\n",
    "decoder_state_input_h = Input(shape=(hidden_size,))\n",
    "decoder_state_input_c = Input(shape=(hidden_size,))\n",
    "\n",
    "dec_emb2 = dec_emb_layer(decoder_inputs)\n",
    "\n",
    "# 문장의 다음 단어를 예측하기 위해서 초기 상태(initial_state)를 이전 시점의 상태로 사용. 이는 뒤의 함수 decode_sequence()에 구현\n",
    "# 훈련 과정에서와 달리 LSTM의 리턴하는 은닉 상태와 셀 상태인 state_h와 state_c를 버리지 않음.\n",
    "decoder_outputs2, state_h2, state_c2 = decoder_lstm(dec_emb2, initial_state=[decoder_state_input_h, decoder_state_input_c])\n",
    "\n",
    "print('=3')"
   ]
  },
  {
   "cell_type": "code",
   "execution_count": 54,
   "id": "2448edda",
   "metadata": {},
   "outputs": [
    {
     "name": "stdout",
     "output_type": "stream",
     "text": [
      "=3\n"
     ]
    }
   ],
   "source": [
    "# 어텐션 함수\n",
    "decoder_hidden_state_input = Input(shape=(text_max_len, hidden_size))\n",
    "attn_out_inf = attn_layer([decoder_outputs2, decoder_hidden_state_input])\n",
    "decoder_inf_concat = Concatenate(axis=-1, name='concat')([decoder_outputs2, attn_out_inf])\n",
    "\n",
    "# 디코더의 출력층\n",
    "decoder_outputs2 = decoder_softmax_layer(decoder_inf_concat) \n",
    "\n",
    "# 최종 디코더 모델\n",
    "decoder_model = Model(\n",
    "    [decoder_inputs] + [decoder_hidden_state_input,decoder_state_input_h, decoder_state_input_c],\n",
    "    [decoder_outputs2] + [state_h2, state_c2])\n",
    "\n",
    "print('=3')"
   ]
  },
  {
   "cell_type": "code",
   "execution_count": 55,
   "id": "f29943ad",
   "metadata": {},
   "outputs": [
    {
     "name": "stdout",
     "output_type": "stream",
     "text": [
      "=3\n"
     ]
    }
   ],
   "source": [
    "def decode_sequence(input_seq):\n",
    "    # 입력으로부터 인코더의 상태를 얻음\n",
    "    e_out, e_h, e_c = encoder_model.predict(input_seq)\n",
    "\n",
    "     # <SOS>에 해당하는 토큰 생성\n",
    "    target_seq = np.zeros((1,1))\n",
    "    target_seq[0, 0] = tar_word_to_index['sostoken']\n",
    "\n",
    "    stop_condition = False\n",
    "    decoded_sentence = ''\n",
    "    while not stop_condition: # stop_condition이 True가 될 때까지 루프 반복\n",
    "\n",
    "        output_tokens, h, c = decoder_model.predict([target_seq] + [e_out, e_h, e_c])\n",
    "        sampled_token_index = np.argmax(output_tokens[0, -1, :])\n",
    "        sampled_token = tar_index_to_word[sampled_token_index]\n",
    "\n",
    "        if (sampled_token!='eostoken'):\n",
    "            decoded_sentence += ' '+sampled_token\n",
    "\n",
    "        #  <eos>에 도달하거나 최대 길이를 넘으면 중단.\n",
    "        if (sampled_token == 'eostoken'  or len(decoded_sentence.split()) >= (summary_max_len-1)):\n",
    "            stop_condition = True\n",
    "\n",
    "        # 길이가 1인 타겟 시퀀스를 업데이트\n",
    "        target_seq = np.zeros((1,1))\n",
    "        target_seq[0, 0] = sampled_token_index\n",
    "        # 상태를 업데이트 합니다.\n",
    "        e_h, e_c = h, c\n",
    "\n",
    "    return decoded_sentence\n",
    "print('=3')"
   ]
  },
  {
   "cell_type": "markdown",
   "id": "69d06680",
   "metadata": {},
   "source": [
    "# 모델 테스트하기"
   ]
  },
  {
   "cell_type": "markdown",
   "id": "544c7634",
   "metadata": {},
   "source": [
    "정수 시퀀스를 텍스트 시퀀스로 변환하는 함수 만들기"
   ]
  },
  {
   "cell_type": "code",
   "execution_count": 56,
   "id": "0a0cf320",
   "metadata": {},
   "outputs": [
    {
     "name": "stdout",
     "output_type": "stream",
     "text": [
      "=3\n"
     ]
    }
   ],
   "source": [
    "# 원문의 정수 시퀀스를 텍스트 시퀀스로 변환\n",
    "def seq2text(input_seq):\n",
    "    temp=''\n",
    "    for i in input_seq:\n",
    "        if (i!=0):\n",
    "            temp = temp + src_index_to_word[i]+' '\n",
    "    return temp\n",
    "\n",
    "# 요약문의 정수 시퀀스를 텍스트 시퀀스로 변환\n",
    "def seq2summary(input_seq):\n",
    "    temp=''\n",
    "    for i in input_seq:\n",
    "        if (i!=0):\n",
    "            temp = temp + tar_index_to_word[i]+' '\n",
    "    return temp\n",
    "\n",
    "print('=3')"
   ]
  },
  {
   "cell_type": "markdown",
   "id": "a2e46071",
   "metadata": {},
   "source": [
    "테스트 데이터의 약 50개의 샘플에 대해서 실제 요약과 예측된 요약을 비교하자"
   ]
  },
  {
   "cell_type": "code",
   "execution_count": 57,
   "id": "a1b71fe4",
   "metadata": {},
   "outputs": [
    {
     "name": "stdout",
     "output_type": "stream",
     "text": [
      "원문 : baby likes matters happy baby happy mommy thing color food stain anything oh well washed right way \n",
      "실제 요약 : sostoken baby loves the tender beef \n",
      "예측 요약 :  baby food\n",
      "\n",
      "\n",
      "원문 : good tasting gluten free pasta great price whole family enjoys even gf diet better taste many rice pastas stays firmer rice pasta especially left overs downfall cannot used cold pasta salads macaroni salad hard cold \n",
      "실제 요약 : sostoken great product great price \n",
      "예측 요약 :  great pasta\n",
      "\n",
      "\n",
      "원문 : nephew loves starburst went away college last year send carton every month arrive popular guy floor says better money individual boxes things either get thank text message post page mother taught right \n",
      "실제 요약 : sostoken finally my am cool \n",
      "예측 요약 :  great product\n",
      "\n",
      "\n",
      "원문 : love dark chocolate first started picky always grab hershey special sale stock tried expensive ones found many bitter really like love organic try eat organic possible chocolate sweet hershey brand like tastes thick delicious without much sugar yet bitter winner taste could work price \n",
      "실제 요약 : sostoken oh so good \n",
      "예측 요약 :  delicious\n",
      "\n",
      "\n",
      "원문 : dogs loved loved giving excellent food relatively good price \n",
      "실제 요약 : sostoken an excellent premium dog food \n",
      "예측 요약 :  dog treats\n",
      "\n",
      "\n",
      "원문 : bars great great tasting quality wholesome ingredients company great outstanding customer service stand product highly recommend bars flavor \n",
      "실제 요약 : sostoken great bars \n",
      "예측 요약 :  great snack\n",
      "\n",
      "\n",
      "원문 : chocolate deep rich delightful dark chocolate product \n",
      "실제 요약 : sostoken wonderful \n",
      "예측 요약 :  chocolate heaven\n",
      "\n",
      "\n",
      "원문 : ring taste like peach ring rather probably worst jelly entire life though hates sweetness might find jelly tasty anyone tries buy yucky stuff \n",
      "실제 요약 : sostoken not peach ring but rather jelly \n",
      "예측 요약 :  not what expected\n",
      "\n",
      "\n",
      "원문 : order another shipment right great flavor bought kuerig maker work everyone loves \n",
      "실제 요약 : sostoken great coffee \n",
      "예측 요약 :  great product\n",
      "\n",
      "\n",
      "원문 : zuke great natural mini treat perfect size training since soft treat easily break smaller pieces want far amazon com reasonable price \n",
      "실제 요약 : sostoken zuke \n",
      "예측 요약 :  great training treat\n",
      "\n",
      "\n",
      "원문 : initially used mix sonoma good pricey decided give one try great nice light batter works great fillings given christmas gifts definitely ordering bad part amazon free shipping though \n",
      "실제 요약 : sostoken great mix \n",
      "예측 요약 :  great product\n",
      "\n",
      "\n",
      "원문 : want noodle without guilt well better limit real noodle intake enjoy suffer tried tofu shirataki noodles local health food store bit better nothing replaces real thing rubbery flavor really digest well save \n",
      "실제 요약 : sostoken gross \n",
      "예측 요약 :  pretty good\n",
      "\n",
      "\n",
      "원문 : introduced number people hooked best sour gummy ever great flavors got great price \n",
      "실제 요약 : sostoken new favorite \n",
      "예측 요약 :  delicious\n",
      "\n",
      "\n",
      "원문 : caribou nice coffee blend full flavor bitter good choice drink coffee without cream sugar attractive price count package well satisfied purchase \n",
      "실제 요약 : sostoken great coffee choice \n",
      "예측 요약 :  great coffee\n",
      "\n",
      "\n",
      "원문 : wow cannot believe chocolaty almonds contain calories plain almonds taste sinfully delicious perfect balance nutty flavor chocolate satisfying \n",
      "실제 요약 : sostoken great taste \n",
      "예측 요약 :  delicious\n",
      "\n",
      "\n",
      "원문 : tastes great whole family enjoys preparation easy hard find supermarkets \n",
      "실제 요약 : sostoken delicious \n",
      "예측 요약 :  great taste\n",
      "\n",
      "\n",
      "원문 : loved mallomars young years remember eat one eat entire box good remember sweet cookie dark chocolate soft fluffy marshmallow wonderful \n",
      "실제 요약 : sostoken make me feel like kid again \n",
      "예측 요약 :  yummy\n",
      "\n",
      "\n",
      "원문 : prepared like prepared cleaned sliced salted peppered great funky stronger odor slightly moldy flavor though could see mold product frozen ones use thaw later see helps flavor worth returning would recommend \n",
      "실제 요약 : sostoken not as fresh as expected \n",
      "예측 요약 :  not as good as the\n",
      "\n",
      "\n",
      "원문 : bought box chips father day gift dad loves yummy substantial regular chips \n",
      "실제 요약 : sostoken yum \n",
      "예측 요약 :  great chips\n",
      "\n",
      "\n",
      "원문 : still find juice healthier juice organic food fruits veggies trying avoid unnecessary sugars high fructose syrup etc go buying juice last years son loves \n",
      "실제 요약 : sostoken the best healthiest juice for kids \n",
      "예측 요약 :  great product\n",
      "\n",
      "\n",
      "원문 : really good treats dogs french bulldog crumble treats gobble beg organic interesting thing sickly little pooch cannot eat organic foods gives diarrhea gets half one treats one day gave two got middle night use bathroom runny happen gave half treat know give constipated \n",
      "실제 요약 : sostoken nice organic dog treat \n",
      "예측 요약 :  great treats\n",
      "\n",
      "\n",
      "원문 : whole box peanut butter dog cookies wont touch loves begs good buy little big mouth per box \n",
      "실제 요약 : sostoken she loves them \n",
      "예측 요약 :  great popcorn\n",
      "\n",
      "\n",
      "원문 : always receive product quick always fresh continue order amazon \n",
      "실제 요약 : sostoken haribo \n",
      "예측 요약 :  great product\n",
      "\n",
      "\n",
      "원문 : cooking pork chops could easier shake bake original pork coat pork chops coating mix bake minutes great lot time prepare dinner gave four stars like pork chops little spicy next time add spice give extra kick like otherwise great \n",
      "실제 요약 : sostoken mona lisa \n",
      "예측 요약 :  great for cooking\n",
      "\n",
      "\n",
      "원문 : use almond extract alot holidays tired buying little bottles almost happy purchase great price \n",
      "실제 요약 : sostoken almond extract \n",
      "예측 요약 :  great maple syrup\n",
      "\n",
      "\n",
      "원문 : keeps dog happy least hours always going back decent amount meat left breaks easily well clean smells little smokey much better products found border collie shepherd mix favorite treat \n",
      "실제 요약 : sostoken dog favorite treat \n",
      "예측 요약 :  great for dogs with allergies\n",
      "\n",
      "\n",
      "원문 : nice light earl grey flavor pleasant aroma use filtered water refreshing flavor make coffee maker never made coffee keep flavor pure decent cup tea price \n",
      "실제 요약 : sostoken tea \n",
      "예측 요약 :  best instant coffee have had\n",
      "\n",
      "\n",
      "원문 : never tried ordered based reviews im glad raisins sweet lil bit salt trail mix tasty enjoy eating try wrong \n",
      "실제 요약 : sostoken trail mix \n",
      "예측 요약 :  great taste\n",
      "\n",
      "\n",
      "원문 : older get particular snack treats go winner pure taste bud delight savor mixed flavors healthy fruit dark chocolate addictive indeed minus usual post snack guilt appreciation fine treat \n",
      "실제 요약 : sostoken yum \n",
      "예측 요약 :  great for popcorn\n",
      "\n",
      "\n",
      "원문 : cocoa came packaged air tight secure using quickly amazed aroma rich flavor great price amount \n",
      "실제 요약 : sostoken yum \n",
      "예측 요약 :  great product\n",
      "\n",
      "\n",
      "원문 : use syrup make habanero lime margaritas delicious highly recommend using syrup margaritas drinks everyone made love also \n",
      "실제 요약 : sostoken habanero lime yum \n",
      "예측 요약 :  great product\n",
      "\n",
      "\n",
      "원문 : best drinking chocolate market spices perfectly combined authentic mexican taste seller delivered promised thank \n",
      "실제 요약 : sostoken yumm \n",
      "예측 요약 :  great hot cocoa\n",
      "\n",
      "\n",
      "원문 : tea lovers get better taylor yorkshire gold found tea supermarket florida visiting wife sister couple years ago back home virginia checked several upscale stores could find searched amazon standing order amazon pleased \n",
      "실제 요약 : sostoken the best tea ever \n",
      "예측 요약 :  great tea\n",
      "\n",
      "\n",
      "원문 : pasta awesome great texture flavor difference pasta wheat pasta highly recommend anyone loves pasta whether gluten free \n",
      "실제 요약 : sostoken great taste \n",
      "예측 요약 :  great pasta\n",
      "\n",
      "\n",
      "원문 : catnip great cats love bag huge great value money purchase \n",
      "실제 요약 : sostoken catnip \n",
      "예측 요약 :  great product\n",
      "\n",
      "\n",
      "원문 : favorite cups tried tried lot also good value \n",
      "실제 요약 : sostoken great \n",
      "예측 요약 :  great coffee\n",
      "\n",
      "\n",
      "원문 : product worked well us delivery breeze arrived days \n",
      "실제 요약 : sostoken great food my cat loves it \n",
      "예측 요약 :  great product\n",
      "\n",
      "\n",
      "원문 : worst gluten free cookies ever tasted hard dry tasted like tapioca flour avoid cost \n",
      "실제 요약 : sostoken lucy chocolate chip cookies \n",
      "예측 요약 :  stale\n",
      "\n",
      "\n",
      "원문 : length loved dog treats greasy residue hands smell organic dog loved cat even loved one last thought hard treats beagle keeping attention hold treats hand one corner treat dog crunch keeps attention longer like nail trim vet \n",
      "실제 요약 : sostoken even my cat liked them \n",
      "예측 요약 :  great for training\n",
      "\n",
      "\n",
      "원문 : popchips something wanted try baked barbeque ones okay rest terrible \n",
      "실제 요약 : sostoken chips \n",
      "예측 요약 :  not bad\n",
      "\n",
      "\n",
      "원문 : packets mix best instant mix ever tried come close fresh hot available served guests enjoyed hurry prepare time make scratch great option great paired flavorful delicious always keep mix shelves \n",
      "실제 요약 : sostoken they me of \n",
      "예측 요약 :  love this stuff\n",
      "\n",
      "\n",
      "원문 : drink best thing found thirst workout drink best thing found thirst workout \n",
      "실제 요약 : sostoken fantastic drink \n",
      "예측 요약 :  delicious\n",
      "\n",
      "\n",
      "원문 : fond gluten free pasta tried every brand find \n",
      "실제 요약 : sostoken as good as any \n",
      "예측 요약 :  great pasta\n",
      "\n",
      "\n",
      "원문 : used make homemade pastrami hard find locally online dry curing meats necessary made excellent pastrami many times next try bacon maple kind \n",
      "실제 요약 : sostoken makes great \n",
      "예측 요약 :  good stuff\n",
      "\n",
      "\n",
      "원문 : bought coffee watching jamaican blue mountain coffee thinking would taste exceptional compared regular coffee gift boyfriend christmas brewed drip coffee maker also tried french press neither one us impressed point preferred coffee dunkin donuts original blend much cheaper readily available \n",
      "실제 요약 : sostoken nothing special \n",
      "예측 요약 :  good coffee\n",
      "\n",
      "\n",
      "원문 : searched conditioner yorkshire terriers would smell great also keep feeling soft weeks look product also great save water conditioner un like dog conditioners left worry getting pet wet wash put towel air dry extra softness minutes later love \n",
      "실제 요약 : sostoken great product for my \n",
      "예측 요약 :  dog loves it\n",
      "\n",
      "\n",
      "원문 : arthritis strict anti diet would find difficult without product everybody needs sweetener \n",
      "실제 요약 : sostoken great for anti diets and for diabetics \n",
      "예측 요약 :  not good\n",
      "\n",
      "\n",
      "원문 : dark chocolate person found particular chocolate little bitter side probably good baking however sure would buy regular consumption \n",
      "실제 요약 : sostoken rich but little bitter \n",
      "예측 요약 :  not as good as the original\n",
      "\n",
      "\n",
      "원문 : someone please tell available big bowl best flavor nong shim offers served quick lunch work times count fantastic flavor enough heat could use bowl start \n",
      "실제 요약 : sostoken best ever \n",
      "예측 요약 :  great for cooking\n",
      "\n",
      "\n",
      "원문 : mixture want best baby bought look appetizing baby loved constant food moves next stage love love love brand \n",
      "실제 요약 : sostoken month old loved it \n",
      "예측 요약 :  great for baby\n",
      "\n",
      "\n"
     ]
    }
   ],
   "source": [
    "for i in range(50, 100):\n",
    "    print(\"원문 :\", seq2text(encoder_input_test[i]))\n",
    "    print(\"실제 요약 :\", seq2summary(decoder_input_test[i]))\n",
    "    print(\"예측 요약 :\", decode_sequence(encoder_input_test[i].reshape(1, text_max_len)))\n",
    "    print(\"\\n\")"
   ]
  },
  {
   "cell_type": "markdown",
   "id": "2b0839f1",
   "metadata": {},
   "source": [
    "# 추출적 요약 해보기"
   ]
  },
  {
   "cell_type": "markdown",
   "id": "ea987082",
   "metadata": {},
   "source": [
    "데이터 다운로드"
   ]
  },
  {
   "cell_type": "code",
   "execution_count": 58,
   "id": "a2158430",
   "metadata": {},
   "outputs": [],
   "source": [
    "import requests\n",
    "from summa.summarizer import summarize"
   ]
  },
  {
   "cell_type": "code",
   "execution_count": 59,
   "id": "c4e81c3e",
   "metadata": {},
   "outputs": [],
   "source": [
    "text = requests.get('http://rare-technologies.com/the_matrix_synopsis.txt').text"
   ]
  },
  {
   "cell_type": "code",
   "execution_count": 60,
   "id": "9e8c42c3",
   "metadata": {},
   "outputs": [
    {
     "name": "stdout",
     "output_type": "stream",
     "text": [
      "The screen is filled with green, cascading code which gives way to the title, The Matrix.\r\n",
      "\r\n",
      "A phone rings and text appears on the screen: \"Call trans opt: received. 2-19-98 13:24:18 REC: Log>\" As a conversation takes place between Trinity (Carrie-Anne Moss) and Cypher (Joe Pantoliano), two free humans, a table of random green numbers are being scanned and individual numbers selected, creating a series of digits not unlike an ordinary phone number, as if a code is being deciphered or a call is being traced.\r\n",
      "\r\n",
      "Trinity discusses some unknown person. Cypher taunts Trinity, suggesting she enjoys watching him. Trinity counters that \"Morpheus (Laurence Fishburne) says he may be 'the One',\" just as the sound of a number being selected alerts Trinity that someone may be tracing their call. She ends the call.\r\n",
      "\r\n",
      "Armed policemen move down a darkened, decrepit hallway in the Heart O' the City Hotel, their flashlight beam bouncing just ahead of them. They come to room 303, kick down the door and find a woman dressed in black, facing away from them. It's Trinity. She brings her hands up from the laptop she's working on at their command.\r\n",
      "\r\n",
      "Outside the hotel a car drives up and three agents appear in neatly pressed black suits. They are Agent Smith (Hugo Weaving), Agent Brown (Paul Goddard), and Agent Jones (Robert Taylor). Agent Smith and the presiding police lieutenant argue. Agent Smith admonishes the policeman that they were given specific orders to contact the agents first, for their\n"
     ]
    }
   ],
   "source": [
    "print(text[:1500])"
   ]
  },
  {
   "cell_type": "markdown",
   "id": "9325b7fe",
   "metadata": {},
   "source": [
    "### summary 사용하기"
   ]
  },
  {
   "cell_type": "code",
   "execution_count": 61,
   "id": "bd1b1c83",
   "metadata": {},
   "outputs": [
    {
     "name": "stdout",
     "output_type": "stream",
     "text": [
      "Summary:\n",
      "Morpheus, Trinity, Neo, Apoc, Switch, Mouse and Cypher are jacked into the Matrix.\n",
      "Trinity brings the helicopter down to the floor that Morpheus is on and Neo opens fire on the three Agents.\n"
     ]
    }
   ],
   "source": [
    "print('Summary:')\n",
    "print(summarize(text, ratio=0.005))"
   ]
  },
  {
   "cell_type": "code",
   "execution_count": 62,
   "id": "aab4bfcf",
   "metadata": {},
   "outputs": [
    {
     "name": "stdout",
     "output_type": "stream",
     "text": [
      "Summary:\n",
      "['Morpheus, Trinity, Neo, Apoc, Switch, Mouse and Cypher are jacked into the Matrix.', 'Trinity brings the helicopter down to the floor that Morpheus is on and Neo opens fire on the three Agents.']\n"
     ]
    }
   ],
   "source": [
    "print('Summary:')\n",
    "print(summarize(text, ratio=0.005, split=True))"
   ]
  },
  {
   "cell_type": "code",
   "execution_count": 63,
   "id": "40b06ebb",
   "metadata": {},
   "outputs": [
    {
     "name": "stdout",
     "output_type": "stream",
     "text": [
      "Summary:\n",
      "Trinity takes Neo to Morpheus.\n",
      "Morpheus, Trinity, Neo, Apoc, Switch, Mouse and Cypher are jacked into the Matrix.\n",
      "Trinity brings the helicopter down to the floor that Morpheus is on and Neo opens fire on the three Agents.\n"
     ]
    }
   ],
   "source": [
    "print('Summary:')\n",
    "print(summarize(text, words=50))"
   ]
  },
  {
   "cell_type": "code",
   "execution_count": null,
   "id": "e038e165",
   "metadata": {},
   "outputs": [],
   "source": []
  }
 ],
 "metadata": {
  "kernelspec": {
   "display_name": "Python 3 (ipykernel)",
   "language": "python",
   "name": "python3"
  },
  "language_info": {
   "codemirror_mode": {
    "name": "ipython",
    "version": 3
   },
   "file_extension": ".py",
   "mimetype": "text/x-python",
   "name": "python",
   "nbconvert_exporter": "python",
   "pygments_lexer": "ipython3",
   "version": "3.9.7"
  }
 },
 "nbformat": 4,
 "nbformat_minor": 5
}
