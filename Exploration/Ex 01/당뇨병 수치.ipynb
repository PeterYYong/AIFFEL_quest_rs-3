{
 "cells": [
  {
   "cell_type": "code",
   "execution_count": 2,
   "id": "355e894f",
   "metadata": {},
   "outputs": [],
   "source": [
    "from sklearn.datasets import load_diabetes\n",
    "\n",
    "diabetes = load_diabetes()"
   ]
  },
  {
   "cell_type": "markdown",
   "id": "3739a207",
   "metadata": {},
   "source": [
    "- sklearn.datasets의 load_diabetes에서 데이터를 가져와주세요"
   ]
  },
  {
   "cell_type": "code",
   "execution_count": 3,
   "id": "f364891c",
   "metadata": {},
   "outputs": [],
   "source": [
    "df_X = diabetes.data\n",
    "df_y = diabetes.target"
   ]
  },
  {
   "cell_type": "markdown",
   "id": "be8bac71",
   "metadata": {},
   "source": [
    "- diabetes의 data를 df_X에, target을 df_y에 저장해주세요"
   ]
  },
  {
   "cell_type": "code",
   "execution_count": 5,
   "id": "e54b34af",
   "metadata": {},
   "outputs": [],
   "source": [
    "import numpy as np\n",
    "\n",
    "X = np.array(df_X)\n",
    "y = np.array(df_y)"
   ]
  },
  {
   "cell_type": "markdown",
   "id": "7b70bee5",
   "metadata": {},
   "source": [
    "- df_X에 있는 값들을 numpy array로 변환해서 저장해주세요\n",
    "- df_y에 있는 값들을 numpy array로 변환해서 저장해주세요"
   ]
  },
  {
   "cell_type": "code",
   "execution_count": 6,
   "id": "a7ec9f4e",
   "metadata": {},
   "outputs": [
    {
     "name": "stdout",
     "output_type": "stream",
     "text": [
      "(353, 10) (353,)\n",
      "(89, 10) (89,)\n"
     ]
    }
   ],
   "source": [
    "from sklearn.model_selection import train_test_split\n",
    "\n",
    "X_train, X_test, y_train, y_test = train_test_split(X, y, test_size=0.2, random_state=42)\n",
    "\n",
    "print(X_train.shape, y_train.shape)\n",
    "print(X_test.shape, y_test.shape)"
   ]
  },
  {
   "cell_type": "markdown",
   "id": "eb675dff",
   "metadata": {},
   "source": [
    "- X와 y 데이터를 각각 train 데이터와 test 데이터로 분리해주세요"
   ]
  },
  {
   "cell_type": "code",
   "execution_count": 7,
   "id": "d99ce863",
   "metadata": {},
   "outputs": [
    {
     "name": "stdout",
     "output_type": "stream",
     "text": [
      "완료\n"
     ]
    }
   ],
   "source": [
    "import numpy as np\n",
    "W = np.random.rand(10)\n",
    "b = np.random.rand()\n",
    "print(\"완료\")"
   ]
  },
  {
   "cell_type": "markdown",
   "id": "d5dcc832",
   "metadata": {},
   "source": [
    "- 입력 데이터 개수에 맞는 가중치 W와 b를 준비해주세요"
   ]
  },
  {
   "cell_type": "code",
   "execution_count": 8,
   "id": "b73f14b9",
   "metadata": {},
   "outputs": [
    {
     "data": {
      "text/plain": [
       "array([0.41421296, 0.43277744, 0.51976886, 0.75395389, 0.60613759,\n",
       "       0.17911286, 0.69122357, 0.09792058, 0.65457054, 0.0815213 ])"
      ]
     },
     "execution_count": 8,
     "metadata": {},
     "output_type": "execute_result"
    }
   ],
   "source": [
    "W"
   ]
  },
  {
   "cell_type": "code",
   "execution_count": 9,
   "id": "0e5c89ae",
   "metadata": {},
   "outputs": [
    {
     "data": {
      "text/plain": [
       "0.482339489266459"
      ]
     },
     "execution_count": 9,
     "metadata": {},
     "output_type": "execute_result"
    }
   ],
   "source": [
    "b"
   ]
  },
  {
   "cell_type": "code",
   "execution_count": 10,
   "id": "5ac4255f",
   "metadata": {},
   "outputs": [
    {
     "name": "stdout",
     "output_type": "stream",
     "text": [
      "완료\n"
     ]
    }
   ],
   "source": [
    "def model(X, W, b):\n",
    "    predictions = 0\n",
    "    for i in range(10):\n",
    "        predictions += X[:, i] * W[i]\n",
    "    predictions += b\n",
    "    return predictions\n",
    "print(\"완료\")"
   ]
  },
  {
   "cell_type": "markdown",
   "id": "8b00e353",
   "metadata": {},
   "source": [
    "- 모델 함수를 구현해주세요"
   ]
  },
  {
   "cell_type": "code",
   "execution_count": 11,
   "id": "8a1398ac",
   "metadata": {},
   "outputs": [
    {
     "name": "stdout",
     "output_type": "stream",
     "text": [
      "완료\n"
     ]
    }
   ],
   "source": [
    "def MSE(a, b):\n",
    "    mse = ((a - b) ** 2).mean()\n",
    "    return mse\n",
    "print(\"완료\")"
   ]
  },
  {
   "cell_type": "markdown",
   "id": "a2bb34e7",
   "metadata": {},
   "source": [
    "- 손실함수를 MSE 함수로 정의해주세요"
   ]
  },
  {
   "cell_type": "code",
   "execution_count": 12,
   "id": "5623ebc6",
   "metadata": {},
   "outputs": [
    {
     "name": "stdout",
     "output_type": "stream",
     "text": [
      "완료\n"
     ]
    }
   ],
   "source": [
    "def loss(X, W, b, y):\n",
    "    predictions = model(X, W, b)\n",
    "    L = MSE(predictions, y)\n",
    "    return L\n",
    "print(\"완료\")"
   ]
  },
  {
   "cell_type": "code",
   "execution_count": 13,
   "id": "0e8f3fc2",
   "metadata": {},
   "outputs": [
    {
     "name": "stdout",
     "output_type": "stream",
     "text": [
      "완료\n"
     ]
    }
   ],
   "source": [
    "def gradient(X, W, b, y):\n",
    "    # N은 데이터 포인트의 개수\n",
    "    N = len(y)\n",
    "    \n",
    "    # y_pred 준비\n",
    "    y_pred = model(X, W, b)\n",
    "    \n",
    "    # 공식에 맞게 gradient 계산\n",
    "    dW = 1/N * 2 * X.T.dot(y_pred - y)\n",
    "        \n",
    "    # b의 gradient 계산\n",
    "    db = 2 * (y_pred - y).mean()\n",
    "    return dW, db\n",
    "print(\"완료\")"
   ]
  },
  {
   "cell_type": "code",
   "execution_count": 14,
   "id": "83580925",
   "metadata": {},
   "outputs": [
    {
     "name": "stdout",
     "output_type": "stream",
     "text": [
      "dW: [-1.37094045 -0.31244599 -4.29046909 -3.227003   -1.54569863 -1.26910813\n",
      "  2.89120536 -3.14829316 -4.13839904 -2.79649116]\n",
      "db: -303.302289347259\n"
     ]
    }
   ],
   "source": [
    "dW, db = gradient(X, W, b, y)\n",
    "print(\"dW:\", dW)\n",
    "print(\"db:\", db)"
   ]
  },
  {
   "cell_type": "code",
   "execution_count": 32,
   "id": "c6542ac5",
   "metadata": {},
   "outputs": [],
   "source": [
    "LEARNING_RATE = 0.1"
   ]
  },
  {
   "cell_type": "markdown",
   "id": "378455e2",
   "metadata": {},
   "source": [
    "- 학습률, learning rate 를 설정해주세요\n",
    "- 만약 학습이 잘 되지 않는다면 learning rate 값을 한번 여러 가지로 설정하며 실험해 보세요"
   ]
  },
  {
   "cell_type": "markdown",
   "id": "1b333ef5",
   "metadata": {},
   "source": [
    "- 0.0001일 때는 loss가 13777.15이 나온다\n",
    "- 0.001일 때는 loss가 5230.58이 나온다\n",
    "- 0.01일 때는 loss가 4644.99가 나온다\n",
    "- 0.1일 때는 loss가 3049.28이 나온다  \n",
    "\n",
    "\n",
    "- 0.1, iteration이 2000일때 2868.88이 나온다\n",
    "- 0.1, iteration이 3000일때 2871.02이 나온다\n",
    "- 0.1, iteration이 4000일때 2880.38이 나온다"
   ]
  },
  {
   "cell_type": "code",
   "execution_count": 49,
   "id": "a9071805",
   "metadata": {},
   "outputs": [
    {
     "name": "stdout",
     "output_type": "stream",
     "text": [
      "Iteration 10 : Loss 2897.9487\n",
      "Iteration 20 : Loss 2897.9429\n",
      "Iteration 30 : Loss 2897.9371\n",
      "Iteration 40 : Loss 2897.9313\n",
      "Iteration 50 : Loss 2897.9255\n",
      "Iteration 60 : Loss 2897.9198\n",
      "Iteration 70 : Loss 2897.9141\n",
      "Iteration 80 : Loss 2897.9084\n",
      "Iteration 90 : Loss 2897.9027\n",
      "Iteration 100 : Loss 2897.8970\n",
      "Iteration 110 : Loss 2897.8914\n",
      "Iteration 120 : Loss 2897.8858\n",
      "Iteration 130 : Loss 2897.8802\n",
      "Iteration 140 : Loss 2897.8746\n",
      "Iteration 150 : Loss 2897.8690\n",
      "Iteration 160 : Loss 2897.8635\n",
      "Iteration 170 : Loss 2897.8579\n",
      "Iteration 180 : Loss 2897.8524\n",
      "Iteration 190 : Loss 2897.8469\n",
      "Iteration 200 : Loss 2897.8415\n",
      "Iteration 210 : Loss 2897.8360\n",
      "Iteration 220 : Loss 2897.8306\n",
      "Iteration 230 : Loss 2897.8252\n",
      "Iteration 240 : Loss 2897.8198\n",
      "Iteration 250 : Loss 2897.8144\n",
      "Iteration 260 : Loss 2897.8090\n",
      "Iteration 270 : Loss 2897.8037\n",
      "Iteration 280 : Loss 2897.7984\n",
      "Iteration 290 : Loss 2897.7930\n",
      "Iteration 300 : Loss 2897.7878\n",
      "Iteration 310 : Loss 2897.7825\n",
      "Iteration 320 : Loss 2897.7772\n",
      "Iteration 330 : Loss 2897.7720\n",
      "Iteration 340 : Loss 2897.7667\n",
      "Iteration 350 : Loss 2897.7615\n",
      "Iteration 360 : Loss 2897.7563\n",
      "Iteration 370 : Loss 2897.7512\n",
      "Iteration 380 : Loss 2897.7460\n",
      "Iteration 390 : Loss 2897.7409\n",
      "Iteration 400 : Loss 2897.7357\n",
      "Iteration 410 : Loss 2897.7306\n",
      "Iteration 420 : Loss 2897.7255\n",
      "Iteration 430 : Loss 2897.7205\n",
      "Iteration 440 : Loss 2897.7154\n",
      "Iteration 450 : Loss 2897.7104\n",
      "Iteration 460 : Loss 2897.7053\n",
      "Iteration 470 : Loss 2897.7003\n",
      "Iteration 480 : Loss 2897.6953\n",
      "Iteration 490 : Loss 2897.6903\n",
      "Iteration 500 : Loss 2897.6854\n",
      "Iteration 510 : Loss 2897.6804\n",
      "Iteration 520 : Loss 2897.6755\n",
      "Iteration 530 : Loss 2897.6705\n",
      "Iteration 540 : Loss 2897.6656\n",
      "Iteration 550 : Loss 2897.6607\n",
      "Iteration 560 : Loss 2897.6559\n",
      "Iteration 570 : Loss 2897.6510\n",
      "Iteration 580 : Loss 2897.6461\n",
      "Iteration 590 : Loss 2897.6413\n",
      "Iteration 600 : Loss 2897.6365\n",
      "Iteration 610 : Loss 2897.6317\n",
      "Iteration 620 : Loss 2897.6269\n",
      "Iteration 630 : Loss 2897.6221\n",
      "Iteration 640 : Loss 2897.6173\n",
      "Iteration 650 : Loss 2897.6126\n",
      "Iteration 660 : Loss 2897.6078\n",
      "Iteration 670 : Loss 2897.6031\n",
      "Iteration 680 : Loss 2897.5984\n",
      "Iteration 690 : Loss 2897.5937\n",
      "Iteration 700 : Loss 2897.5890\n",
      "Iteration 710 : Loss 2897.5844\n",
      "Iteration 720 : Loss 2897.5797\n",
      "Iteration 730 : Loss 2897.5751\n",
      "Iteration 740 : Loss 2897.5704\n",
      "Iteration 750 : Loss 2897.5658\n",
      "Iteration 760 : Loss 2897.5612\n",
      "Iteration 770 : Loss 2897.5566\n",
      "Iteration 780 : Loss 2897.5521\n",
      "Iteration 790 : Loss 2897.5475\n",
      "Iteration 800 : Loss 2897.5429\n",
      "Iteration 810 : Loss 2897.5384\n",
      "Iteration 820 : Loss 2897.5339\n",
      "Iteration 830 : Loss 2897.5294\n",
      "Iteration 840 : Loss 2897.5249\n",
      "Iteration 850 : Loss 2897.5204\n",
      "Iteration 860 : Loss 2897.5159\n",
      "Iteration 870 : Loss 2897.5114\n",
      "Iteration 880 : Loss 2897.5070\n",
      "Iteration 890 : Loss 2897.5025\n",
      "Iteration 900 : Loss 2897.4981\n",
      "Iteration 910 : Loss 2897.4937\n",
      "Iteration 920 : Loss 2897.4893\n",
      "Iteration 930 : Loss 2897.4849\n",
      "Iteration 940 : Loss 2897.4805\n",
      "Iteration 950 : Loss 2897.4761\n",
      "Iteration 960 : Loss 2897.4718\n",
      "Iteration 970 : Loss 2897.4674\n",
      "Iteration 980 : Loss 2897.4631\n",
      "Iteration 990 : Loss 2897.4588\n",
      "Iteration 1000 : Loss 2897.4544\n",
      "Iteration 1010 : Loss 2897.4501\n",
      "Iteration 1020 : Loss 2897.4459\n",
      "Iteration 1030 : Loss 2897.4416\n",
      "Iteration 1040 : Loss 2897.4373\n",
      "Iteration 1050 : Loss 2897.4330\n",
      "Iteration 1060 : Loss 2897.4288\n",
      "Iteration 1070 : Loss 2897.4246\n",
      "Iteration 1080 : Loss 2897.4203\n",
      "Iteration 1090 : Loss 2897.4161\n",
      "Iteration 1100 : Loss 2897.4119\n",
      "Iteration 1110 : Loss 2897.4077\n",
      "Iteration 1120 : Loss 2897.4035\n",
      "Iteration 1130 : Loss 2897.3994\n",
      "Iteration 1140 : Loss 2897.3952\n",
      "Iteration 1150 : Loss 2897.3911\n",
      "Iteration 1160 : Loss 2897.3869\n",
      "Iteration 1170 : Loss 2897.3828\n",
      "Iteration 1180 : Loss 2897.3787\n",
      "Iteration 1190 : Loss 2897.3745\n",
      "Iteration 1200 : Loss 2897.3704\n",
      "Iteration 1210 : Loss 2897.3664\n",
      "Iteration 1220 : Loss 2897.3623\n",
      "Iteration 1230 : Loss 2897.3582\n",
      "Iteration 1240 : Loss 2897.3541\n",
      "Iteration 1250 : Loss 2897.3501\n",
      "Iteration 1260 : Loss 2897.3460\n",
      "Iteration 1270 : Loss 2897.3420\n",
      "Iteration 1280 : Loss 2897.3380\n",
      "Iteration 1290 : Loss 2897.3340\n",
      "Iteration 1300 : Loss 2897.3300\n",
      "Iteration 1310 : Loss 2897.3260\n",
      "Iteration 1320 : Loss 2897.3220\n",
      "Iteration 1330 : Loss 2897.3180\n",
      "Iteration 1340 : Loss 2897.3140\n",
      "Iteration 1350 : Loss 2897.3101\n",
      "Iteration 1360 : Loss 2897.3061\n",
      "Iteration 1370 : Loss 2897.3022\n",
      "Iteration 1380 : Loss 2897.2983\n",
      "Iteration 1390 : Loss 2897.2943\n",
      "Iteration 1400 : Loss 2897.2904\n",
      "Iteration 1410 : Loss 2897.2865\n",
      "Iteration 1420 : Loss 2897.2826\n",
      "Iteration 1430 : Loss 2897.2787\n",
      "Iteration 1440 : Loss 2897.2749\n",
      "Iteration 1450 : Loss 2897.2710\n",
      "Iteration 1460 : Loss 2897.2671\n",
      "Iteration 1470 : Loss 2897.2633\n",
      "Iteration 1480 : Loss 2897.2594\n",
      "Iteration 1490 : Loss 2897.2556\n",
      "Iteration 1500 : Loss 2897.2518\n",
      "Iteration 1510 : Loss 2897.2479\n",
      "Iteration 1520 : Loss 2897.2441\n",
      "Iteration 1530 : Loss 2897.2403\n",
      "Iteration 1540 : Loss 2897.2365\n",
      "Iteration 1550 : Loss 2897.2327\n",
      "Iteration 1560 : Loss 2897.2290\n",
      "Iteration 1570 : Loss 2897.2252\n",
      "Iteration 1580 : Loss 2897.2214\n",
      "Iteration 1590 : Loss 2897.2177\n",
      "Iteration 1600 : Loss 2897.2139\n",
      "Iteration 1610 : Loss 2897.2102\n",
      "Iteration 1620 : Loss 2897.2065\n",
      "Iteration 1630 : Loss 2897.2027\n",
      "Iteration 1640 : Loss 2897.1990\n",
      "Iteration 1650 : Loss 2897.1953\n",
      "Iteration 1660 : Loss 2897.1916\n",
      "Iteration 1670 : Loss 2897.1879\n",
      "Iteration 1680 : Loss 2897.1842\n",
      "Iteration 1690 : Loss 2897.1806\n",
      "Iteration 1700 : Loss 2897.1769\n",
      "Iteration 1710 : Loss 2897.1732\n",
      "Iteration 1720 : Loss 2897.1696\n",
      "Iteration 1730 : Loss 2897.1659\n",
      "Iteration 1740 : Loss 2897.1623\n",
      "Iteration 1750 : Loss 2897.1587\n",
      "Iteration 1760 : Loss 2897.1550\n",
      "Iteration 1770 : Loss 2897.1514\n",
      "Iteration 1780 : Loss 2897.1478\n",
      "Iteration 1790 : Loss 2897.1442\n",
      "Iteration 1800 : Loss 2897.1406\n",
      "Iteration 1810 : Loss 2897.1370\n",
      "Iteration 1820 : Loss 2897.1334\n",
      "Iteration 1830 : Loss 2897.1298\n",
      "Iteration 1840 : Loss 2897.1263\n",
      "Iteration 1850 : Loss 2897.1227\n",
      "Iteration 1860 : Loss 2897.1192\n",
      "Iteration 1870 : Loss 2897.1156\n",
      "Iteration 1880 : Loss 2897.1121\n",
      "Iteration 1890 : Loss 2897.1085\n",
      "Iteration 1900 : Loss 2897.1050\n",
      "Iteration 1910 : Loss 2897.1015\n",
      "Iteration 1920 : Loss 2897.0980\n",
      "Iteration 1930 : Loss 2897.0944\n",
      "Iteration 1940 : Loss 2897.0909\n",
      "Iteration 1950 : Loss 2897.0874\n",
      "Iteration 1960 : Loss 2897.0840\n",
      "Iteration 1970 : Loss 2897.0805\n",
      "Iteration 1980 : Loss 2897.0770\n",
      "Iteration 1990 : Loss 2897.0735\n",
      "Iteration 2000 : Loss 2897.0701\n"
     ]
    }
   ],
   "source": [
    "losses = []\n",
    "\n",
    "for i in range(1, 2001):\n",
    "    dW, db = gradient(X_train, W, b, y_train)\n",
    "    W -= LEARNING_RATE * dW\n",
    "    b -= LEARNING_RATE * db\n",
    "    L = loss(X_train, W, b, y_train)\n",
    "    losses.append(L)\n",
    "    if i % 10 == 0:\n",
    "        print('Iteration %d : Loss %0.4f' % (i, L))"
   ]
  },
  {
   "cell_type": "markdown",
   "id": "44613556",
   "metadata": {},
   "source": [
    "- 정의된 손실함수와 기울기 함수로 모델을 학습해주세요\n",
    "- loss값이 충분히 떨어질 때까지 학습을 진행해주세요\n",
    "- 입력하는 데이터인 X에 들어가는 특성 컬럼들을 몇 개 빼도 괜찮습니다. 다양한 데이터로 실험해 보세요"
   ]
  },
  {
   "cell_type": "code",
   "execution_count": 50,
   "id": "fd585a99",
   "metadata": {},
   "outputs": [
    {
     "data": {
      "image/png": "[encoded data removed]",
      "text/plain": [
       "<Figure size 432x288 with 1 Axes>"
      ]
     },
     "metadata": {
      "needs_background": "light"
     },
     "output_type": "display_data"
    }
   ],
   "source": [
    "import matplotlib.pyplot as plt\n",
    "plt.plot(losses)\n",
    "plt.show()"
   ]
  },
  {
   "cell_type": "code",
   "execution_count": 51,
   "id": "47a79f9e",
   "metadata": {},
   "outputs": [
    {
     "data": {
      "text/plain": [
       "(array([  40.65555485, -239.07750451,  554.11343143,  341.5415508 ,\n",
       "        -105.41925195, -123.48173227, -212.90668952,  151.05642512,\n",
       "         417.21832785,   64.59580592]),\n",
       " 151.30231014596035)"
      ]
     },
     "execution_count": 51,
     "metadata": {},
     "output_type": "execute_result"
    }
   ],
   "source": [
    "W, b"
   ]
  },
  {
   "cell_type": "code",
   "execution_count": 52,
   "id": "bf23d523",
   "metadata": {},
   "outputs": [
    {
     "data": {
      "text/plain": [
       "2882.435944183819"
      ]
     },
     "execution_count": 52,
     "metadata": {},
     "output_type": "execute_result"
    }
   ],
   "source": [
    "prediction = model(X_test, W, b)\n",
    "mse = loss(X_test, W, b, y_test)\n",
    "mse"
   ]
  },
  {
   "cell_type": "markdown",
   "id": "bc6cefb9",
   "metadata": {},
   "source": [
    "- test 데이터에 대한 성능을 확인해주세요"
   ]
  },
  {
   "cell_type": "code",
   "execution_count": 53,
   "id": "8dddaf78",
   "metadata": {},
   "outputs": [
    {
     "data": {
      "image/png": "[encoded data removed]",
      "text/plain": [
       "<Figure size 432x288 with 1 Axes>"
      ]
     },
     "metadata": {
      "needs_background": "light"
     },
     "output_type": "display_data"
    }
   ],
   "source": [
    "plt.scatter(X_test[:, 0], y_test)\n",
    "plt.scatter(X_test[:, 0], prediction)\n",
    "plt.show()"
   ]
  },
  {
   "cell_type": "markdown",
   "id": "6c322869",
   "metadata": {},
   "source": [
    "- x축에는 X 데이터의 첫 번째 컬럼을, y축에는 정답인 target 데이터를 넣어서 모델이 예측한 데이터를 시각화해 주세요"
   ]
  },
  {
   "cell_type": "code",
   "execution_count": null,
   "id": "72554155",
   "metadata": {},
   "outputs": [],
   "source": []
  }
 ],
 "metadata": {
  "kernelspec": {
   "display_name": "Python 3 (ipykernel)",
   "language": "python",
   "name": "python3"
  },
  "language_info": {
   "codemirror_mode": {
    "name": "ipython",
    "version": 3
   },
   "file_extension": ".py",
   "mimetype": "text/x-python",
   "name": "python",
   "nbconvert_exporter": "python",
   "pygments_lexer": "ipython3",
   "version": "3.9.7"
  }
 },
 "nbformat": 4,
 "nbformat_minor": 5
}
