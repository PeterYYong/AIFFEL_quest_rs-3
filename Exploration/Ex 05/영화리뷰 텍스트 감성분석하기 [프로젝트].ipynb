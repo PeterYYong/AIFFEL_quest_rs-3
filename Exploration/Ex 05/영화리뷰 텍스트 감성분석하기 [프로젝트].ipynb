{
 "cells": [
  {
   "cell_type": "markdown",
   "id": "331d2467",
   "metadata": {},
   "source": [
    "## 버전 확인"
   ]
  },
  {
   "cell_type": "code",
   "execution_count": 1,
   "id": "2cd1e0eb",
   "metadata": {},
   "outputs": [
    {
     "name": "stdout",
     "output_type": "stream",
     "text": [
      "1.3.3\n",
      "0.5.2\n",
      "4.1.2\n"
     ]
    }
   ],
   "source": [
    "import pandas\n",
    "import konlpy\n",
    "import gensim\n",
    "\n",
    "print(pandas.__version__)\n",
    "print(konlpy.__version__)\n",
    "print(gensim.__version__)"
   ]
  },
  {
   "cell_type": "markdown",
   "id": "14224f0c",
   "metadata": {},
   "source": [
    "## 데이터 준비 및 확인"
   ]
  },
  {
   "cell_type": "code",
   "execution_count": 2,
   "id": "aa02cbbb",
   "metadata": {},
   "outputs": [
    {
     "name": "stdout",
     "output_type": "stream",
     "text": [
      "train :  (150000, 3)\n",
      "test :  (50000, 3)\n"
     ]
    },
    {
     "data": {
      "text/html": [
       "<div>\n",
       "<style scoped>\n",
       "    .dataframe tbody tr th:only-of-type {\n",
       "        vertical-align: middle;\n",
       "    }\n",
       "\n",
       "    .dataframe tbody tr th {\n",
       "        vertical-align: top;\n",
       "    }\n",
       "\n",
       "    .dataframe thead th {\n",
       "        text-align: right;\n",
       "    }\n",
       "</style>\n",
       "<table border=\"1\" class=\"dataframe\">\n",
       "  <thead>\n",
       "    <tr style=\"text-align: right;\">\n",
       "      <th></th>\n",
       "      <th>id</th>\n",
       "      <th>document</th>\n",
       "      <th>label</th>\n",
       "    </tr>\n",
       "  </thead>\n",
       "  <tbody>\n",
       "    <tr>\n",
       "      <th>0</th>\n",
       "      <td>9976970</td>\n",
       "      <td>아 더빙.. 진짜 짜증나네요 목소리</td>\n",
       "      <td>0</td>\n",
       "    </tr>\n",
       "    <tr>\n",
       "      <th>1</th>\n",
       "      <td>3819312</td>\n",
       "      <td>흠...포스터보고 초딩영화줄....오버연기조차 가볍지 않구나</td>\n",
       "      <td>1</td>\n",
       "    </tr>\n",
       "    <tr>\n",
       "      <th>2</th>\n",
       "      <td>10265843</td>\n",
       "      <td>너무재밓었다그래서보는것을추천한다</td>\n",
       "      <td>0</td>\n",
       "    </tr>\n",
       "    <tr>\n",
       "      <th>3</th>\n",
       "      <td>9045019</td>\n",
       "      <td>교도소 이야기구먼 ..솔직히 재미는 없다..평점 조정</td>\n",
       "      <td>0</td>\n",
       "    </tr>\n",
       "    <tr>\n",
       "      <th>4</th>\n",
       "      <td>6483659</td>\n",
       "      <td>사이몬페그의 익살스런 연기가 돋보였던 영화!스파이더맨에서 늙어보이기만 했던 커스틴 ...</td>\n",
       "      <td>1</td>\n",
       "    </tr>\n",
       "  </tbody>\n",
       "</table>\n",
       "</div>"
      ],
      "text/plain": [
       "         id                                           document  label\n",
       "0   9976970                                아 더빙.. 진짜 짜증나네요 목소리      0\n",
       "1   3819312                  흠...포스터보고 초딩영화줄....오버연기조차 가볍지 않구나      1\n",
       "2  10265843                                  너무재밓었다그래서보는것을추천한다      0\n",
       "3   9045019                      교도소 이야기구먼 ..솔직히 재미는 없다..평점 조정      0\n",
       "4   6483659  사이몬페그의 익살스런 연기가 돋보였던 영화!스파이더맨에서 늙어보이기만 했던 커스틴 ...      1"
      ]
     },
     "execution_count": 2,
     "metadata": {},
     "output_type": "execute_result"
    }
   ],
   "source": [
    "import pandas as pd\n",
    "\n",
    "# 데이터를 읽어오기\n",
    "train_data = pd.read_table('~/aiffel/sentiment_classification/data/ratings_train.txt')\n",
    "test_data = pd.read_table('~/aiffel/sentiment_classification/data/ratings_test.txt')\n",
    "\n",
    "print(\"train : \", train_data.shape)\n",
    "print(\"test : \", test_data.shape)\n",
    "\n",
    "train_data.head()"
   ]
  },
  {
   "cell_type": "markdown",
   "id": "8159f78c",
   "metadata": {},
   "source": [
    "## 데이터로더 구성\n",
    "- 중복 제거\n",
    "- 결측값 제거\n",
    "- 토큰화\n",
    "- 불용어 제거\n",
    "- 사전 word_to_index 구성"
   ]
  },
  {
   "cell_type": "code",
   "execution_count": 3,
   "id": "8cdcf333",
   "metadata": {},
   "outputs": [],
   "source": [
    "from konlpy.tag import Mecab\n",
    "import numpy as np\n",
    "from collections import Counter\n",
    "\n",
    "tokenizer = Mecab()\n",
    "stopwords = ['의','가','이','은','들','는','좀','잘','걍','과','도','를','으로','자','에','와','한','하다']\n",
    "\n",
    "def load_data(train_data, test_data, num_words=10000):\n",
    "    \n",
    "    # 중복 제거, 결측값 제거\n",
    "    train_data.drop_duplicates(subset=['document'], inplace=True)\n",
    "    train_data = train_data.dropna(how = 'any') \n",
    "    test_data.drop_duplicates(subset=['document'], inplace=True)\n",
    "    test_data = test_data.dropna(how = 'any')\n",
    "    \n",
    "    # 토큰화, 불용어 제거\n",
    "    x_train = []\n",
    "    for sentence in train_data['document']:\n",
    "        temp_x = tokenizer.morphs(sentence) # 토큰화\n",
    "        temp_x = [word for word in temp_x if not word in stopwords] # 불용어 제거\n",
    "        x_train.append(temp_x)\n",
    "        \n",
    "    x_test = []\n",
    "    for sentence in test_data['document']:\n",
    "        temp_x = tokenizer.morphs(sentence) # 토큰화\n",
    "        temp_x = [word for word in temp_x if not word in stopwords] # 불용어 제거\n",
    "        x_test.append(temp_x)\n",
    "    \n",
    "    # word_to_index 구성\n",
    "    words = np.concatenate(x_train).tolist()\n",
    "    counter = Counter(words)\n",
    "    counter = counter.most_common(num_words-4)\n",
    "    \n",
    "    ## <PAD>, <BOS>, <UNK>, <UNUSED>를 위한 인덱스 \n",
    "    vocab = ['<PAD>', '<BOS>', '<UNK>', '<UNUSED>'] + [key for key, _ in counter]\n",
    "    word_to_index = {word:index for index, word in enumerate(vocab)}\n",
    "    \n",
    "    def wordlist_to_indexlist(wordlist):\n",
    "        return [word_to_index[word] if word in word_to_index else word_to_index['<UNK>'] for word in wordlist]\n",
    "    x_train = list(map(wordlist_to_indexlist, x_train))\n",
    "    x_test = list(map(wordlist_to_indexlist, x_test))\n",
    "    \n",
    "    return x_train, np.array(list(train_data['label'])), x_test, np.array(list(test_data['label'])), word_to_index\n",
    "    \n",
    "x_train, y_train, x_test, y_test, word_to_index = load_data(train_data, test_data)"
   ]
  },
  {
   "cell_type": "code",
   "execution_count": 4,
   "id": "cec8ead8",
   "metadata": {},
   "outputs": [
    {
     "name": "stdout",
     "output_type": "stream",
     "text": [
      "x train :  146182\n",
      "x test  :  49157\n"
     ]
    }
   ],
   "source": [
    "print(\"x train : \", len(x_train))\n",
    "print(\"x test  : \", len(x_test))"
   ]
  },
  {
   "cell_type": "code",
   "execution_count": 5,
   "id": "6cb72c94",
   "metadata": {},
   "outputs": [
    {
     "data": {
      "text/plain": [
       "10000"
      ]
     },
     "execution_count": 5,
     "metadata": {},
     "output_type": "execute_result"
    }
   ],
   "source": [
    "index_to_word = {index:word for word, index in word_to_index.items()}\n",
    "len(word_to_index)"
   ]
  },
  {
   "cell_type": "code",
   "execution_count": 6,
   "id": "81b20107",
   "metadata": {},
   "outputs": [
    {
     "data": {
      "text/plain": [
       "[32, 74, 919, 4, 4, 39, 228, 20, 33, 748]"
      ]
     },
     "execution_count": 6,
     "metadata": {},
     "output_type": "execute_result"
    }
   ],
   "source": [
    "x_train[0]"
   ]
  },
  {
   "cell_type": "code",
   "execution_count": 7,
   "id": "79018dcf",
   "metadata": {},
   "outputs": [],
   "source": [
    "# 문장 1개를 활용할 딕셔너리와 함께 주면, 단어 인덱스 리스트 벡터로 변환해 주는 함수\n",
    "# 단, 모든 문장은 <BOS>로 시작하는 것으로 한다\n",
    "def get_encoded_sentence(sentence, word_to_index):\n",
    "    return [word_to_index['<BOS>']]+[word_to_index[word] if word in word_to_index else word_to_index['<UNK>'] for word in sentence.split()]\n",
    "\n",
    "# 여러 개의 문장 리스트를 한꺼번에 단어 인덱스 리스트 벡터로 encode해 주는 함수 \n",
    "def get_encoded_sentences(sentences, word_to_index):\n",
    "    return [get_encoded_sentence(sentence, word_to_index) for sentence in sentences]\n",
    "\n",
    "# 숫자 벡터로 encode된 문장을 원래대로 decode하는 함수\n",
    "def get_decoded_sentence(encoded_sentence, index_to_word):\n",
    "    return ' '.join(index_to_word[index] if index in index_to_word else '<UNK>' for index in encoded_sentence[1:])  #[1:]를 통해 <BOS>를 제외\n",
    "\n",
    "# 여러 개의 숫자 벡터로 encode된 문장을 한꺼번에 원래대로 decode하는 함수\n",
    "def get_decoded_sentences(encoded_sentences, index_to_word):\n",
    "    return [get_decoded_sentence(encoded_sentence, index_to_word) for encoded_sentence in encoded_sentences]"
   ]
  },
  {
   "cell_type": "markdown",
   "id": "13ea0b3f",
   "metadata": {},
   "source": [
    "## 모델 구성을 위한 데이터 분석 및 가공"
   ]
  },
  {
   "cell_type": "markdown",
   "id": "d39be017",
   "metadata": {},
   "source": [
    "- 데이터셋 내 문장 길이 분포\n",
    "- 적절한 최대 문장 길이 지정"
   ]
  },
  {
   "cell_type": "code",
   "execution_count": 8,
   "id": "7c1b6da0",
   "metadata": {},
   "outputs": [
    {
     "name": "stdout",
     "output_type": "stream",
     "text": [
      "문장길이 평균 :  15.96940191154864\n",
      "문장길이 최대 :  116\n",
      "문장길이 표준편차 :  12.843571191092\n",
      "pad_sequences maxlen :  41\n",
      "전체 문장의 0.9342988343341575%가 maxlen 설정값 이내에 포함됩니다. \n"
     ]
    }
   ],
   "source": [
    "total_data_text = list(x_train) + list(x_test)\n",
    "\n",
    "# 텍스트데이터 문장길이의 리스트를 생성한 후\n",
    "num_tokens = [len(tokens) for tokens in total_data_text]\n",
    "num_tokens = np.array(num_tokens)\n",
    "\n",
    "# 문장길이의 평균값, 최대값, 표준편차를 계산한다\n",
    "print('문장길이 평균 : ', np.mean(num_tokens))\n",
    "print('문장길이 최대 : ', np.max(num_tokens))\n",
    "print('문장길이 표준편차 : ', np.std(num_tokens))\n",
    "\n",
    "# 예를들어, 최대 길이를 (평균 + 2*표준편차)로 한다면,  \n",
    "max_tokens = np.mean(num_tokens) + 2 * np.std(num_tokens)\n",
    "maxlen = int(max_tokens)\n",
    "print('pad_sequences maxlen : ', maxlen)\n",
    "print(f'전체 문장의 {np.sum(num_tokens < max_tokens) / len(num_tokens)}%가 maxlen 설정값 이내에 포함됩니다. ')"
   ]
  },
  {
   "cell_type": "markdown",
   "id": "af65dd22",
   "metadata": {},
   "source": [
    "- keras.preprocessing.sequence.pad_sequences를 활용한 패딩 추가"
   ]
  },
  {
   "cell_type": "code",
   "execution_count": 9,
   "id": "ce5c28f5",
   "metadata": {},
   "outputs": [
    {
     "name": "stdout",
     "output_type": "stream",
     "text": [
      "(146182, 41)\n"
     ]
    }
   ],
   "source": [
    "import tensorflow as tf\n",
    "import keras\n",
    "\n",
    "# 앞쪽(pre)에서 했을 때이다\n",
    "x_train = tf.keras.preprocessing.sequence.pad_sequences(\n",
    "    x_train, \n",
    "    value=word_to_index[\"<PAD>\"], \n",
    "    padding='pre', \n",
    "    maxlen=maxlen)\n",
    "\n",
    "x_test = tf.keras.preprocessing.sequence.pad_sequences(\n",
    "    x_test, \n",
    "    value=word_to_index[\"<PAD>\"], \n",
    "    padding='pre', \n",
    "    maxlen=maxlen)\n",
    "\n",
    "print(x_train.shape)"
   ]
  },
  {
   "cell_type": "code",
   "execution_count": 10,
   "id": "6841c3b9",
   "metadata": {},
   "outputs": [
    {
     "name": "stdout",
     "output_type": "stream",
     "text": [
      "1번째 리뷰 문장 길이 :  41\n",
      "2번째 리뷰 문장 길이 :  41\n"
     ]
    }
   ],
   "source": [
    "print('1번째 리뷰 문장 길이 : ', len(x_train[0]))\n",
    "print('2번째 리뷰 문장 길이 : ', len(x_train[1]))"
   ]
  },
  {
   "cell_type": "markdown",
   "id": "bd4e4de4",
   "metadata": {},
   "source": [
    "## 모델 구성 및 validation set 구성"
   ]
  },
  {
   "cell_type": "code",
   "execution_count": 11,
   "id": "a8afef39",
   "metadata": {},
   "outputs": [
    {
     "name": "stdout",
     "output_type": "stream",
     "text": [
      "(136182, 41)\n",
      "(136182,)\n"
     ]
    }
   ],
   "source": [
    "# validation set 10000건 분리\n",
    "x_val = x_train[:10000]   \n",
    "y_val = y_train[:10000]\n",
    "\n",
    "# validation set을 제외한 나머지 15000건\n",
    "partial_x_train = x_train[10000:]  \n",
    "partial_y_train = y_train[10000:]\n",
    "\n",
    "print(partial_x_train.shape)\n",
    "print(partial_y_train.shape)"
   ]
  },
  {
   "cell_type": "code",
   "execution_count": 12,
   "id": "2c116cb1",
   "metadata": {},
   "outputs": [],
   "source": [
    "vocab_size = 10000    # 어휘 사전 크기(10,000개의 단어)\n",
    "word_vector_dim = 16  # 워드 벡터의 차원 수 (변경 가능한 하이퍼파라미터)"
   ]
  },
  {
   "cell_type": "code",
   "execution_count": 13,
   "id": "eb7e4bb0",
   "metadata": {},
   "outputs": [],
   "source": [
    "# model1 : LSTM(16), Dense(8)\n",
    "inputs = keras.Input(shape=(41, ))\n",
    "x = keras.layers.Embedding(vocab_size, word_vector_dim, input_shape=(None,))(inputs)\n",
    "x = keras.layers.LSTM(16)(x)\n",
    "x = keras.layers.Dense(8, activation=\"relu\")(x)\n",
    "outputs = keras.layers.Dense(1, activation=\"sigmoid\")(x)\n",
    "model1 = keras.Model(inputs, outputs)\n",
    "\n",
    "# model2 : Conv(16)x2, Dense(8)\n",
    "inputs = keras.Input(shape=(41, ))\n",
    "x = keras.layers.Embedding(vocab_size, word_vector_dim, input_shape=(None,))(inputs)\n",
    "x = keras.layers.Conv1D(16, 7, activation='relu')(x)\n",
    "x = keras.layers.MaxPooling1D(5)(x)\n",
    "x = keras.layers.Conv1D(16, 7, activation='relu')(x)\n",
    "x = keras.layers.GlobalMaxPooling1D()(x)\n",
    "x = keras.layers.Dense(8, activation=\"relu\")(x)\n",
    "outputs = keras.layers.Dense(1, activation=\"sigmoid\")(x)\n",
    "model2 = keras.Model(inputs, outputs)\n",
    "\n",
    "# model3 : GRU(16), Dense(8)\n",
    "inputs = keras.Input(shape=(41, ))\n",
    "x = keras.layers.Embedding(vocab_size, word_vector_dim, input_shape=(None,))(inputs)\n",
    "x = keras.layers.GRU(16)(x)\n",
    "x = keras.layers.Dense(8, activation=\"relu\")(x)\n",
    "outputs = keras.layers.Dense(1, activation=\"sigmoid\")(x)\n",
    "model3 = keras.Model(inputs, outputs)"
   ]
  },
  {
   "cell_type": "code",
   "execution_count": 14,
   "id": "22756549",
   "metadata": {},
   "outputs": [
    {
     "name": "stdout",
     "output_type": "stream",
     "text": [
      "Model: \"model\"\n",
      "_________________________________________________________________\n",
      "Layer (type)                 Output Shape              Param #   \n",
      "=================================================================\n",
      "input_1 (InputLayer)         [(None, 41)]              0         \n",
      "_________________________________________________________________\n",
      "embedding (Embedding)        (None, 41, 16)            160000    \n",
      "_________________________________________________________________\n",
      "lstm (LSTM)                  (None, 16)                2112      \n",
      "_________________________________________________________________\n",
      "dense (Dense)                (None, 8)                 136       \n",
      "_________________________________________________________________\n",
      "dense_1 (Dense)              (None, 1)                 9         \n",
      "=================================================================\n",
      "Total params: 162,257\n",
      "Trainable params: 162,257\n",
      "Non-trainable params: 0\n",
      "_________________________________________________________________\n"
     ]
    }
   ],
   "source": [
    "model1.summary()"
   ]
  },
  {
   "cell_type": "code",
   "execution_count": 15,
   "id": "8b4b1a6a",
   "metadata": {},
   "outputs": [
    {
     "name": "stdout",
     "output_type": "stream",
     "text": [
      "Model: \"model_1\"\n",
      "_________________________________________________________________\n",
      "Layer (type)                 Output Shape              Param #   \n",
      "=================================================================\n",
      "input_2 (InputLayer)         [(None, 41)]              0         \n",
      "_________________________________________________________________\n",
      "embedding_1 (Embedding)      (None, 41, 16)            160000    \n",
      "_________________________________________________________________\n",
      "conv1d (Conv1D)              (None, 35, 16)            1808      \n",
      "_________________________________________________________________\n",
      "max_pooling1d (MaxPooling1D) (None, 7, 16)             0         \n",
      "_________________________________________________________________\n",
      "conv1d_1 (Conv1D)            (None, 1, 16)             1808      \n",
      "_________________________________________________________________\n",
      "global_max_pooling1d (Global (None, 16)                0         \n",
      "_________________________________________________________________\n",
      "dense_2 (Dense)              (None, 8)                 136       \n",
      "_________________________________________________________________\n",
      "dense_3 (Dense)              (None, 1)                 9         \n",
      "=================================================================\n",
      "Total params: 163,761\n",
      "Trainable params: 163,761\n",
      "Non-trainable params: 0\n",
      "_________________________________________________________________\n"
     ]
    }
   ],
   "source": [
    "model2.summary()"
   ]
  },
  {
   "cell_type": "code",
   "execution_count": 16,
   "id": "3bfe3fab",
   "metadata": {},
   "outputs": [
    {
     "name": "stdout",
     "output_type": "stream",
     "text": [
      "Model: \"model_2\"\n",
      "_________________________________________________________________\n",
      "Layer (type)                 Output Shape              Param #   \n",
      "=================================================================\n",
      "input_3 (InputLayer)         [(None, 41)]              0         \n",
      "_________________________________________________________________\n",
      "embedding_2 (Embedding)      (None, 41, 16)            160000    \n",
      "_________________________________________________________________\n",
      "gru (GRU)                    (None, 16)                1632      \n",
      "_________________________________________________________________\n",
      "dense_4 (Dense)              (None, 8)                 136       \n",
      "_________________________________________________________________\n",
      "dense_5 (Dense)              (None, 1)                 9         \n",
      "=================================================================\n",
      "Total params: 161,777\n",
      "Trainable params: 161,777\n",
      "Non-trainable params: 0\n",
      "_________________________________________________________________\n"
     ]
    }
   ],
   "source": [
    "model3.summary()"
   ]
  },
  {
   "cell_type": "markdown",
   "id": "4ec6994e",
   "metadata": {},
   "source": [
    "## 모델 훈련 개시"
   ]
  },
  {
   "cell_type": "code",
   "execution_count": 17,
   "id": "37d2933c",
   "metadata": {},
   "outputs": [],
   "source": [
    "epochs = 20"
   ]
  },
  {
   "cell_type": "markdown",
   "id": "cd8b06ab",
   "metadata": {},
   "source": [
    "- model1 : LSTM(16), Dense(8)"
   ]
  },
  {
   "cell_type": "code",
   "execution_count": 18,
   "id": "5629cc82",
   "metadata": {},
   "outputs": [
    {
     "name": "stdout",
     "output_type": "stream",
     "text": [
      "Epoch 1/20\n",
      "266/266 [==============================] - 5s 7ms/step - loss: 0.4650 - accuracy: 0.7785 - val_loss: 0.3498 - val_accuracy: 0.8484\n",
      "Epoch 2/20\n",
      "266/266 [==============================] - 2s 6ms/step - loss: 0.3339 - accuracy: 0.8581 - val_loss: 0.3386 - val_accuracy: 0.8527\n",
      "Epoch 3/20\n",
      "266/266 [==============================] - 1s 6ms/step - loss: 0.3131 - accuracy: 0.8676 - val_loss: 0.3415 - val_accuracy: 0.8539\n",
      "Epoch 4/20\n",
      "266/266 [==============================] - 1s 5ms/step - loss: 0.3003 - accuracy: 0.8737 - val_loss: 0.3327 - val_accuracy: 0.8566\n",
      "Epoch 5/20\n",
      "266/266 [==============================] - 1s 5ms/step - loss: 0.2893 - accuracy: 0.8787 - val_loss: 0.3391 - val_accuracy: 0.8512\n",
      "Epoch 6/20\n",
      "266/266 [==============================] - 1s 5ms/step - loss: 0.2774 - accuracy: 0.8840 - val_loss: 0.3343 - val_accuracy: 0.8568\n",
      "Epoch 7/20\n",
      "266/266 [==============================] - 1s 5ms/step - loss: 0.2659 - accuracy: 0.8895 - val_loss: 0.3366 - val_accuracy: 0.8552\n",
      "Epoch 8/20\n",
      "266/266 [==============================] - 1s 5ms/step - loss: 0.2541 - accuracy: 0.8939 - val_loss: 0.3466 - val_accuracy: 0.8547\n",
      "Epoch 9/20\n",
      "266/266 [==============================] - 1s 5ms/step - loss: 0.2432 - accuracy: 0.8998 - val_loss: 0.3546 - val_accuracy: 0.8556\n",
      "Epoch 10/20\n",
      "266/266 [==============================] - 1s 5ms/step - loss: 0.2318 - accuracy: 0.9049 - val_loss: 0.3634 - val_accuracy: 0.8562\n",
      "Epoch 11/20\n",
      "266/266 [==============================] - 1s 5ms/step - loss: 0.2201 - accuracy: 0.9104 - val_loss: 0.3725 - val_accuracy: 0.8539\n",
      "Epoch 12/20\n",
      "266/266 [==============================] - 1s 5ms/step - loss: 0.2094 - accuracy: 0.9151 - val_loss: 0.3807 - val_accuracy: 0.8530\n",
      "Epoch 13/20\n",
      "266/266 [==============================] - 1s 5ms/step - loss: 0.1992 - accuracy: 0.9200 - val_loss: 0.4138 - val_accuracy: 0.8515\n",
      "Epoch 14/20\n",
      "266/266 [==============================] - 1s 5ms/step - loss: 0.1911 - accuracy: 0.9229 - val_loss: 0.4183 - val_accuracy: 0.8504\n",
      "Epoch 15/20\n",
      "266/266 [==============================] - 1s 5ms/step - loss: 0.1830 - accuracy: 0.9271 - val_loss: 0.4396 - val_accuracy: 0.8472\n",
      "Epoch 16/20\n",
      "266/266 [==============================] - 1s 5ms/step - loss: 0.1744 - accuracy: 0.9301 - val_loss: 0.4649 - val_accuracy: 0.8461\n",
      "Epoch 17/20\n",
      "266/266 [==============================] - 1s 5ms/step - loss: 0.1673 - accuracy: 0.9337 - val_loss: 0.4779 - val_accuracy: 0.8461\n",
      "Epoch 18/20\n",
      "266/266 [==============================] - 1s 5ms/step - loss: 0.1588 - accuracy: 0.9365 - val_loss: 0.4867 - val_accuracy: 0.8436\n",
      "Epoch 19/20\n",
      "266/266 [==============================] - 1s 5ms/step - loss: 0.1542 - accuracy: 0.9388 - val_loss: 0.4901 - val_accuracy: 0.8431\n",
      "Epoch 20/20\n",
      "266/266 [==============================] - 1s 5ms/step - loss: 0.1495 - accuracy: 0.9412 - val_loss: 0.5147 - val_accuracy: 0.8412\n"
     ]
    }
   ],
   "source": [
    "model1.compile(optimizer='adam',\n",
    "              loss='binary_crossentropy',\n",
    "              metrics=['accuracy'])\n",
    "              \n",
    "history1 = model1.fit(partial_x_train,\n",
    "                    partial_y_train,\n",
    "                    epochs=epochs,\n",
    "                    batch_size=512,\n",
    "                    validation_data=(x_val, y_val),\n",
    "                    verbose=1)"
   ]
  },
  {
   "cell_type": "code",
   "execution_count": 19,
   "id": "19f73e5c",
   "metadata": {},
   "outputs": [
    {
     "name": "stdout",
     "output_type": "stream",
     "text": [
      "1537/1537 - 3s - loss: 0.5318 - accuracy: 0.8368\n",
      "[0.5317835807800293, 0.8367679119110107]\n"
     ]
    }
   ],
   "source": [
    "results1 = model1.evaluate(x_test,  y_test, verbose=2)\n",
    "print(results1)"
   ]
  },
  {
   "cell_type": "markdown",
   "id": "b03047aa",
   "metadata": {},
   "source": [
    "- model2 : Conv(16)x2, Dense(8)"
   ]
  },
  {
   "cell_type": "code",
   "execution_count": 20,
   "id": "4e30e84b",
   "metadata": {},
   "outputs": [
    {
     "name": "stdout",
     "output_type": "stream",
     "text": [
      "Epoch 1/20\n",
      "266/266 [==============================] - 3s 5ms/step - loss: 0.4931 - accuracy: 0.7520 - val_loss: 0.3505 - val_accuracy: 0.8501\n",
      "Epoch 2/20\n",
      "266/266 [==============================] - 1s 5ms/step - loss: 0.3324 - accuracy: 0.8594 - val_loss: 0.3378 - val_accuracy: 0.8530\n",
      "Epoch 3/20\n",
      "266/266 [==============================] - 1s 5ms/step - loss: 0.3040 - accuracy: 0.8727 - val_loss: 0.3342 - val_accuracy: 0.8536\n",
      "Epoch 4/20\n",
      "266/266 [==============================] - 1s 5ms/step - loss: 0.2802 - accuracy: 0.8852 - val_loss: 0.3333 - val_accuracy: 0.8574\n",
      "Epoch 5/20\n",
      "266/266 [==============================] - 1s 4ms/step - loss: 0.2563 - accuracy: 0.8970 - val_loss: 0.3407 - val_accuracy: 0.8531\n",
      "Epoch 6/20\n",
      "266/266 [==============================] - 1s 5ms/step - loss: 0.2286 - accuracy: 0.9107 - val_loss: 0.3522 - val_accuracy: 0.8524\n",
      "Epoch 7/20\n",
      "266/266 [==============================] - 1s 5ms/step - loss: 0.1995 - accuracy: 0.9251 - val_loss: 0.3750 - val_accuracy: 0.8462\n",
      "Epoch 8/20\n",
      "266/266 [==============================] - 1s 5ms/step - loss: 0.1717 - accuracy: 0.9377 - val_loss: 0.4058 - val_accuracy: 0.8455\n",
      "Epoch 9/20\n",
      "266/266 [==============================] - 1s 5ms/step - loss: 0.1450 - accuracy: 0.9506 - val_loss: 0.4445 - val_accuracy: 0.8423\n",
      "Epoch 10/20\n",
      "266/266 [==============================] - 1s 5ms/step - loss: 0.1227 - accuracy: 0.9600 - val_loss: 0.4958 - val_accuracy: 0.8369\n",
      "Epoch 11/20\n",
      "266/266 [==============================] - 1s 5ms/step - loss: 0.1058 - accuracy: 0.9665 - val_loss: 0.5452 - val_accuracy: 0.8353\n",
      "Epoch 12/20\n",
      "266/266 [==============================] - 1s 4ms/step - loss: 0.0920 - accuracy: 0.9718 - val_loss: 0.5760 - val_accuracy: 0.8294\n",
      "Epoch 13/20\n",
      "266/266 [==============================] - 1s 5ms/step - loss: 0.0807 - accuracy: 0.9761 - val_loss: 0.6189 - val_accuracy: 0.8279\n",
      "Epoch 14/20\n",
      "266/266 [==============================] - 1s 5ms/step - loss: 0.0717 - accuracy: 0.9789 - val_loss: 0.6623 - val_accuracy: 0.8252\n",
      "Epoch 15/20\n",
      "266/266 [==============================] - 1s 5ms/step - loss: 0.0648 - accuracy: 0.9813 - val_loss: 0.7288 - val_accuracy: 0.8235\n",
      "Epoch 16/20\n",
      "266/266 [==============================] - 1s 5ms/step - loss: 0.0584 - accuracy: 0.9830 - val_loss: 0.7570 - val_accuracy: 0.8263\n",
      "Epoch 17/20\n",
      "266/266 [==============================] - 1s 4ms/step - loss: 0.0542 - accuracy: 0.9840 - val_loss: 0.7886 - val_accuracy: 0.8235\n",
      "Epoch 18/20\n",
      "266/266 [==============================] - 1s 4ms/step - loss: 0.0500 - accuracy: 0.9855 - val_loss: 0.8495 - val_accuracy: 0.8216\n",
      "Epoch 19/20\n",
      "266/266 [==============================] - 1s 5ms/step - loss: 0.0458 - accuracy: 0.9864 - val_loss: 0.8989 - val_accuracy: 0.8187\n",
      "Epoch 20/20\n",
      "266/266 [==============================] - 1s 5ms/step - loss: 0.0429 - accuracy: 0.9877 - val_loss: 0.9179 - val_accuracy: 0.8171\n"
     ]
    }
   ],
   "source": [
    "model2.compile(optimizer='adam',\n",
    "              loss='binary_crossentropy',\n",
    "              metrics=['accuracy'])\n",
    "              \n",
    "history2 = model2.fit(partial_x_train,\n",
    "                    partial_y_train,\n",
    "                    epochs=epochs,\n",
    "                    batch_size=512,\n",
    "                    validation_data=(x_val, y_val),\n",
    "                    verbose=1)"
   ]
  },
  {
   "cell_type": "code",
   "execution_count": 21,
   "id": "f8b7173f",
   "metadata": {},
   "outputs": [
    {
     "name": "stdout",
     "output_type": "stream",
     "text": [
      "1537/1537 - 3s - loss: 0.9406 - accuracy: 0.8160\n",
      "[0.940577507019043, 0.8160180449485779]\n"
     ]
    }
   ],
   "source": [
    "results2 = model2.evaluate(x_test,  y_test, verbose=2)\n",
    "print(results2)"
   ]
  },
  {
   "cell_type": "markdown",
   "id": "a39d07cd",
   "metadata": {},
   "source": [
    "- model3 : GRU(16), Dense(8)"
   ]
  },
  {
   "cell_type": "code",
   "execution_count": 28,
   "id": "5c4fa028",
   "metadata": {},
   "outputs": [
    {
     "name": "stdout",
     "output_type": "stream",
     "text": [
      "Epoch 1/20\n",
      "266/266 [==============================] - 3s 6ms/step - loss: 0.4713 - accuracy: 0.7739 - val_loss: 0.3524 - val_accuracy: 0.8460\n",
      "Epoch 2/20\n",
      "266/266 [==============================] - 1s 5ms/step - loss: 0.3373 - accuracy: 0.8577 - val_loss: 0.3462 - val_accuracy: 0.8499\n",
      "Epoch 3/20\n",
      "266/266 [==============================] - 1s 5ms/step - loss: 0.3214 - accuracy: 0.8667 - val_loss: 0.3459 - val_accuracy: 0.8498\n",
      "Epoch 4/20\n",
      "266/266 [==============================] - 1s 5ms/step - loss: 0.3125 - accuracy: 0.8717 - val_loss: 0.3434 - val_accuracy: 0.8487\n",
      "Epoch 5/20\n",
      "266/266 [==============================] - 1s 5ms/step - loss: 0.3046 - accuracy: 0.8754 - val_loss: 0.3438 - val_accuracy: 0.8510\n",
      "Epoch 6/20\n",
      "266/266 [==============================] - 1s 5ms/step - loss: 0.2977 - accuracy: 0.8786 - val_loss: 0.3412 - val_accuracy: 0.8533\n",
      "Epoch 7/20\n",
      "266/266 [==============================] - 1s 5ms/step - loss: 0.2905 - accuracy: 0.8818 - val_loss: 0.3406 - val_accuracy: 0.8562\n",
      "Epoch 8/20\n",
      "266/266 [==============================] - 1s 5ms/step - loss: 0.2823 - accuracy: 0.8858 - val_loss: 0.3437 - val_accuracy: 0.8563\n",
      "Epoch 9/20\n",
      "266/266 [==============================] - 1s 5ms/step - loss: 0.2734 - accuracy: 0.8898 - val_loss: 0.3413 - val_accuracy: 0.8550\n",
      "Epoch 10/20\n",
      "266/266 [==============================] - 1s 5ms/step - loss: 0.2626 - accuracy: 0.8948 - val_loss: 0.3557 - val_accuracy: 0.8546\n",
      "Epoch 11/20\n",
      "266/266 [==============================] - 1s 5ms/step - loss: 0.2513 - accuracy: 0.8996 - val_loss: 0.3497 - val_accuracy: 0.8539\n",
      "Epoch 12/20\n",
      "266/266 [==============================] - 1s 5ms/step - loss: 0.2405 - accuracy: 0.9047 - val_loss: 0.3611 - val_accuracy: 0.8538\n",
      "Epoch 13/20\n",
      "266/266 [==============================] - 1s 5ms/step - loss: 0.2302 - accuracy: 0.9084 - val_loss: 0.3745 - val_accuracy: 0.8535\n",
      "Epoch 14/20\n",
      "266/266 [==============================] - 1s 5ms/step - loss: 0.2206 - accuracy: 0.9124 - val_loss: 0.3722 - val_accuracy: 0.8543\n",
      "Epoch 15/20\n",
      "266/266 [==============================] - 1s 5ms/step - loss: 0.2131 - accuracy: 0.9157 - val_loss: 0.4004 - val_accuracy: 0.8539\n",
      "Epoch 16/20\n",
      "266/266 [==============================] - 1s 5ms/step - loss: 0.2037 - accuracy: 0.9202 - val_loss: 0.4134 - val_accuracy: 0.8499\n",
      "Epoch 17/20\n",
      "266/266 [==============================] - 1s 5ms/step - loss: 0.1966 - accuracy: 0.9228 - val_loss: 0.4212 - val_accuracy: 0.8511\n",
      "Epoch 18/20\n",
      "266/266 [==============================] - 1s 5ms/step - loss: 0.1896 - accuracy: 0.9263 - val_loss: 0.4421 - val_accuracy: 0.8481\n",
      "Epoch 19/20\n",
      "266/266 [==============================] - 1s 5ms/step - loss: 0.1841 - accuracy: 0.9284 - val_loss: 0.4582 - val_accuracy: 0.8460\n",
      "Epoch 20/20\n",
      "266/266 [==============================] - 1s 5ms/step - loss: 0.1762 - accuracy: 0.9319 - val_loss: 0.4620 - val_accuracy: 0.8465\n"
     ]
    }
   ],
   "source": [
    "model3.compile(optimizer='adam',\n",
    "              loss='binary_crossentropy',\n",
    "              metrics=['accuracy'])\n",
    "              \n",
    "history3 = model3.fit(partial_x_train,\n",
    "                    partial_y_train,\n",
    "                    epochs=epochs,\n",
    "                    batch_size=512,\n",
    "                    validation_data=(x_val, y_val),\n",
    "                    verbose=1)"
   ]
  },
  {
   "cell_type": "code",
   "execution_count": 29,
   "id": "f3ba6999",
   "metadata": {},
   "outputs": [
    {
     "name": "stdout",
     "output_type": "stream",
     "text": [
      "1537/1537 - 3s - loss: 0.4666 - accuracy: 0.8429\n",
      "[0.46661612391471863, 0.8429318070411682]\n"
     ]
    }
   ],
   "source": [
    "results3 = model3.evaluate(x_test,  y_test, verbose=2)\n",
    "print(results3)"
   ]
  },
  {
   "cell_type": "markdown",
   "id": "b5b07905",
   "metadata": {},
   "source": [
    "## Loss, Accuracy 그래프 시각화"
   ]
  },
  {
   "cell_type": "code",
   "execution_count": 24,
   "id": "e579f05b",
   "metadata": {},
   "outputs": [],
   "source": [
    "import matplotlib.pyplot as plt\n",
    "\n",
    "def result_visualization(history):\n",
    "    history_dict = history.history\n",
    "    acc = history_dict['accuracy']\n",
    "    val_acc = history_dict['val_accuracy']\n",
    "    loss = history_dict['loss']\n",
    "    val_loss = history_dict['val_loss']\n",
    "\n",
    "    epochs = range(1, len(acc) + 1)\n",
    "    \n",
    "    plt.figure(figsize=(12,6))\n",
    "    plt.subplot(1,2,1)\n",
    "    plt.plot(epochs, loss, label='Training loss', color='orange', marker='o')\n",
    "    plt.plot(epochs, val_loss, 'b', label='Validation loss')\n",
    "    plt.title('Training and validation loss')\n",
    "    plt.xlabel('Epochs')\n",
    "    plt.ylabel('Loss')\n",
    "    plt.legend()\n",
    "    \n",
    "    plt.subplot(1,2,2)\n",
    "    plt.plot(epochs, acc, label='Training acc', color='orange', marker='o')\n",
    "    plt.plot(epochs, val_acc, 'b', label='Validation acc')\n",
    "    plt.title('Training and validation accuracy')\n",
    "    plt.xlabel('Epochs')\n",
    "    plt.ylabel('Accuracy')\n",
    "    plt.legend()\n",
    "\n",
    "    plt.show()"
   ]
  },
  {
   "cell_type": "markdown",
   "id": "a6bbbf70",
   "metadata": {},
   "source": [
    "### LSTM 모델"
   ]
  },
  {
   "cell_type": "code",
   "execution_count": 31,
   "id": "911fbd96",
   "metadata": {},
   "outputs": [
    {
     "name": "stdout",
     "output_type": "stream",
     "text": [
      "1537/1537 - 3s - loss: 0.5318 - accuracy: 0.8368\n",
      "[0.5317835807800293, 0.8367679119110107]\n"
     ]
    },
    {
     "data": {
      "image/png": "[encoded data removed]",
      "text/plain": [
       "<Figure size 864x432 with 2 Axes>"
      ]
     },
     "metadata": {
      "needs_background": "light"
     },
     "output_type": "display_data"
    }
   ],
   "source": [
    "results1 = model1.evaluate(x_test,  y_test, verbose=2)\n",
    "print(results1)\n",
    "result_visualization(history1)"
   ]
  },
  {
   "cell_type": "markdown",
   "id": "c8747494",
   "metadata": {},
   "source": [
    "### 1D conv"
   ]
  },
  {
   "cell_type": "code",
   "execution_count": 32,
   "id": "6062aed7",
   "metadata": {},
   "outputs": [
    {
     "name": "stdout",
     "output_type": "stream",
     "text": [
      "1537/1537 - 3s - loss: 1.5414 - accuracy: 0.8071\n",
      "[1.5413678884506226, 0.8071281909942627]\n"
     ]
    },
    {
     "data": {
      "image/png": "[encoded data removed]",
      "text/plain": [
       "<Figure size 864x432 with 2 Axes>"
      ]
     },
     "metadata": {
      "needs_background": "light"
     },
     "output_type": "display_data"
    }
   ],
   "source": [
    "results2 = model2.evaluate(x_test,  y_test, verbose=2)\n",
    "print(results2)\n",
    "result_visualization(history2)"
   ]
  },
  {
   "cell_type": "markdown",
   "id": "28b2c4a8",
   "metadata": {},
   "source": [
    "### GRU"
   ]
  },
  {
   "cell_type": "code",
   "execution_count": 33,
   "id": "1a5c64f7",
   "metadata": {},
   "outputs": [
    {
     "name": "stdout",
     "output_type": "stream",
     "text": [
      "1537/1537 - 3s - loss: 0.4666 - accuracy: 0.8429\n",
      "[0.46661612391471863, 0.8429318070411682]\n"
     ]
    },
    {
     "data": {
      "image/png": "[encoded data removed]",
      "text/plain": [
       "<Figure size 864x432 with 2 Axes>"
      ]
     },
     "metadata": {
      "needs_background": "light"
     },
     "output_type": "display_data"
    }
   ],
   "source": [
    "results3 = model3.evaluate(x_test,  y_test, verbose=2)\n",
    "print(results3)\n",
    "result_visualization(history3)"
   ]
  },
  {
   "cell_type": "markdown",
   "id": "2ec57c0d",
   "metadata": {},
   "source": [
    "### 모델 3개 비교\n",
    "- LSTM은 무난하게 결과가 나온 것 같다\n",
    "- 1D conv는 두개에 비해 결과가 가장 안좋게 나왔다\n",
    "- **GRU를 사용한게 가장 결과가 좋게 나왔다**"
   ]
  },
  {
   "cell_type": "markdown",
   "id": "e323a83a",
   "metadata": {},
   "source": [
    "## 학습된 Embedding 레이어 분석"
   ]
  },
  {
   "cell_type": "code",
   "execution_count": 36,
   "id": "6d71e4f1",
   "metadata": {},
   "outputs": [
    {
     "name": "stdout",
     "output_type": "stream",
     "text": [
      "(10000, 16)\n"
     ]
    }
   ],
   "source": [
    "embedding_layer = model3.layers[1]\n",
    "weights = embedding_layer.get_weights()[0]\n",
    "print(weights.shape)    # shape: (vocab_size, embedding_dim)"
   ]
  },
  {
   "cell_type": "markdown",
   "id": "fcf8d3b4",
   "metadata": {},
   "source": [
    "## 한국어 Word2Vec 임베딩 활용하여 성능 개선"
   ]
  },
  {
   "cell_type": "code",
   "execution_count": 69,
   "id": "b4150822",
   "metadata": {},
   "outputs": [],
   "source": [
    "import os\n",
    "from gensim.models.keyedvectors import Word2VecKeyedVectors\n",
    "\n",
    "word2vec_file_path = os.getenv('HOME')+'/data/word2vec_ko.model'\n",
    "word_vectors = Word2VecKeyedVectors.load(word2vec_file_path)"
   ]
  },
  {
   "cell_type": "code",
   "execution_count": 45,
   "id": "75dd7f02",
   "metadata": {},
   "outputs": [],
   "source": [
    "from tensorflow.keras.initializers import Constant\n",
    "\n",
    "vocab_size = 10000    # 어휘 사전의 크기이다(10,000개의 단어)\n",
    "word_vector_dim = 100  # 워드 벡터의 차원수\n",
    "embedding_matrix = np.random.rand(vocab_size, word_vector_dim)\n",
    "\n",
    "# embedding_matrix에 Word2Vec 워드 벡터를 단어 하나씩마다 차례차례 카피한다\n",
    "for i in range(4, vocab_size):\n",
    "    if index_to_word[i] in word_vectors.wv:\n",
    "        embedding_matrix[i] = word_vectors.wv[index_to_word[i]]"
   ]
  },
  {
   "cell_type": "code",
   "execution_count": 62,
   "id": "bea7231a",
   "metadata": {},
   "outputs": [],
   "source": [
    "# model4 : GRU(64), GRU(64), Dense(32), Dense(8)\n",
    "inputs = keras.Input(shape=(41, ))\n",
    "x = keras.layers.Embedding(\n",
    "        vocab_size, \n",
    "        word_vector_dim, \n",
    "        embeddings_initializer=Constant(embedding_matrix),  # 카피한 임베딩을 여기서 활용\n",
    "        input_length=maxlen, \n",
    "        trainable=True)(inputs)\n",
    "\n",
    "x = keras.layers.GRU(64, return_sequences=True)(x)\n",
    "x = keras.layers.GRU(64, return_sequences=False)(x)\n",
    "x = keras.layers.Dense(32, activation=\"relu\")(x)\n",
    "x = keras.layers.Dense(8, activation=\"relu\")(x)\n",
    "outputs = keras.layers.Dense(1, activation=\"sigmoid\")(x)\n",
    "model4 = keras.Model(inputs, outputs)"
   ]
  },
  {
   "cell_type": "code",
   "execution_count": 63,
   "id": "b8cb77d6",
   "metadata": {},
   "outputs": [
    {
     "name": "stdout",
     "output_type": "stream",
     "text": [
      "Model: \"model_8\"\n",
      "_________________________________________________________________\n",
      "Layer (type)                 Output Shape              Param #   \n",
      "=================================================================\n",
      "input_9 (InputLayer)         [(None, 41)]              0         \n",
      "_________________________________________________________________\n",
      "embedding_8 (Embedding)      (None, 41, 100)           1000000   \n",
      "_________________________________________________________________\n",
      "gru_10 (GRU)                 (None, 41, 64)            31872     \n",
      "_________________________________________________________________\n",
      "gru_11 (GRU)                 (None, 64)                24960     \n",
      "_________________________________________________________________\n",
      "dense_19 (Dense)             (None, 32)                2080      \n",
      "_________________________________________________________________\n",
      "dense_20 (Dense)             (None, 8)                 264       \n",
      "_________________________________________________________________\n",
      "dense_21 (Dense)             (None, 1)                 9         \n",
      "=================================================================\n",
      "Total params: 1,059,185\n",
      "Trainable params: 1,059,185\n",
      "Non-trainable params: 0\n",
      "_________________________________________________________________\n"
     ]
    }
   ],
   "source": [
    "model4.summary()"
   ]
  },
  {
   "cell_type": "code",
   "execution_count": 64,
   "id": "f95a3f73",
   "metadata": {},
   "outputs": [
    {
     "name": "stdout",
     "output_type": "stream",
     "text": [
      "Epoch 1/20\n",
      "266/266 [==============================] - 5s 11ms/step - loss: 0.4632 - accuracy: 0.7768 - val_loss: 0.3692 - val_accuracy: 0.8376\n",
      "Epoch 2/20\n",
      "266/266 [==============================] - 2s 9ms/step - loss: 0.3450 - accuracy: 0.8489 - val_loss: 0.3275 - val_accuracy: 0.8558\n",
      "Epoch 3/20\n",
      "266/266 [==============================] - 2s 9ms/step - loss: 0.3031 - accuracy: 0.8705 - val_loss: 0.3162 - val_accuracy: 0.8634\n",
      "Epoch 4/20\n",
      "266/266 [==============================] - 2s 9ms/step - loss: 0.2767 - accuracy: 0.8839 - val_loss: 0.3136 - val_accuracy: 0.8639\n",
      "Epoch 5/20\n",
      "266/266 [==============================] - 2s 9ms/step - loss: 0.2575 - accuracy: 0.8939 - val_loss: 0.3109 - val_accuracy: 0.8644\n",
      "Epoch 6/20\n",
      "266/266 [==============================] - 2s 9ms/step - loss: 0.2414 - accuracy: 0.9015 - val_loss: 0.3211 - val_accuracy: 0.8680\n",
      "Epoch 7/20\n",
      "266/266 [==============================] - 2s 9ms/step - loss: 0.2235 - accuracy: 0.9096 - val_loss: 0.3182 - val_accuracy: 0.8705\n",
      "Epoch 8/20\n",
      "266/266 [==============================] - 2s 9ms/step - loss: 0.2087 - accuracy: 0.9169 - val_loss: 0.3263 - val_accuracy: 0.8639\n",
      "Epoch 9/20\n",
      "266/266 [==============================] - 2s 9ms/step - loss: 0.1917 - accuracy: 0.9251 - val_loss: 0.3432 - val_accuracy: 0.8676\n",
      "Epoch 10/20\n",
      "266/266 [==============================] - 2s 9ms/step - loss: 0.1751 - accuracy: 0.9327 - val_loss: 0.3531 - val_accuracy: 0.8602\n",
      "Epoch 11/20\n",
      "266/266 [==============================] - 2s 9ms/step - loss: 0.1587 - accuracy: 0.9399 - val_loss: 0.3829 - val_accuracy: 0.8643\n",
      "Epoch 12/20\n",
      "266/266 [==============================] - 2s 9ms/step - loss: 0.1417 - accuracy: 0.9473 - val_loss: 0.4139 - val_accuracy: 0.8624\n",
      "Epoch 13/20\n",
      "266/266 [==============================] - 2s 9ms/step - loss: 0.1273 - accuracy: 0.9534 - val_loss: 0.4279 - val_accuracy: 0.8568\n",
      "Epoch 14/20\n",
      "266/266 [==============================] - 2s 9ms/step - loss: 0.1142 - accuracy: 0.9587 - val_loss: 0.4614 - val_accuracy: 0.8567\n",
      "Epoch 15/20\n",
      "266/266 [==============================] - 2s 9ms/step - loss: 0.1009 - accuracy: 0.9642 - val_loss: 0.4989 - val_accuracy: 0.8566\n",
      "Epoch 16/20\n",
      "266/266 [==============================] - 2s 9ms/step - loss: 0.0899 - accuracy: 0.9681 - val_loss: 0.5345 - val_accuracy: 0.8543\n",
      "Epoch 17/20\n",
      "266/266 [==============================] - 2s 9ms/step - loss: 0.0824 - accuracy: 0.9708 - val_loss: 0.5551 - val_accuracy: 0.8584\n",
      "Epoch 18/20\n",
      "266/266 [==============================] - 2s 9ms/step - loss: 0.0709 - accuracy: 0.9753 - val_loss: 0.6100 - val_accuracy: 0.8579\n",
      "Epoch 19/20\n",
      "266/266 [==============================] - 2s 9ms/step - loss: 0.0636 - accuracy: 0.9774 - val_loss: 0.6546 - val_accuracy: 0.8530\n",
      "Epoch 20/20\n",
      "266/266 [==============================] - 2s 9ms/step - loss: 0.0579 - accuracy: 0.9795 - val_loss: 0.7315 - val_accuracy: 0.8524\n"
     ]
    }
   ],
   "source": [
    "model4.compile(optimizer='adam',\n",
    "              loss='binary_crossentropy',\n",
    "              metrics=['accuracy'])\n",
    "\n",
    "epochs = 20\n",
    "              \n",
    "history4 = model4.fit(partial_x_train,\n",
    "                    partial_y_train,\n",
    "                    epochs=epochs,\n",
    "                    batch_size=512,\n",
    "                    validation_data=(x_val, y_val),\n",
    "                    verbose=1)"
   ]
  },
  {
   "cell_type": "code",
   "execution_count": 65,
   "id": "cda425e5",
   "metadata": {},
   "outputs": [
    {
     "name": "stdout",
     "output_type": "stream",
     "text": [
      "1537/1537 - 4s - loss: 0.7540 - accuracy: 0.8507\n",
      "[0.7539853453636169, 0.8507028222084045]\n"
     ]
    },
    {
     "data": {
      "image/png": "[encoded data removed]",
      "text/plain": [
       "<Figure size 864x432 with 2 Axes>"
      ]
     },
     "metadata": {
      "needs_background": "light"
     },
     "output_type": "display_data"
    }
   ],
   "source": [
    "results4 = model4.evaluate(x_test,  y_test, verbose=2)\n",
    "print(results4)\n",
    "result_visualization(history4)"
   ]
  },
  {
   "cell_type": "markdown",
   "id": "a2c56832",
   "metadata": {},
   "source": [
    "- **드디어 정확도 85%를 넘겼다!!**"
   ]
  },
  {
   "cell_type": "markdown",
   "id": "cbbbec20",
   "metadata": {},
   "source": [
    "## 회고\n",
    "여러 모델의 차이를 비교하고 분석하는 과정이 재밌었다  \n",
    "근소한 차이로 정확도가 85%를 넘기지 못하고 있었는데 마지막에 85%를 도달할 수 있어서 뿌듯했다  \n",
    "레이어를 추가하거나 파라미터를 더욱 다양하게 바꾸며 결과가 어떻게 변하는지 추가적인 실험을 하고 싶다"
   ]
  },
  {
   "cell_type": "code",
   "execution_count": null,
   "id": "ff015caf",
   "metadata": {},
   "outputs": [],
   "source": []
  }
 ],
 "metadata": {
  "kernelspec": {
   "display_name": "Python 3 (ipykernel)",
   "language": "python",
   "name": "python3"
  },
  "language_info": {
   "codemirror_mode": {
    "name": "ipython",
    "version": 3
   },
   "file_extension": ".py",
   "mimetype": "text/x-python",
   "name": "python",
   "nbconvert_exporter": "python",
   "pygments_lexer": "ipython3",
   "version": "3.9.7"
  }
 },
 "nbformat": 4,
 "nbformat_minor": 5
}
